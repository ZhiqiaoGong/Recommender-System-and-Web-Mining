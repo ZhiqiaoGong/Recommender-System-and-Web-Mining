{
 "cells": [
  {
   "cell_type": "code",
   "execution_count": 4,
   "id": "0f55c023",
   "metadata": {},
   "outputs": [],
   "source": [
    "import gzip\n",
    "from collections import defaultdict\n",
    "import math\n",
    "import scipy.optimize\n",
    "from sklearn import svm\n",
    "import numpy\n",
    "import string\n",
    "import random\n",
    "import string\n",
    "from sklearn import linear_model\n",
    "from sklearn.metrics import mean_squared_error\n",
    "from scipy.spatial import distance\n",
    "from implicit import bpr"
   ]
  },
  {
   "cell_type": "code",
   "execution_count": 8,
   "id": "005c1a02-c5bf-4241-8d00-dc260d36f08f",
   "metadata": {},
   "outputs": [],
   "source": [
    "def assertFloat(x):\n",
    "    assert type(float(x)) == float\n",
    "\n",
    "def assertFloatList(items, N):\n",
    "    assert len(items) == N\n",
    "    assert [type(float(x)) for x in items] == [float]*N"
   ]
  },
  {
   "cell_type": "code",
   "execution_count": 9,
   "id": "cb2abe72",
   "metadata": {},
   "outputs": [],
   "source": [
    "def readGz(path):\n",
    "    for l in gzip.open(path, 'rt'):\n",
    "        yield eval(l)"
   ]
  },
  {
   "cell_type": "code",
   "execution_count": 10,
   "id": "e54fa48f",
   "metadata": {},
   "outputs": [],
   "source": [
    "def readJSON(path):\n",
    "    f = gzip.open(path, 'rt')\n",
    "    f.readline()\n",
    "    for l in f:\n",
    "        d = eval(l)\n",
    "        u = d['userID']\n",
    "        g = d['gameID']\n",
    "        yield u,g,d"
   ]
  },
  {
   "cell_type": "code",
   "execution_count": null,
   "id": "b71c50f6-e538-47cd-b8bb-097dc8817404",
   "metadata": {},
   "outputs": [],
   "source": [
    "##################################################\n",
    "# Play prediction                                #\n",
    "##################################################"
   ]
  },
  {
   "cell_type": "code",
   "execution_count": 11,
   "id": "c215087c",
   "metadata": {},
   "outputs": [],
   "source": [
    "answers = {}"
   ]
  },
  {
   "cell_type": "code",
   "execution_count": 12,
   "id": "e72d24da",
   "metadata": {},
   "outputs": [],
   "source": [
    "allHours = []\n",
    "for l in readJSON(\"/Users/zhiqiaogong/Projects/JupyterNotebook/cse258/hw3/train.json.gz\"):\n",
    "    allHours.append(l)"
   ]
  },
  {
   "cell_type": "code",
   "execution_count": 13,
   "id": "462bd9bd-b657-4571-8fef-eee11d852099",
   "metadata": {},
   "outputs": [],
   "source": [
    "hoursTrain = allHours[:165000]\n",
    "hoursValid = allHours[165000:]\n",
    "hoursPerUser = defaultdict(list)\n",
    "hoursPerItem = defaultdict(list)\n",
    "for u,g,d in hoursTrain:\n",
    "    r = d['hours_transformed']\n",
    "    hoursPerUser[u].append((g,r))\n",
    "    hoursPerItem[g].append((u,r))"
   ]
  },
  {
   "cell_type": "code",
   "execution_count": 24,
   "id": "e3b613ee-7122-48a6-9bd8-894944280cee",
   "metadata": {},
   "outputs": [
    {
     "data": {
      "text/plain": [
       "('u70666506',\n",
       " 'g49368897',\n",
       " {'userID': 'u70666506',\n",
       "  'early_access': False,\n",
       "  'hours': 63.5,\n",
       "  'hours_transformed': 6.011227255423254,\n",
       "  'found_funny': 1,\n",
       "  'text': 'If you want to sit in queue for 10-20min and have 140 ping then this game is perfect for you :)',\n",
       "  'gameID': 'g49368897',\n",
       "  'user_id': '76561198030408772',\n",
       "  'date': '2017-05-20'})"
      ]
     },
     "execution_count": 24,
     "metadata": {},
     "output_type": "execute_result"
    }
   ],
   "source": [
    "allHours[0]"
   ]
  },
  {
   "cell_type": "code",
   "execution_count": 43,
   "id": "6fdd30f5-988b-4a8f-95ec-471fda82883c",
   "metadata": {},
   "outputs": [],
   "source": [
    "def UsersGames(data):\n",
    "    usergames = defaultdict(set)\n",
    "    gameusers = defaultdict(set)\n",
    "    for u, g, d in data:\n",
    "        usergames[u].add(g)\n",
    "        gameusers[g].add(u)\n",
    "    return usergames, gameusers"
   ]
  },
  {
   "cell_type": "code",
   "execution_count": 44,
   "id": "23ce9f0d-11ae-418f-bb1c-2cc5519ab2bd",
   "metadata": {},
   "outputs": [],
   "source": [
    "userSet = set()\n",
    "gameSet = set()\n",
    "playedSet = set()\n",
    "\n",
    "for u,g,d in allHours:\n",
    "    userSet.add(u)\n",
    "    gameSet.add(g)\n",
    "    playedSet.add((u,g))\n",
    "\n",
    "lUserSet = list(userSet)\n",
    "lGameSet = list(gameSet)\n",
    "\n",
    "# notPlayedValid = set()\n",
    "# for u,g,d in hoursValid:\n",
    "#     g = random.choice(lGameSet)\n",
    "#     while (u,g) in playedSet or (u,g) in notPlayedValid:\n",
    "#         g = random.choice(lGameSet)\n",
    "#     notPlayedValid.add((u,g))\n",
    "\n",
    "# playedValid = set()\n",
    "# for u,g,r in hoursValid:\n",
    "#     playedValid.add((u,g))\n",
    "allGames = set([g for u, g, d in hoursTrain + hoursValid])\n",
    "\n",
    "usergames,gameusers = UsersGames(hoursTrain + hoursValid)\n",
    "\n",
    "augmentedValidationSet = []\n",
    "\n",
    "valid1 = []\n",
    "valid2 = []\n",
    "\n",
    "for u,i,d in hoursValid:\n",
    "    valid1.append((u, i, 1))\n",
    "    valid2.append((u, random.choice(list(allGames - usergames[u])), 0))\n",
    "augmentedValidationSet = valid1 + valid2"
   ]
  },
  {
   "cell_type": "code",
   "execution_count": 36,
   "id": "223e70aa-98cc-4395-9737-0a1ed928d447",
   "metadata": {},
   "outputs": [],
   "source": [
    "userIDs,gameIDs = {},{}\n",
    "\n",
    "for u,i,d in allHours:\n",
    "    u,i = d['userID'],d['gameID']\n",
    "    if not u in userIDs: userIDs[u] = len(userIDs)\n",
    "    if not i in gameIDs: gameIDs[i] = len(gameIDs)\n",
    "\n",
    "nUsers,nGames = len(userIDs),len(gameIDs)"
   ]
  },
  {
   "cell_type": "code",
   "execution_count": 19,
   "id": "552ee3d0-7673-414d-a061-7c97d5f26d55",
   "metadata": {},
   "outputs": [],
   "source": [
    "Xui = scipy.sparse.lil_matrix((nUsers, nGames))\n",
    "for u,g,d in allHours:\n",
    "    Xui[userIDs[u],gameIDs[g]] = 1\n",
    "    \n",
    "Xui_csr = scipy.sparse.csr_matrix(Xui)"
   ]
  },
  {
   "cell_type": "code",
   "execution_count": 231,
   "id": "15dc4fed-de7a-4d7e-948c-f6ecad25b152",
   "metadata": {},
   "outputs": [],
   "source": [
    "model = bpr.BayesianPersonalizedRanking(factors = 70)"
   ]
  },
  {
   "cell_type": "code",
   "execution_count": 232,
   "id": "71027779-6ec5-4af6-bf8d-0f00daae2a3b",
   "metadata": {},
   "outputs": [
    {
     "data": {
      "application/vnd.jupyter.widget-view+json": {
       "model_id": "bc718d8799a7408684185b359dac1882",
       "version_major": 2,
       "version_minor": 0
      },
      "text/plain": [
       "  0%|          | 0/100 [00:00<?, ?it/s]"
      ]
     },
     "metadata": {},
     "output_type": "display_data"
    }
   ],
   "source": [
    "model.fit(Xui_csr)"
   ]
  },
  {
   "cell_type": "code",
   "execution_count": 233,
   "id": "25831e4f-f116-4d00-9569-2a94bca7c969",
   "metadata": {},
   "outputs": [],
   "source": [
    "recommended = model.recommend(0, Xui_csr[0])\n",
    "related = model.similar_items(0)"
   ]
  },
  {
   "cell_type": "code",
   "execution_count": 234,
   "id": "2ed24995-54e7-454c-b7cc-57add7b07bce",
   "metadata": {},
   "outputs": [
    {
     "data": {
      "text/plain": [
       "(array([   0, 1583, 2316,  467,  424, 1905, 2244,  920,  403, 2239],\n",
       "       dtype=int32),\n",
       " array([1.        , 0.5412232 , 0.52045715, 0.51558983, 0.5035139 ,\n",
       "        0.49223498, 0.48299164, 0.4780567 , 0.47713125, 0.46985027],\n",
       "       dtype=float32))"
      ]
     },
     "execution_count": 234,
     "metadata": {},
     "output_type": "execute_result"
    }
   ],
   "source": [
    "related"
   ]
  },
  {
   "cell_type": "code",
   "execution_count": 235,
   "id": "2ac1d787-e82e-4c02-9a27-f18cdbff92f7",
   "metadata": {},
   "outputs": [],
   "source": [
    "itemFactors = model.item_factors\n",
    "userFactors = model.user_factors"
   ]
  },
  {
   "cell_type": "code",
   "execution_count": 236,
   "id": "aada6e69-ba97-416f-9906-734c1fc99279",
   "metadata": {},
   "outputs": [
    {
     "data": {
      "text/plain": [
       "0.53263295"
      ]
     },
     "execution_count": 236,
     "metadata": {},
     "output_type": "execute_result"
    }
   ],
   "source": [
    "score = numpy.dot(userFactors[userIDs[allHours[0][0]]], itemFactors[gameIDs[allHours[0][1]]])\n",
    "score"
   ]
  },
  {
   "cell_type": "code",
   "execution_count": 216,
   "id": "3fbde6e3-e5eb-4ff5-8fdb-8de78dcbc47c",
   "metadata": {},
   "outputs": [],
   "source": [
    "m = 0\n",
    "def BPRPredict(u,g,th=0.9):\n",
    "    global m\n",
    "    if u not in userIDs or g not in gameIDs :\n",
    "        return 0\n",
    "    score = numpy.dot(userFactors[userIDs[u]], itemFactors[gameIDs[g]])\n",
    "    if score>m:\n",
    "        m = score\n",
    "    return score > th"
   ]
  },
  {
   "cell_type": "code",
   "execution_count": 189,
   "id": "2d8d6136-b7f8-4232-99b1-6b18950ac680",
   "metadata": {},
   "outputs": [],
   "source": [
    "hoursTrain = allHours[:165000]\n",
    "hoursValid = allHours[165000:]"
   ]
  },
  {
   "cell_type": "code",
   "execution_count": 225,
   "id": "20c412f2-a939-4ecb-ad05-90eac14e73e7",
   "metadata": {},
   "outputs": [],
   "source": [
    "gameCount = defaultdict(int)\n",
    "totalPlayed = 0\n",
    "\n",
    "for user,game,_ in hoursTrain:\n",
    "    gameCount[game] += 1\n",
    "    totalPlayed += 1\n",
    "\n",
    "mostPopular = [(gameCount[x], x) for x in gameCount]\n",
    "\n",
    "mostPopular.sort()\n",
    "mostPopular.reverse()"
   ]
  },
  {
   "cell_type": "code",
   "execution_count": 226,
   "id": "5ea4d496-6399-4f4f-8a46-5f68cac4ddc0",
   "metadata": {},
   "outputs": [],
   "source": [
    "threshold =  2 * totalPlayed / 3\n",
    "\n",
    "return12 = set()\n",
    "count2 = 0\n",
    "for ic, i in mostPopular:\n",
    "  count2 += ic\n",
    "  return12.add(i)\n",
    "  if count2 > threshold: break\n",
    "\n",
    "def popPredict(u,g):\n",
    "    if g in return12:\n",
    "        return 1\n",
    "    else:\n",
    "        return 0"
   ]
  },
  {
   "cell_type": "code",
   "execution_count": 227,
   "id": "3d4f7f3c-3ed5-4463-9fbf-904611a87bf2",
   "metadata": {},
   "outputs": [],
   "source": [
    "usergames_train,gameusers_train = UsersGames(hoursTrain)"
   ]
  },
  {
   "cell_type": "code",
   "execution_count": 87,
   "id": "0c0cac3e-5784-4334-9b2f-b94c3022f827",
   "metadata": {},
   "outputs": [],
   "source": [
    "def Jaccard(s1, s2):\n",
    "    numer = len(s1.intersection(s2))\n",
    "    denom = len(s1.union(s2))\n",
    "    if denom == 0:\n",
    "        return 0\n",
    "    return numer / denom"
   ]
  },
  {
   "cell_type": "code",
   "execution_count": 88,
   "id": "97bf3df9-4676-49c1-8a43-45a394be1bd1",
   "metadata": {},
   "outputs": [],
   "source": [
    "def JaccardPredict(u,g):\n",
    "    maxJaccrd = 0\n",
    "    threshold34 = 0.03035\n",
    "    predictionsJaccard = []\n",
    "    gamesset = usergames_train.get(u)\n",
    "    if gamesset is None:\n",
    "        return 0\n",
    "    for g1 in gamesset:\n",
    "        if g==g1:\n",
    "            continue\n",
    "        j = Jaccard(gameusers_train.get(g1),gameusers_train.get(g))\n",
    "        if j>maxJaccrd:\n",
    "            maxJaccrd = j\n",
    "    if maxJaccrd > threshold34:\n",
    "        return 1\n",
    "    else:\n",
    "        return 0"
   ]
  },
  {
   "cell_type": "code",
   "execution_count": 228,
   "id": "bf34aa0a-3ab2-4789-acf0-ad532a97a424",
   "metadata": {},
   "outputs": [
    {
     "data": {
      "text/plain": [
       "0.7024702470247025"
      ]
     },
     "execution_count": 228,
     "metadata": {},
     "output_type": "execute_result"
    }
   ],
   "source": [
    "predictions = [1 if popPredict(u, g) or BPRPredict(u, g, hi) else 0 for u,g,p in augmentedValidationSet]\n",
    "y = [p for u,d,p in augmentedValidationSet]\n",
    "accuracy = sum([p == l for p, l in zip(y, predictions)]) / len(augmentedValidationSet)\n",
    "accuracy"
   ]
  },
  {
   "cell_type": "code",
   "execution_count": 218,
   "id": "26267085-71e6-4f56-a2f5-0905a9d1de47",
   "metadata": {},
   "outputs": [
    {
     "data": {
      "text/plain": [
       "3.152304"
      ]
     },
     "execution_count": 218,
     "metadata": {},
     "output_type": "execute_result"
    }
   ],
   "source": [
    "m"
   ]
  },
  {
   "cell_type": "code",
   "execution_count": 237,
   "id": "5dbb975c-633a-40c1-b655-d176e2c05d47",
   "metadata": {},
   "outputs": [
    {
     "name": "stdout",
     "output_type": "stream",
     "text": [
      "0.757075707570757\n",
      "0.7566756675667566\n",
      "0.7560756075607561\n",
      "0.7561256125612561\n",
      "0.7556755675567557\n",
      "0.7554255425542554\n",
      "0.7551255125512552\n",
      "0.7543254325432543\n",
      "0.753925392539254\n",
      "0.753975397539754\n",
      "0.7536253625362537\n",
      "0.7531753175317532\n",
      "0.753075307530753\n",
      "0.7525752575257526\n",
      "0.7524252425242525\n",
      "0.7522252225222522\n",
      "0.7515251525152515\n",
      "0.7516751675167517\n",
      "0.751025102510251\n",
      "0.7505250525052505\n",
      "0.7500250025002501\n",
      "0.7488748874887489\n",
      "0.7482248224822482\n",
      "0.7476747674767477\n",
      "0.7472247224722472\n",
      "0.7471747174717471\n",
      "0.7464246424642464\n",
      "0.7463246324632463\n",
      "0.7458745874587459\n",
      "0.7457245724572458\n",
      "0.7451745174517451\n",
      "0.7445744574457446\n",
      "0.7438743874387439\n",
      "0.7433743374337434\n",
      "0.7425742574257426\n",
      "0.7421242124212422\n",
      "0.7414241424142414\n",
      "0.7404240424042404\n",
      "0.7399239923992399\n",
      "0.7394739473947395\n"
     ]
    },
    {
     "data": {
      "text/plain": [
       "(0.757075707570757, 80)"
      ]
     },
     "execution_count": 237,
     "metadata": {},
     "output_type": "execute_result"
    }
   ],
   "source": [
    "hacc = 0\n",
    "hi = 0\n",
    "for i in range(80,120):\n",
    "    predictions = [1 if popPredict(u, g) or BPRPredict(u, g, i/100)else 0 for u,g,p in augmentedValidationSet]\n",
    "    y = [p for u,d,p in augmentedValidationSet]\n",
    "    accuracy = sum([p == l for p, l in zip(y, predictions)]) / len(augmentedValidationSet)\n",
    "    print(accuracy)\n",
    "    if accuracy > hacc:\n",
    "        hacc = accuracy\n",
    "        hi = i\n",
    "hacc, hi"
   ]
  },
  {
   "cell_type": "code",
   "execution_count": 238,
   "id": "133be535-4526-45ed-b290-365fedea7519",
   "metadata": {},
   "outputs": [
    {
     "data": {
      "text/plain": [
       "(0.757075707570757, 80)"
      ]
     },
     "execution_count": 238,
     "metadata": {},
     "output_type": "execute_result"
    }
   ],
   "source": [
    "hacc, hi"
   ]
  },
  {
   "cell_type": "code",
   "execution_count": null,
   "id": "431caa1a-76fe-42b1-a5b9-9ae4ffd0a182",
   "metadata": {},
   "outputs": [],
   "source": []
  },
  {
   "cell_type": "code",
   "execution_count": 278,
   "id": "b755041e-7801-4cdc-8f00-0729e54f0f0a",
   "metadata": {},
   "outputs": [],
   "source": [
    "def read_csv_file(file_path):\n",
    "    gamesPerUser = {}\n",
    "    for l in open(file_path):\n",
    "        if l.startswith(\"userID\"):\n",
    "            continue\n",
    "        u,g = l.strip().split(',')\n",
    "        if u not in gamesPerUser:\n",
    "            gamesPerUser[u] = set()\n",
    "        gamesPerUser[u].add(g) \n",
    "\n",
    "    return gamesPerUser"
   ]
  },
  {
   "cell_type": "code",
   "execution_count": 282,
   "id": "eeec5dfe-3149-40bd-b139-8d245dc1d1c1",
   "metadata": {},
   "outputs": [],
   "source": [
    "# predictions = open(\"/Users/zhiqiaogong/Projects/JupyterNotebook/cse258/assignment1/halftest/predictions_Played.csv\", 'w')\n",
    "# gamesPerUserTest = read_csv_file(\"/Users/zhiqiaogong/Projects/JupyterNotebook/cse258/hw3/pairs_Played.csv\")\n",
    "# for l in open(\"/Users/zhiqiaogong/Projects/JupyterNotebook/cse258/hw3/pairs_Played.csv\"):\n",
    "#     if l.startswith(\"userID\"):\n",
    "#         predictions.write(l)\n",
    "#         continue\n",
    "#     u,g = l.strip().split(',')\n",
    "#     baselinepre = popPredict(u, g)\n",
    "#     pred0 = 0\n",
    "\n",
    "#     gamesauser = gamesPerUserTest[u]\n",
    "#     if len(gamesauser) == 1:\n",
    "#         baselinepre = popPredict(u, g)\n",
    "#         bprpre = BPRPredict(u, g, hi/100)\n",
    "#         if baselinepre or bprpre:\n",
    "#             pred0 = 1\n",
    "#         else:\n",
    "#             pred0 = 0\n",
    "#     else:\n",
    "#         gamespopauser = []\n",
    "#         gamesnotpopauser = []\n",
    "#         for gu in gamesauser:\n",
    "#             if not popPredict(u, gu):\n",
    "#                 gamesnotpopauser.append(gu)\n",
    "#             else:\n",
    "#                 gamespopauser.append(gu)\n",
    "#         if (len(gamespopauser)<= round(len(gamesnotpopauser)/2) and g in gamespopauser):\n",
    "#             pred0 = 1\n",
    "#         elif (len(gamespopauser)> round(len(gamesnotpopauser)/2) and g in gamespopauser):\n",
    "#             gamespopauser_score = {}\n",
    "#             for gu in gamespopauser:\n",
    "#                 gamespopauser_score[gu]=BPRPredict(u, gu, hi/100)\n",
    "#             a = sorted(gamespopauser_score.items(), key=lambda x: x[1], reverse=True)\n",
    "#             l = len(gamespopauser) - round(len(gamesnotpopauser)/2)\n",
    "#             if l == 1:\n",
    "#                 if g == a[0]:\n",
    "#                     pred0 = 1\n",
    "#             elif g in a[:l]:\n",
    "#                     pred0 = 1\n",
    "#             else:\n",
    "#                 pred0 = 0\n",
    "#         elif len(gamesnotpopauser)<= round(len(gamesnotpopauser)/2):\n",
    "#             pred0 = 0\n",
    "#         else:\n",
    "#             gamesnotpopauser_score = {}\n",
    "#             for gu in gamesnotpopauser:\n",
    "#                 gamesnotpopauser_score[gu]=BPRPredict(u, gu, hi/100)\n",
    "#             a = sorted(gamesnotpopauser_score.items(), key=lambda x: x[1], reverse=True)\n",
    "#             l = len(gamesnotpopauser) - round(len(gamesnotpopauser)/2)\n",
    "#             if l == 1:\n",
    "#                 if g == l:\n",
    "#                     pred0 = 1\n",
    "#             elif g in a[:l]:\n",
    "#                 pred0 = 1\n",
    "#             else:\n",
    "#                 pred0 = 0\n",
    "#         pred0 = 0\n",
    "\n",
    "#     _ = predictions.write(u + ',' + g + ',' + str(pred0) + '\\n')\n",
    "#     i+=1\n",
    "# predictions.close()"
   ]
  },
  {
   "cell_type": "code",
   "execution_count": null,
   "id": "9c37390c-392c-4e65-8391-128c10ade787",
   "metadata": {},
   "outputs": [],
   "source": []
  },
  {
   "cell_type": "code",
   "execution_count": null,
   "id": "b1c31e42-70fd-42e7-bf78-d37f15f2e294",
   "metadata": {},
   "outputs": [],
   "source": []
  },
  {
   "cell_type": "code",
   "execution_count": null,
   "id": "e1c6f267-c76b-4ee5-9511-af6bbabd2b7b",
   "metadata": {},
   "outputs": [],
   "source": []
  },
  {
   "cell_type": "code",
   "execution_count": 283,
   "id": "27b26a79-d3dd-43d2-8197-535c9f7a3592",
   "metadata": {},
   "outputs": [],
   "source": [
    "predictions = open(\"/Users/zhiqiaogong/Projects/JupyterNotebook/cse258/assignment1/test/predictions_Played.csv\", 'w')\n",
    "for l in open(\"/Users/zhiqiaogong/Projects/JupyterNotebook/cse258/hw3/pairs_Played.csv\"):\n",
    "    if l.startswith(\"userID\"):\n",
    "        predictions.write(l)\n",
    "        continue\n",
    "    u,g = l.strip().split(',')\n",
    "    \n",
    "    baselinepre = popPredict(u, g)\n",
    "    bprpre = BPRPredict(u, g, hi/100)\n",
    "    if baselinepre or bprpre:\n",
    "        pred = 1\n",
    "    else:\n",
    "        pred = 0\n",
    "\n",
    "    _ = predictions.write(u + ',' + g + ',' + str(pred) + '\\n')\n",
    "\n",
    "predictions.close()"
   ]
  },
  {
   "cell_type": "code",
   "execution_count": null,
   "id": "276f7197-2c22-41af-87ca-3577ae7c6620",
   "metadata": {},
   "outputs": [],
   "source": []
  },
  {
   "cell_type": "code",
   "execution_count": null,
   "id": "a849a706-8f07-4be0-a90a-5dd467bd5c58",
   "metadata": {},
   "outputs": [],
   "source": []
  },
  {
   "cell_type": "code",
   "execution_count": 240,
   "id": "b0cac314-f601-4458-af32-2a81b0a8c190",
   "metadata": {},
   "outputs": [],
   "source": [
    "##################################################\n",
    "# Hours played prediction                        #\n",
    "##################################################"
   ]
  },
  {
   "cell_type": "code",
   "execution_count": 241,
   "id": "02eaa664-35d1-46af-84f5-b8c83649c285",
   "metadata": {},
   "outputs": [],
   "source": [
    "trainHours = [r[2]['hours_transformed'] for r in hoursTrain]\n",
    "globalAverage = sum(trainHours) * 1.0 / len(trainHours)"
   ]
  },
  {
   "cell_type": "code",
   "execution_count": 242,
   "id": "185e42e2-575d-4e8c-8b80-988ea6e3acef",
   "metadata": {},
   "outputs": [],
   "source": [
    "hoursPerUser = {}\n",
    "hoursPerItem = {}\n",
    "for u, g, d in hoursTrain:\n",
    "    t = d.get('hours_transformed')\n",
    "    if u not in hoursPerUser:\n",
    "        hoursPerUser[u] = set()\n",
    "    hoursPerUser[u].add(t)\n",
    "    if g not in hoursPerItem:\n",
    "        hoursPerItem[g] = set()\n",
    "    hoursPerItem[g].add(t)"
   ]
  },
  {
   "cell_type": "code",
   "execution_count": 243,
   "id": "ddcefc30-7138-4da2-91c4-2c62d756ed30",
   "metadata": {},
   "outputs": [],
   "source": [
    "betaU = {}\n",
    "betaI = {}\n",
    "for u in hoursPerUser:\n",
    "    betaU[u] = 0\n",
    "\n",
    "for g in hoursPerItem:\n",
    "    betaI[g] = 0"
   ]
  },
  {
   "cell_type": "code",
   "execution_count": 244,
   "id": "b373fa60-50fd-41ab-bb92-a4497088c8eb",
   "metadata": {},
   "outputs": [],
   "source": [
    "alpha = globalAverage # Could initialize anywhere, this is a guess"
   ]
  },
  {
   "cell_type": "code",
   "execution_count": 245,
   "id": "bceec91d-214a-4347-8b5b-744023c7c782",
   "metadata": {},
   "outputs": [],
   "source": [
    "lambda_ = 1\n",
    "iter = 100\n",
    "tolerance = 1e-5 \n",
    "pmse = 0\n",
    "converged = False"
   ]
  },
  {
   "cell_type": "code",
   "execution_count": 246,
   "id": "0b1c3246-face-4b8a-b70e-17e622a0b463",
   "metadata": {},
   "outputs": [],
   "source": [
    "usergameHours = {}\n",
    "for u, g, d in hoursTrain:\n",
    "    usergameHours[(u,g)] = d['hours_transformed']"
   ]
  },
  {
   "cell_type": "code",
   "execution_count": 247,
   "id": "d322bf94-1243-4968-aa33-9337f4eabdfd",
   "metadata": {},
   "outputs": [],
   "source": [
    "usergames_train,gameusers_train = UsersGames(hoursTrain)"
   ]
  },
  {
   "cell_type": "code",
   "execution_count": 248,
   "id": "bc7dd25e-725b-4aa7-a3cf-413b583e1283",
   "metadata": {},
   "outputs": [],
   "source": [
    "def iterate(lambu,lambi):\n",
    "    alpha = globalAverage\n",
    "    betau_iterate = {}\n",
    "    betai_iterate = {}\n",
    "    for u in hoursPerUser:\n",
    "        betau_iterate[u] = 0\n",
    "    \n",
    "    for g in hoursPerItem:\n",
    "        betai_iterate[g] = 0\n",
    "    iter = 100\n",
    "    tolerance = 1e-8\n",
    "    pmse = float(\"inf\")\n",
    "    converged = False\n",
    "    tolerance_count=3\n",
    "    \n",
    "    for iteration in range(iter):\n",
    "        alpha = sum([ usergameHours[d] - betau_iterate[d[0]] - betai_iterate[d[1]] for d in usergameHours])/len(usergameHours)\n",
    "        \n",
    "        for u in usergames_train:\n",
    "            betau_iterate[u] = sum([ usergameHours[(u,g)] - alpha - betai_iterate[g] for g in usergames_train[u]])/(lambu + len(usergames_train[u]))\n",
    "    \n",
    "        for g in gameusers_train:\n",
    "            betai_iterate[g] = sum([ usergameHours[(u,g)] - alpha - betau_iterate[u] for u in gameusers_train[g]])/(lambi + len(gameusers_train[g]))\n",
    "    \n",
    "        predictions = [alpha + betau_iterate[u] + betai_iterate[g] for u,g,d in hoursValid]\n",
    "        y = [d['hours_transformed'] for u,g,d in hoursValid]\n",
    "    \n",
    "        mse = mean_squared_error(predictions, y)\n",
    "        \n",
    "        if mse > pmse:\n",
    "            break\n",
    "        else:\n",
    "            pmse = mse\n",
    "\n",
    "    return alpha, betau_iterate, betai_iterate, mse"
   ]
  },
  {
   "cell_type": "code",
   "execution_count": 251,
   "id": "930ba605-08ce-4111-b528-ed89abea0001",
   "metadata": {},
   "outputs": [
    {
     "name": "stdout",
     "output_type": "stream",
     "text": [
      "2.985433074009893 210\n",
      "2.9854386660552032 211\n",
      "2.9854443919860323 212\n",
      "2.985450251342035 213\n",
      "2.98545624366471 214\n",
      "2.985462368497393 215\n",
      "2.985468625385249 216\n",
      "2.9854750138752597 217\n",
      "2.9854815335162193 218\n",
      "2.9854881838587213 219\n",
      "2.9851319564935865 220\n",
      "2.9851321236195996 221\n",
      "2.985132455228408 222\n",
      "2.9851327955425937 223\n",
      "2.9851332308064475 224\n",
      "2.9851337607687034 225\n",
      "2.985134450106289 226\n",
      "2.9851351519175635 227\n",
      "2.985135947683033 228\n",
      "2.9851368371583655 229\n"
     ]
    },
    {
     "data": {
      "text/plain": [
       "(2.9851319564935865, 2.2)"
      ]
     },
     "execution_count": 251,
     "metadata": {},
     "output_type": "execute_result"
    }
   ],
   "source": [
    "# Better lambda...\n",
    "bestmse=float(\"inf\")\n",
    "bestlambu = 7.48\n",
    "bestlambi = 0\n",
    "for li in range(210,230,1):\n",
    "    _,_,_,t = iterate(bestlambu,li/100)\n",
    "    print(t,li)\n",
    "    if t < bestmse:\n",
    "        bestmse = t\n",
    "        bestlambi = li/100\n",
    "    \n",
    "bestmse,bestlambi"
   ]
  },
  {
   "cell_type": "code",
   "execution_count": 252,
   "id": "50fa9b80-22b6-48a7-9f38-91ee5de8da7e",
   "metadata": {},
   "outputs": [
    {
     "name": "stdout",
     "output_type": "stream",
     "text": [
      "2.985150640428202 740\n",
      "2.9851481287280572 741\n",
      "2.9851456676179566 742\n",
      "2.9851432569750873 743\n",
      "2.985140896676962 744\n",
      "2.9851385866014217 745\n",
      "2.9851363266266326 746\n",
      "2.9851341166310825 747\n",
      "2.9851319564935865 748\n",
      "2.9854927193395175 749\n"
     ]
    },
    {
     "data": {
      "text/plain": [
       "(2.9851319564935865, 7.48)"
      ]
     },
     "execution_count": 252,
     "metadata": {},
     "output_type": "execute_result"
    }
   ],
   "source": [
    "# Better lambda...\n",
    "bestmse=float(\"inf\")\n",
    "bestlambu = 0\n",
    "bestlambi = 2.2\n",
    "for lu in range(740,750,1):\n",
    "    _,_,_,t = iterate(lu/100,bestlambi)\n",
    "    print(t,lu)\n",
    "    if t < bestmse:\n",
    "        bestmse = t\n",
    "        bestlambu = lu/100\n",
    "    \n",
    "bestmse,bestlambu"
   ]
  },
  {
   "cell_type": "code",
   "execution_count": null,
   "id": "4599617b-a9c7-4867-a74f-c003e1a64f8f",
   "metadata": {},
   "outputs": [],
   "source": [
    "bestmse,bestlambu"
   ]
  },
  {
   "cell_type": "code",
   "execution_count": null,
   "id": "f7d3a16f-638e-4609-bfbe-33c58b40f147",
   "metadata": {},
   "outputs": [],
   "source": [
    "bestmse,bestlambi"
   ]
  },
  {
   "cell_type": "code",
   "execution_count": 249,
   "id": "f32c0962-0b15-49e5-8f7f-7f05187a4a92",
   "metadata": {},
   "outputs": [
    {
     "data": {
      "text/plain": [
       "2.9851319564935865"
      ]
     },
     "execution_count": 249,
     "metadata": {},
     "output_type": "execute_result"
    }
   ],
   "source": [
    "alpha, betaU, betaI, mse5 = iterate(7.48,2.2)\n",
    "mse5"
   ]
  },
  {
   "cell_type": "code",
   "execution_count": 250,
   "id": "d0216fef-2c95-4c39-b1d4-fad9d9ba8750",
   "metadata": {},
   "outputs": [],
   "source": [
    "predictions = open(\"/Users/zhiqiaogong/Projects/JupyterNotebook/cse258/assignment1/test/predictions_Hours.csv\", 'w')\n",
    "for l in open(\"/Users/zhiqiaogong/Projects/JupyterNotebook/cse258/hw3/pairs_Hours.csv\"):\n",
    "    if l.startswith(\"userID\"):\n",
    "        predictions.write(l)\n",
    "        continue\n",
    "    u,g = l.strip().split(',')\n",
    "    \n",
    "    bu = betaU[u]\n",
    "    bi = betaI[g]\n",
    "    \n",
    "    _ = predictions.write(u + ',' + g + ',' + str(alpha + bu + bi) + '\\n')\n",
    "\n",
    "predictions.close()"
   ]
  },
  {
   "cell_type": "code",
   "execution_count": null,
   "id": "7c183a2f-aa1b-402c-aced-c9a083defed9",
   "metadata": {},
   "outputs": [],
   "source": []
  }
 ],
 "metadata": {
  "kernelspec": {
   "display_name": "Python 3 (ipykernel)",
   "language": "python",
   "name": "python3"
  },
  "language_info": {
   "codemirror_mode": {
    "name": "ipython",
    "version": 3
   },
   "file_extension": ".py",
   "mimetype": "text/x-python",
   "name": "python",
   "nbconvert_exporter": "python",
   "pygments_lexer": "ipython3",
   "version": "3.11.6"
  }
 },
 "nbformat": 4,
 "nbformat_minor": 5
}
