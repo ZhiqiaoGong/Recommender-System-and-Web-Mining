{
 "cells": [
  {
   "cell_type": "code",
   "execution_count": 1,
   "metadata": {},
   "outputs": [
    {
     "name": "stderr",
     "output_type": "stream",
     "text": [
      "d:\\SDK\\python\\anaconda\\envs\\pytorch\\lib\\site-packages\\numpy\\_distributor_init.py:30: UserWarning: loaded more than 1 DLL from .libs:\n",
      "d:\\SDK\\python\\anaconda\\envs\\pytorch\\lib\\site-packages\\numpy\\.libs\\libopenblas.EL2C6PLE4ZYW3ECEVIV3OXXGRN2NRFM2.gfortran-win_amd64.dll\n",
      "d:\\SDK\\python\\anaconda\\envs\\pytorch\\lib\\site-packages\\numpy\\.libs\\libopenblas.PYQHXLVVQ7VESDPUVUADXEVJOBGHJPAY.gfortran-win_amd64.dll\n",
      "d:\\SDK\\python\\anaconda\\envs\\pytorch\\lib\\site-packages\\numpy\\.libs\\libopenblas.XWYDX2IKJW2NMTWSFYNGFUWKQU3LYTCZ.gfortran-win_amd64.dll\n",
      "  warnings.warn(\"loaded more than 1 DLL from .libs:\"\n"
     ]
    }
   ],
   "source": [
    "import gzip\n",
    "from collections import defaultdict\n",
    "import math\n",
    "import scipy.optimize\n",
    "from sklearn import svm\n",
    "import numpy\n",
    "import numpy as np\n",
    "import string\n",
    "import random\n",
    "import string\n",
    "from sklearn import linear_model\n",
    "import pandas\n",
    "from sklearn.metrics import mean_squared_error\n",
    "\n",
    "def assertFloat(x):\n",
    "    assert type(float(x)) == float\n",
    "\n",
    "def assertFloatList(items, N):\n",
    "    assert len(items) == N\n",
    "    assert [type(float(x)) for x in items] == [float]*N\n",
    "\n",
    "# Read data from file and return a generator of lines, each line is a dictionary\n",
    "def readGz(path):\n",
    "    for l in gzip.open(path, 'rt'):\n",
    "        yield eval(l)\n",
    "# read data from file and return a generator of user, game, and dictionary\n",
    "def readJSON(path):\n",
    "    f = gzip.open(path, 'rt')\n",
    "    f.readline()\n",
    "    for l in f:\n",
    "        d = eval(l)\n",
    "        u = d['userID']\n",
    "        g = d['gameID']\n",
    "        yield u,g,d\n",
    "# \n",
    "def UsersGames(data):\n",
    "    usergames = defaultdict(set)\n",
    "    gameusers = defaultdict(set)\n",
    "    for u, g, d in data:\n",
    "        usergames[u].add(g)\n",
    "        gameusers[g].add(u)\n",
    "    return usergames, gameusers\n",
    "\n",
    "\n",
    "# allData\n",
    "allHours = []\n",
    "for l in readJSON(\"train.json.gz\"):\n",
    "    allHours.append(l)\n"
   ]
  },
  {
   "cell_type": "code",
   "execution_count": 2,
   "metadata": {},
   "outputs": [],
   "source": [
    "# split data into train and valid\n",
    "hoursTrain = allHours[:165000]\n",
    "hoursValid = allHours[165000:]\n",
    "\n",
    "augmentedValidationSet = []\n",
    "\n",
    "valid1 = []\n",
    "valid2 = []\n",
    "\n",
    "answers = {}\n",
    "\n",
    "allGames = set([g for u, g, d in hoursTrain + hoursValid]) # 所有gameid的集合\n",
    "\n",
    "usergames,gameusers = UsersGames(hoursTrain + hoursValid) # usergames: 每个user玩过的game; gameusers:每个game的user\n",
    "\n",
    "\n",
    "for u,i,d in hoursValid:\n",
    "    valid1.append((u, i, 1))\n",
    "    valid2.append((u, random.choice(list(allGames - usergames[u])), 0))\n",
    "augmentedValidationSet = valid1 + valid2 # 加入一些用户没玩过的游戏作为负样本"
   ]
  },
  {
   "cell_type": "code",
   "execution_count": 3,
   "metadata": {},
   "outputs": [
    {
     "name": "stdout",
     "output_type": "stream",
     "text": [
      "0.983998399839984\n"
     ]
    }
   ],
   "source": [
    "\n",
    "gt = np.asarray([p for u, g, p in augmentedValidationSet])\n",
    "user = np.asarray([u for u, g, p in augmentedValidationSet])\n",
    "game = np.asarray([g for u, g, p in augmentedValidationSet])\n",
    "\n",
    "\n",
    "val_user_count = np.asarray([len(gameusers[g]) for u, g, p in augmentedValidationSet])\n",
    "pred = np.zeros(len(gt))\n",
    "res_true = len(pred)/2 \n",
    "for i in range(len(pred)): \n",
    "    if val_user_count[i] > 16:\n",
    "        pred[i] = 1\n",
    "    if pred[i] == 1:\n",
    "        res_true -= 1\n",
    "    if res_true == 0:\n",
    "        break\n",
    "acc = [1 if pred[i] == p else 0 for i, (u, g, p) in enumerate(augmentedValidationSet)]\n",
    "print(sum(acc)/len(augmentedValidationSet))"
   ]
  }
 ],
 "metadata": {
  "kernelspec": {
   "display_name": "pytorch",
   "language": "python",
   "name": "python3"
  },
  "language_info": {
   "codemirror_mode": {
    "name": "ipython",
    "version": 3
   },
   "file_extension": ".py",
   "mimetype": "text/x-python",
   "name": "python",
   "nbconvert_exporter": "python",
   "pygments_lexer": "ipython3",
   "version": "3.8.12"
  }
 },
 "nbformat": 4,
 "nbformat_minor": 2
}
