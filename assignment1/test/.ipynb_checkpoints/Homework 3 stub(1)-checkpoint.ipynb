{
 "cells": [
  {
   "cell_type": "code",
   "execution_count": 19,
   "id": "0f55c023",
   "metadata": {},
   "outputs": [],
   "source": [
    "import gzip\n",
    "from collections import defaultdict\n",
    "import math\n",
    "import scipy.optimize\n",
    "from sklearn import svm\n",
    "import numpy\n",
    "import string\n",
    "import random\n",
    "import string\n",
    "from sklearn import linear_model\n",
    "import pandas\n",
    "from sklearn.metrics import mean_squared_error\n",
    "\n",
    "def assertFloat(x):\n",
    "    assert type(float(x)) == float\n",
    "\n",
    "def assertFloatList(items, N):\n",
    "    assert len(items) == N\n",
    "    assert [type(float(x)) for x in items] == [float]*N\n",
    "\n",
    "# Read data from file and return a generator of lines, each line is a dictionary\n",
    "def readGz(path):\n",
    "    for l in gzip.open(path, 'rt'):\n",
    "        yield eval(l)\n",
    "# read data from file and return a generator of user, game, and dictionary\n",
    "def readJSON(path):\n",
    "    f = gzip.open(path, 'rt')\n",
    "    f.readline()\n",
    "    for l in f:\n",
    "        d = eval(l)\n",
    "        u = d['userID']\n",
    "        g = d['gameID']\n",
    "        t = d['hours_transformed']\n",
    "        yield u,g,t,d\n",
    "# \n",
    "def UsersGames(data):\n",
    "    usergames = defaultdict(set)\n",
    "    usergames_time = defaultdict(list)\n",
    "    gameusers = defaultdict(set)\n",
    "    gameusers_time = defaultdict(list)\n",
    "    for u, g, t, d in data:\n",
    "        usergames[u].add(g)\n",
    "        usergames_time[u].append(t)\n",
    "        gameusers[g].add(u)\n",
    "        gameusers_time[g].append(t)\n",
    "    return usergames, gameusers, usergames_time, gameusers_time\n",
    "\n",
    "# allData\n",
    "allHours = []\n",
    "for l in readJSON(\"train.json.gz\"):\n",
    "    allHours.append(l)"
   ]
  },
  {
   "cell_type": "markdown",
   "metadata": {},
   "source": [
    "## 0 处理数据\n",
    "读取userid gamesid playered hours, 然后划分训练集和验证集"
   ]
  },
  {
   "cell_type": "code",
   "execution_count": 20,
   "metadata": {},
   "outputs": [],
   "source": [
    "# split data into train and valid\n",
    "random.shuffle(allHours)\n",
    "hoursTrain = allHours[:165000]\n",
    "hoursValid = allHours[165000:]"
   ]
  },
  {
   "attachments": {
    "image.png": {
     "image/png": "[encoded data removed]"
    }
   },
   "cell_type": "markdown",
   "metadata": {},
   "source": [
    "## 1 Play prediction\n",
    "### 1.1 baseline：Popularity\n",
    "仅依据游戏自自身的popularity来判断用户是否会玩这个游戏。\n",
    "将所有游戏按照被提到的次数排序，\n",
    "![image.png](attachment:image.png)\n",
    "                    \n",
    "假设情况如上图所示，那么对于所有用户，预测其玩过前三个游戏，不玩后面的游戏。\n",
    "\n"
   ]
  },
  {
   "cell_type": "code",
   "execution_count": 21,
   "id": "4e06cc33-bc60-4b45-be63-8033c17d9fe6",
   "metadata": {},
   "outputs": [
    {
     "name": "stdout",
     "output_type": "stream",
     "text": [
      "0.6934193419341934\n"
     ]
    }
   ],
   "source": [
    "gameCount = defaultdict(int) # Number of times each game appears, store in dictionary, key is gameID, value is number of times it appears\n",
    "totalPlayed = 0 # Total number of games appeared ( counts duplicates )\n",
    "\n",
    "for user,game,t,_ in hoursTrain:\n",
    "    gameCount[game] += 1\n",
    "    totalPlayed += 1\n",
    "\n",
    "# calculate the most popular games\n",
    "mostPopular = [(gameCount[x], x) for x in gameCount] # number of times a game appears, gameID \n",
    "mostPopular.sort()\n",
    "mostPopular.reverse()\n",
    "return1 = set() # set of most popular games\n",
    "count = 0\n",
    "\n",
    "# for ic, i in mostPopular:\n",
    "#   count += ic\n",
    "#   return1.add(i)\n",
    "#   if count > totalPlayed*0.7: break\n",
    "\n",
    "# 根据28定理设的新方案\n",
    "for ic, i in mostPopular:\n",
    "  count += 1\n",
    "  return1.add(i)\n",
    "  if count > len(gameCount)*0.20: break\n",
    " \n",
    "\n",
    "\n",
    "\n",
    "def get_prediction(u,g):\n",
    "    if g in return1:\n",
    "        return 1\n",
    "    else:\n",
    "        return 0\n",
    "\n",
    "### Question 1\n",
    "# Evaluate baseline strategy\n",
    "allGames = set([g for u, g, t, d in hoursTrain + hoursValid]) # 所有gameid的集合\n",
    "\n",
    "usergames,gameusers,usergames_time, gameusers_time = UsersGames(hoursTrain + hoursValid) # usergames: 每个user玩过的game; gameusers:每个game的user\n",
    "\n",
    "augmentedValidationSet = []\n",
    "\n",
    "valid1 = []\n",
    "valid2 = []\n",
    "\n",
    "answers = {}\n",
    "for u,i,t,d in hoursValid:\n",
    "    valid1.append((u, i, 1))\n",
    "    valid2.append((u, random.choice(list(allGames - usergames[u])), 0))\n",
    "augmentedValidationSet = valid1 + valid2 # 加入一些用户没玩过的游戏作为负样本\n",
    "\n",
    "predictions = [1 if get_prediction(u, g)==p else 0 for u,g,p in augmentedValidationSet]\n",
    "accuracy = sum(predictions)/len(augmentedValidationSet)\n",
    "\n",
    "answers['Q1'] = accuracy\n",
    "assertFloat(answers['Q1'])\n",
    "print(accuracy)"
   ]
  },
  {
   "cell_type": "markdown",
   "metadata": {},
   "source": [
    "### 1.2 调整baseline参数"
   ]
  },
  {
   "cell_type": "code",
   "execution_count": 22,
   "metadata": {},
   "outputs": [
    {
     "name": "stdout",
     "output_type": "stream",
     "text": [
      "0.6862186218621862\n"
     ]
    }
   ],
   "source": [
    "# Improved strategy\n",
    "threshold = 2.7 * totalPlayed / 5\n",
    "\n",
    "return12 = set()\n",
    "count2 = 0\n",
    "for ic, i in mostPopular:\n",
    "  count2 += ic\n",
    "  return12.add(i)\n",
    "  if count2 > threshold: break\n",
    "\n",
    "def get_prediction2(u,g):\n",
    "    if g in return12:\n",
    "        return 1\n",
    "    else:\n",
    "        return 0\n",
    "\n",
    "# Evaluate baseline strategy\n",
    "predictions = [1 if get_prediction2(u, g)==p else 0 for u,g,p in augmentedValidationSet]\n",
    "\n",
    "accuracy = sum(predictions)/len(augmentedValidationSet)\n",
    "answers['Q2'] = [accuracy, 100*2/3]\n",
    "assertFloatList(answers['Q2'], 2)\n",
    "\n",
    "print(accuracy)"
   ]
  },
  {
   "cell_type": "markdown",
   "metadata": {},
   "source": [
    "### 1.3 Jaccard similarity"
   ]
  },
  {
   "cell_type": "code",
   "execution_count": 23,
   "id": "0e7cca75-8730-459c-ad27-d827d65856e2",
   "metadata": {},
   "outputs": [
    {
     "name": "stdout",
     "output_type": "stream",
     "text": [
      "0.6720672067206721\n"
     ]
    }
   ],
   "source": [
    "usergames_train,gameusers_train,usergames_time_train,gameusers_time_train = UsersGames(hoursTrain)\n",
    "# 返回两个序列的Jaccard相似度\n",
    "def Jaccard(s1, s2):\n",
    "    numer = len(s1.intersection(s2))\n",
    "    denom = len(s1.union(s2))\n",
    "    if denom == 0:\n",
    "        return 0\n",
    "    return numer / denom\n",
    "# \n",
    "def predictJaccard(u,g):\n",
    "    maxJaccrd = 0\n",
    "    threshold34 = 0.03035\n",
    "    predictionsJaccard = []\n",
    "    gamesset = usergames_train.get(u)\n",
    "    if gamesset is None:\n",
    "        return 0\n",
    "    for g1 in gamesset:\n",
    "        if g==g1:\n",
    "            continue\n",
    "        j = Jaccard(gameusers_train.get(g1),gameusers_train.get(g))\n",
    "        if j>maxJaccrd:\n",
    "            maxJaccrd = j\n",
    "    if maxJaccrd > threshold34:\n",
    "        return 1\n",
    "    else:\n",
    "        return 0\n",
    "\n",
    "\n",
    "predictions = [predictJaccard(u, g)==p for u,g,p in augmentedValidationSet]\n",
    "accuracy3 = sum(predictions)/len(augmentedValidationSet)\n",
    "print(accuracy3)\n"
   ]
  },
  {
   "cell_type": "markdown",
   "metadata": {},
   "source": [
    "### 1.4 调整Jaccard similarity参数 并结合popularity"
   ]
  },
  {
   "cell_type": "code",
   "execution_count": 24,
   "id": "f6c74ca5-97f5-4719-ad7e-b5c9260a584f",
   "metadata": {},
   "outputs": [
    {
     "name": "stdout",
     "output_type": "stream",
     "text": [
      "0.6847684768476847\n"
     ]
    }
   ],
   "source": [
    "threshold = 2 * totalPlayed / 3\n",
    "\n",
    "return13 = set()\n",
    "count3 = 0\n",
    "for ic, i in mostPopular:\n",
    "  count3 += ic\n",
    "  return13.add(i)\n",
    "  if count3 > threshold: break\n",
    "\n",
    "def get_prediction3(u,g):\n",
    "    if g in return13:\n",
    "        return 1\n",
    "    else:\n",
    "        return 0\n",
    "\n",
    "predictions = [1 if get_prediction3(u, g) or predictJaccard(u, g) else 0 for u,g,p in augmentedValidationSet]\n",
    "accuracy4 = sum([p == l for p, l in zip([p for u,d,p in augmentedValidationSet], predictions)]) / len(augmentedValidationSet)\n",
    "answers['Q3'] = accuracy3\n",
    "answers['Q4'] = accuracy4\n",
    "assertFloat(answers['Q3'])\n",
    "assertFloat(answers['Q4'])\n",
    "\n",
    "return14 = set()\n",
    "count4 = 0\n",
    "for ic, i in mostPopular:\n",
    "  count4 += ic\n",
    "  return14.add(i)\n",
    "  if count4 > threshold: break\n",
    "\n",
    "def get_prediction4(u,g):\n",
    "    if g in return14:\n",
    "        return 1\n",
    "    else:\n",
    "        return 0\n",
    "\n",
    "\n",
    "predictions = open(\"predictions_Played.csv\", 'w')\n",
    "for l in open(\"pairs_Played.csv\"):\n",
    "    if l.startswith(\"userID\"):\n",
    "        predictions.write(l)\n",
    "        continue\n",
    "    u,g = l.strip().split(',')\n",
    "    \n",
    "    baselinepre = get_prediction4(u, g)\n",
    "    jpre = predictJaccard(u, g)\n",
    "    if baselinepre or jpre:\n",
    "        pred = 1\n",
    "    else:\n",
    "        pred = 0\n",
    "\n",
    "    _ = predictions.write(u + ',' + g + ',' + str(pred) + '\\n')\n",
    "\n",
    "predictions.close()\n",
    "answers['Q5'] = \"I confirm that I have uploaded an assignment submission to gradescope\"\n",
    "\n",
    "print(accuracy4)\n"
   ]
  },
  {
   "cell_type": "markdown",
   "metadata": {},
   "source": [
    "### 1.5 SOTA\n",
    "思路：\n",
    "第一步：筛选出popularity高的游戏以及jackard similarity高的游戏，认为用户会玩这些游戏\n",
    "\n",
    "第二步：逐步降低阈值，直到pred中的true达到50%\n",
    "\n",
    "**注意** ： 必须在一开始的时候就将整个测试集读进来，否则没法保证最后的分类结果是55开的。"
   ]
  },
  {
   "cell_type": "code",
   "execution_count": 25,
   "metadata": {},
   "outputs": [
    {
     "name": "stdout",
     "output_type": "stream",
     "text": [
      "tuned_js:  0.04039999999999973 tuned_pc:  67 jacc_low_score:  0.02 pop_low_count:  20 jacc_heigh:  0.05 pop_heigh:  1027\n",
      "acc:  0.7171717171717171\n"
     ]
    }
   ],
   "source": [
    "import numpy as np\n",
    "def calJaccardScore(u,g):\n",
    "    maxJaccrd = 0\n",
    "    gamesset = usergames_train.get(u)\n",
    "    if gamesset is None:\n",
    "        return 0\n",
    "    for g1 in gamesset:\n",
    "        if g==g1:\n",
    "            continue\n",
    "        j = Jaccard(gameusers_train.get(g1),gameusers_train.get(g))\n",
    "        if j>maxJaccrd:\n",
    "            maxJaccrd = j\n",
    "    return maxJaccrd\n",
    "\n",
    "gt = [p for _,_,p in augmentedValidationSet]\n",
    "gt = np.asarray(gt)\n",
    "\n",
    "def cal_hyper(u,g):\n",
    "    jacc_score = np.zeros(len(u))\n",
    "    val_user_count = np.zeros(len(g))\n",
    "    for i in range(len(u)):\n",
    "        jacc_score[i] = calJaccardScore(u[i], g[i])\n",
    "        val_user_count[i] = len(gameusers_train.get(g[i]))\n",
    "\n",
    "\n",
    "    count = 0\n",
    "    pop_high_count = 0\n",
    "    pop_low_count = 0\n",
    "    # 根据28定理设的新方案\n",
    "    for ic, i in mostPopular:\n",
    "        count += ic\n",
    "        if count > len(gameCount)*0.20: \n",
    "            pop_high_count = ic\n",
    "            break\n",
    "\n",
    "    count = 0\n",
    "    for ic, i in mostPopular:\n",
    "        count += 1\n",
    "        if count > len(gameCount)*0.80: \n",
    "            pop_low_count = ic    \n",
    "            break\n",
    "    # print(\"pop_high_count: \", pop_high_count, \"pop_low_count: \", pop_low_count)\n",
    "    pred = np.zeros(len(gt))\n",
    "\n",
    "    pred = np.zeros(len(gt))\n",
    "    jacc_high = (jacc_score > 0.05)\n",
    "    jacc_low = (jacc_score <= 0.020)\n",
    "    pop_high = (val_user_count > pop_high_count)\n",
    "    pop_low = (val_user_count <= pop_low_count)\n",
    "    low = np.logical_or(jacc_low, pop_low)\n",
    "    heigh = np.logical_or(jacc_high, pop_high)\n",
    "    sure = np.logical_or(low, heigh)\n",
    "    not_sure = np.logical_not(sure)\n",
    "    pred[low] = 0\n",
    "    pred[heigh] = 1\n",
    "    not_sure = np.array([True]*len(pred))\n",
    "    res_true = len(pred)/2        \n",
    "    js = 0.05\n",
    "    pc = pop_high_count\n",
    "    while res_true>0:\n",
    "        js -= 0.00010\n",
    "        pc -= 10\n",
    "        # print(\"js: \", js, \"pc: \", pc, \"res_true: \", res_true)\n",
    "        for i in range(len(pred)):\n",
    "            if not_sure[i]:\n",
    "                if jacc_score[i] > js or val_user_count[i] > pc:\n",
    "                    pred[i] = 1\n",
    "                    res_true -= 1\n",
    "                    not_sure[i] = False\n",
    "            if res_true <= 0:\n",
    "                break\n",
    "    \n",
    "    # print(\"js: \", js, \"pc: \", pc)\n",
    "    return pred,js,pc, 0.020, pop_low_count, 0.05, pop_high_count\n",
    "\n",
    "user = [u for u,_,_ in augmentedValidationSet]\n",
    "game = [g for _,g,_ in augmentedValidationSet]\n",
    "pred0, tuned_js, tuned_pc, jacc_low_score, pop_low_count, jacc_heigh, pop_heigh = cal_hyper(user, game)\n",
    "print(\"tuned_js: \", tuned_js, \"tuned_pc: \", tuned_pc, \"jacc_low_score: \", jacc_low_score, \"pop_low_count: \", pop_low_count, \"jacc_heigh: \", jacc_heigh, \"pop_heigh: \", pop_heigh)\n",
    "\n",
    "\n",
    "acc = np.sum(pred0==gt)/len(gt)\n",
    "# precious = np.sum(np.logical_and(pred0==1, gt==1))/np.sum(pred0==1)\n",
    "# recall = np.sum(np.logical_and(pred0==1, gt==1))/np.sum(gt==1)\n",
    "# F1 = 2*precious*recall/(precious+recall)\n",
    "# print(\"acc: \", acc, \"precious: \", precious, \"recall: \", recall, \"F1: \", F1)\n",
    "print(\"acc: \", acc) # 这几个指标都是一样的\n"
   ]
  },
  {
   "cell_type": "code",
   "execution_count": 26,
   "metadata": {},
   "outputs": [],
   "source": [
    "# # 用调好的参数计算结果 结果相对来说会差一点，因为没有阈值逐渐下降的过程\n",
    "# def prepredict(u,g):\n",
    "#     jsc = calJaccardScore(u,g)\n",
    "#     psc = len(gameusers_train.get(g))\n",
    "#     if jsc >= jacc_heigh or psc >= pop_heigh:\n",
    "#         return 1\n",
    "#     if jsc <= jacc_low_score or psc <= pop_low_count:\n",
    "#         return 0\n",
    "    \n",
    "#     # 可以gkd 但懒得了\n",
    "#     return predict(u,g)\n",
    "\n",
    "\n",
    "# def predict(u,g):\n",
    "#     jsc = calJaccardScore(u,g)\n",
    "#     psc = len(gameusers_train.get(g))\n",
    "#     if jsc > tuned_js or psc > tuned_pc:\n",
    "#         return 1\n",
    "#     else:\n",
    "#         return 0\n",
    "\n",
    "# pred = []\n",
    "# tc = 0 # true count\n",
    "# truecount = len(augmentedValidationSet)/2\n",
    "# for u,g,p in augmentedValidationSet:\n",
    "#     # if predict(u,g) == p:\n",
    "#     #     tc += 1\n",
    "#     # pred.append(predict(u,g))\n",
    "#     if tc < truecount:\n",
    "#         pred.append(predict(u,g)) \n",
    "#     else: \n",
    "#         pred.append(0)  \n",
    "\n"
   ]
  },
  {
   "cell_type": "code",
   "execution_count": null,
   "metadata": {},
   "outputs": [
    {
     "name": "stdout",
     "output_type": "stream",
     "text": [
      "0.7023202320232024\n"
     ]
    }
   ],
   "source": [
    "# pred = np.asarray(pred)\n",
    "# acc = np.sum(pred==gt)/len(gt)\n",
    "# print(acc)"
   ]
  },
  {
   "cell_type": "code",
   "execution_count": null,
   "metadata": {},
   "outputs": [],
   "source": []
  }
 ],
 "metadata": {
  "kernelspec": {
   "display_name": "Python 3 (ipykernel)",
   "language": "python",
   "name": "python3"
  },
  "language_info": {
   "codemirror_mode": {
    "name": "ipython",
    "version": 3
   },
   "file_extension": ".py",
   "mimetype": "text/x-python",
   "name": "python",
   "nbconvert_exporter": "python",
   "pygments_lexer": "ipython3",
   "version": "3.8.12"
  }
 },
 "nbformat": 4,
 "nbformat_minor": 5
}
