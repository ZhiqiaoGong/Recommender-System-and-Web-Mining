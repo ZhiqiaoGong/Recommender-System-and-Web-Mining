{
 "cells": [
  {
   "cell_type": "code",
   "execution_count": 2,
   "id": "0f55c023",
   "metadata": {},
   "outputs": [],
   "source": [
    "import gzip\n",
    "from collections import defaultdict\n",
    "import math\n",
    "import scipy.optimize\n",
    "from sklearn import svm\n",
    "import numpy\n",
    "import string\n",
    "import random\n",
    "import string\n",
    "from sklearn import linear_model\n",
    "import pandas\n",
    "from sklearn.metrics import mean_squared_error"
   ]
  },
  {
   "cell_type": "code",
   "execution_count": 3,
   "id": "005c1a02-c5bf-4241-8d00-dc260d36f08f",
   "metadata": {},
   "outputs": [],
   "source": [
    "def assertFloat(x):\n",
    "    assert type(float(x)) == float\n",
    "\n",
    "def assertFloatList(items, N):\n",
    "    assert len(items) == N\n",
    "    assert [type(float(x)) for x in items] == [float]*N"
   ]
  },
  {
   "cell_type": "code",
   "execution_count": 4,
   "id": "cb2abe72",
   "metadata": {},
   "outputs": [],
   "source": [
    "def readGz(path):\n",
    "    for l in gzip.open(path, 'rt'):\n",
    "        yield eval(l)"
   ]
  },
  {
   "cell_type": "code",
   "execution_count": 5,
   "id": "e54fa48f",
   "metadata": {},
   "outputs": [],
   "source": [
    "def readJSON(path):\n",
    "    f = gzip.open(path, 'rt')\n",
    "    f.readline()\n",
    "    for l in f:\n",
    "        d = eval(l)\n",
    "        u = d['userID']\n",
    "        g = d['gameID']\n",
    "        yield u,g,d"
   ]
  },
  {
   "cell_type": "code",
   "execution_count": 6,
   "id": "c215087c",
   "metadata": {},
   "outputs": [],
   "source": [
    "answers = {}"
   ]
  },
  {
   "cell_type": "code",
   "execution_count": 7,
   "id": "27aec54d",
   "metadata": {},
   "outputs": [],
   "source": [
    "def UsersGames(data):\n",
    "    usergames = defaultdict(set)\n",
    "    gameusers = defaultdict(set)\n",
    "    for u, g, d in data:\n",
    "        usergames[u].add(g)\n",
    "        gameusers[g].add(u)\n",
    "    return usergames, gameusers"
   ]
  },
  {
   "cell_type": "code",
   "execution_count": 10,
   "id": "e72d24da",
   "metadata": {},
   "outputs": [],
   "source": [
    "allHours = []\n",
    "for l in readJSON(\"/Users/zhiqiaogong/Projects/JupyterNotebook/cse258/hw3/train.json.gz\"):\n",
    "    allHours.append(l)"
   ]
  },
  {
   "cell_type": "code",
   "execution_count": 11,
   "id": "462bd9bd-b657-4571-8fef-eee11d852099",
   "metadata": {},
   "outputs": [],
   "source": [
    "hoursTrain = allHours[:165000]\n",
    "hoursValid = allHours[165000:]"
   ]
  },
  {
   "cell_type": "code",
   "execution_count": 748,
   "id": "7aa30a66-0dcd-4f1f-beb0-a6ba473c9070",
   "metadata": {},
   "outputs": [],
   "source": [
    "# Evaluate baseline strategy\n",
    "allGames = set([g for u, g, d in hoursTrain + hoursValid])\n",
    "\n",
    "usergames,gameusers = UsersGames(hoursTrain + hoursValid)\n",
    "\n",
    "augmentedValidationSet = []\n",
    "\n",
    "valid1 = []\n",
    "valid2 = []\n",
    "\n",
    "for u,i,d in hoursValid:\n",
    "    valid1.append((u, i, 1))\n",
    "    valid2.append((u, random.choice(list(allGames - usergames[u])), 0))\n",
    "augmentedValidationSet = valid1 + valid2"
   ]
  },
  {
   "cell_type": "code",
   "execution_count": 162,
   "id": "c82a7a00",
   "metadata": {},
   "outputs": [],
   "source": [
    "##################################################\n",
    "# Hours played prediction                        #\n",
    "##################################################"
   ]
  },
  {
   "cell_type": "code",
   "execution_count": 12,
   "id": "772dd561-ceae-4c2e-9347-7ba3eb2dd650",
   "metadata": {},
   "outputs": [],
   "source": [
    "trainHours = [r[2]['hours_transformed'] for r in hoursTrain]\n",
    "globalAverage = sum(trainHours) * 1.0 / len(trainHours)"
   ]
  },
  {
   "cell_type": "code",
   "execution_count": 13,
   "id": "4b95a9e5-b36f-4883-befb-6dedfd833dcb",
   "metadata": {},
   "outputs": [],
   "source": [
    "### Question 6"
   ]
  },
  {
   "cell_type": "code",
   "execution_count": 14,
   "id": "b0e967d8-969e-4513-9b68-8c9cdce0cc1f",
   "metadata": {},
   "outputs": [],
   "source": [
    "hoursPerUser = {}\n",
    "hoursPerItem = {}\n",
    "for u, g, d in hoursTrain:\n",
    "    t = d.get('hours_transformed')\n",
    "    if u not in hoursPerUser:\n",
    "        hoursPerUser[u] = set()\n",
    "    hoursPerUser[u].add(t)\n",
    "    if g not in hoursPerItem:\n",
    "        hoursPerItem[g] = set()\n",
    "    hoursPerItem[g].add(t)"
   ]
  },
  {
   "cell_type": "code",
   "execution_count": 15,
   "id": "d4b39158-3b06-4057-bfb7-5ef1d547e3b3",
   "metadata": {},
   "outputs": [],
   "source": [
    "betaU = {}\n",
    "betaI = {}\n",
    "for u in hoursPerUser:\n",
    "    betaU[u] = 0\n",
    "\n",
    "for g in hoursPerItem:\n",
    "    betaI[g] = 0"
   ]
  },
  {
   "cell_type": "code",
   "execution_count": 16,
   "id": "ae174441-3c7e-4b41-8869-7a67b6c61607",
   "metadata": {},
   "outputs": [
    {
     "data": {
      "text/plain": [
       "3.716088074007024"
      ]
     },
     "execution_count": 16,
     "metadata": {},
     "output_type": "execute_result"
    }
   ],
   "source": [
    "alpha = globalAverage # Could initialize anywhere, this is a guess\n",
    "alpha"
   ]
  },
  {
   "cell_type": "code",
   "execution_count": 17,
   "id": "dfdee126-0e2a-44cb-8d9e-8105376d11e2",
   "metadata": {},
   "outputs": [],
   "source": [
    "lambda_ = 1\n",
    "iter = 100\n",
    "tolerance = 1e-5 \n",
    "pmse = 0\n",
    "converged = False"
   ]
  },
  {
   "cell_type": "code",
   "execution_count": 18,
   "id": "2f6fcc8f-d1a3-4798-9004-6648c279d49d",
   "metadata": {},
   "outputs": [],
   "source": [
    "usergameHours = {}\n",
    "for u, g, d in hoursTrain:\n",
    "    usergameHours[(u,g)] = d['hours_transformed']"
   ]
  },
  {
   "cell_type": "code",
   "execution_count": 21,
   "id": "95f07081-2410-491c-9282-c417186e5653",
   "metadata": {},
   "outputs": [],
   "source": [
    "usergames_train,gameusers_train = UsersGames(hoursTrain)"
   ]
  },
  {
   "cell_type": "code",
   "execution_count": 19,
   "id": "6e4e7c89-dad0-4754-8c9c-841110e2fa65",
   "metadata": {},
   "outputs": [],
   "source": [
    "def iterate(lambu,lambi):\n",
    "    alpha = globalAverage\n",
    "    betau_iterate = {}\n",
    "    betai_iterate = {}\n",
    "    for u in hoursPerUser:\n",
    "        betau_iterate[u] = 0\n",
    "    \n",
    "    for g in hoursPerItem:\n",
    "        betai_iterate[g] = 0\n",
    "    iter = 100\n",
    "    tolerance = 1e-8\n",
    "    pmse = float(\"inf\")\n",
    "    converged = False\n",
    "    tolerance_count=3\n",
    "    \n",
    "    for iteration in range(iter):\n",
    "        alpha = sum([ usergameHours[d] - betau_iterate[d[0]] - betai_iterate[d[1]] for d in usergameHours])/len(usergameHours)\n",
    "        \n",
    "        for u in usergames_train:\n",
    "            betau_iterate[u] = sum([ usergameHours[(u,g)] - alpha - betai_iterate[g] for g in usergames_train[u]])/(lambu + len(usergames_train[u]))\n",
    "    \n",
    "        for g in gameusers_train:\n",
    "            betai_iterate[g] = sum([ usergameHours[(u,g)] - alpha - betau_iterate[u] for u in gameusers_train[g]])/(lambi + len(gameusers_train[g]))\n",
    "    \n",
    "        predictions = [alpha + betau_iterate[u] + betai_iterate[g] for u,g,d in hoursValid]\n",
    "        y = [d['hours_transformed'] for u,g,d in hoursValid]\n",
    "    \n",
    "        mse = mean_squared_error(predictions, y)\n",
    "        \n",
    "        if mse > pmse:\n",
    "            break\n",
    "        else:\n",
    "            pmse = mse\n",
    "\n",
    "    return alpha, betau_iterate, betai_iterate, mse"
   ]
  },
  {
   "cell_type": "code",
   "execution_count": 27,
   "id": "b6783f5f-da48-42fc-a230-63bcb7852623",
   "metadata": {},
   "outputs": [
    {
     "data": {
      "text/plain": [
       "2.9885787519794094"
      ]
     },
     "execution_count": 27,
     "metadata": {},
     "output_type": "execute_result"
    }
   ],
   "source": [
    "_,_,_,t = iterate(4.8,3.4)\n",
    "t"
   ]
  },
  {
   "cell_type": "code",
   "execution_count": 48,
   "id": "f64aef78-3d98-4e1c-9d63-2f07341542e4",
   "metadata": {},
   "outputs": [
    {
     "name": "stdout",
     "output_type": "stream",
     "text": [
      "2.985433074009893 210\n",
      "2.9854386660552032 211\n",
      "2.9854443919860323 212\n",
      "2.985450251342035 213\n",
      "2.98545624366471 214\n",
      "2.985462368497393 215\n",
      "2.9854686253852485 216\n",
      "2.9854750138752597 217\n",
      "2.985481533516219 218\n",
      "2.9854881838587213 219\n",
      "2.9851319564935865 220\n",
      "2.9851321236195996 221\n",
      "2.985132455228408 222\n",
      "2.9851327955425937 223\n",
      "2.9851332308064475 224\n",
      "2.9851337607687034 225\n",
      "2.985134450106289 226\n",
      "2.985135151917563 227\n",
      "2.985135947683033 228\n",
      "2.9851368371583655 229\n"
     ]
    },
    {
     "data": {
      "text/plain": [
       "(2.9851319564935865, 2.2)"
      ]
     },
     "execution_count": 48,
     "metadata": {},
     "output_type": "execute_result"
    }
   ],
   "source": [
    "# Better lambda...\n",
    "bestmse=float(\"inf\")\n",
    "bestlambu = 7.48\n",
    "bestlambi = 0\n",
    "for li in range(210,230,1):\n",
    "    _,_,_,t = iterate(bestlambu,li/100)\n",
    "    print(t,li)\n",
    "    if t < bestmse:\n",
    "        bestmse = t\n",
    "        bestlambi = li/100\n",
    "    \n",
    "bestmse,bestlambi"
   ]
  },
  {
   "cell_type": "code",
   "execution_count": 41,
   "id": "c76e8954-72f1-4bd0-b34b-42fad65a82f1",
   "metadata": {},
   "outputs": [
    {
     "name": "stdout",
     "output_type": "stream",
     "text": [
      "2.985150640428202 740\n",
      "2.9851481287280572 741\n",
      "2.9851456676179566 742\n",
      "2.9851432569750873 743\n",
      "2.985140896676962 744\n",
      "2.9851385866014217 745\n",
      "2.985136326626632 746\n",
      "2.9851341166310825 747\n",
      "2.9851319564935865 748\n",
      "2.9854927193395175 749\n"
     ]
    },
    {
     "data": {
      "text/plain": [
       "(2.9851319564935865, 7.48)"
      ]
     },
     "execution_count": 41,
     "metadata": {},
     "output_type": "execute_result"
    }
   ],
   "source": [
    "# Better lambda...\n",
    "bestmse=float(\"inf\")\n",
    "bestlambu = 0\n",
    "bestlambi = 2.2\n",
    "for lu in range(740,750,1):\n",
    "    _,_,_,t = iterate(lu/100,bestlambi)\n",
    "    print(t,lu)\n",
    "    if t < bestmse:\n",
    "        bestmse = t\n",
    "        bestlambu = lu/100\n",
    "    \n",
    "bestmse,bestlambu"
   ]
  },
  {
   "cell_type": "code",
   "execution_count": 38,
   "id": "a6da4816-c069-4329-9c6a-e498896c5121",
   "metadata": {},
   "outputs": [
    {
     "data": {
      "text/plain": [
       "(2.986299838993884, 5.8)"
      ]
     },
     "execution_count": 38,
     "metadata": {},
     "output_type": "execute_result"
    }
   ],
   "source": [
    "bestmse,bestlambu"
   ]
  },
  {
   "cell_type": "code",
   "execution_count": 31,
   "id": "e3d20ce0-b155-4683-ae77-00769a1b14a1",
   "metadata": {},
   "outputs": [
    {
     "data": {
      "text/plain": [
       "(2.9877543109555837, 2.2)"
      ]
     },
     "execution_count": 31,
     "metadata": {},
     "output_type": "execute_result"
    }
   ],
   "source": [
    "bestmse,bestlambi"
   ]
  },
  {
   "cell_type": "code",
   "execution_count": 25,
   "id": "30b8cbba-d0ec-46a6-b079-1c9a0e188971",
   "metadata": {},
   "outputs": [
    {
     "name": "stdout",
     "output_type": "stream",
     "text": [
      "2.990605004214618 340 400\n",
      "2.9908202125682863 360 400\n",
      "2.9910645213183185 380 400\n",
      "2.991336689786135 400 400\n",
      "2.991635529915669 420 400\n",
      "2.9900317164306576 340 420\n",
      "2.9902466176410147 360 420\n",
      "2.990490577401678 380 420\n",
      "2.9907623574701256 400 420\n",
      "2.9910607720837663 420 420\n",
      "2.9895045147489765 340 440\n",
      "2.9897191179528555 360 440\n",
      "2.989962739112359 380 440\n",
      "2.990234142357712 400 440\n",
      "2.990532144159605 420 440\n",
      "2.989020956874923 340 460\n",
      "2.98923527081857 360 460\n",
      "2.9894785633228116 380 460\n",
      "2.9897496008297577 400 460\n",
      "2.9900472019855244 420 460\n",
      "2.9885787519794094 340 480\n",
      "2.9887927850420177 360 480\n",
      "2.989035758420841 380 480\n",
      "2.9893064408113394 400 480\n",
      "2.989603652979412 420 480\n"
     ]
    },
    {
     "data": {
      "text/plain": [
       "2.9885787519794094"
      ]
     },
     "execution_count": 25,
     "metadata": {},
     "output_type": "execute_result"
    }
   ],
   "source": [
    "# Better lambda...\n",
    "bestmse=float(\"inf\")\n",
    "bestlambu = 0\n",
    "bestlambi = 0\n",
    "for lu in range(400,500,20):\n",
    "    for li in range(340,440,20):\n",
    "        _,_,_,t = iterate(lu/100,li/100)\n",
    "        print(t,li,lu)\n",
    "        if t < bestmse:\n",
    "            bestmse = t\n",
    "            bestlambi = li/100\n",
    "            bestlambu = lu/100\n",
    "    \n",
    "bestmse"
   ]
  },
  {
   "cell_type": "code",
   "execution_count": 26,
   "id": "7fcbb694-216f-4eaf-811f-47d819e14443",
   "metadata": {},
   "outputs": [
    {
     "data": {
      "text/plain": [
       "2.9885787519794094"
      ]
     },
     "execution_count": 26,
     "metadata": {},
     "output_type": "execute_result"
    }
   ],
   "source": [
    "bestmse"
   ]
  },
  {
   "cell_type": "code",
   "execution_count": 49,
   "id": "34e94edc-1347-4960-b12c-01e52cbc744e",
   "metadata": {},
   "outputs": [
    {
     "data": {
      "text/plain": [
       "2.9851319564935865"
      ]
     },
     "execution_count": 49,
     "metadata": {},
     "output_type": "execute_result"
    }
   ],
   "source": [
    "alpha, betaU, betaI, mse5 = iterate(7.48,2.2)\n",
    "mse5"
   ]
  },
  {
   "cell_type": "code",
   "execution_count": 841,
   "id": "b95c8e49-d120-4367-a20f-a39381776979",
   "metadata": {},
   "outputs": [],
   "source": [
    "answers['Q8'] = (l, bestmse)"
   ]
  },
  {
   "cell_type": "code",
   "execution_count": 842,
   "id": "fe2dcb96-86a0-473e-980b-340435715ea8",
   "metadata": {},
   "outputs": [],
   "source": [
    "assertFloatList(answers['Q8'], 2)"
   ]
  },
  {
   "cell_type": "code",
   "execution_count": 46,
   "id": "90a7cd55-1f58-42a5-8c35-4debf80a3e3e",
   "metadata": {},
   "outputs": [],
   "source": [
    "predictions = open(\"/Users/zhiqiaogong/Projects/JupyterNotebook/cse258/assignment1/test/predictions_Hours.csv\", 'w')\n",
    "for l in open(\"/Users/zhiqiaogong/Projects/JupyterNotebook/cse258/hw3/pairs_Hours.csv\"):\n",
    "    if l.startswith(\"userID\"):\n",
    "        predictions.write(l)\n",
    "        continue\n",
    "    u,g = l.strip().split(',')\n",
    "    \n",
    "    bu = betaU[u]\n",
    "    bi = betaI[g]\n",
    "    \n",
    "    _ = predictions.write(u + ',' + g + ',' + str(alpha + bu + bi) + '\\n')\n",
    "\n",
    "predictions.close()"
   ]
  },
  {
   "cell_type": "code",
   "execution_count": 935,
   "id": "c5fe92e3-3ab1-4858-858c-eeb732d964f6",
   "metadata": {},
   "outputs": [],
   "source": [
    "f = open(\"answers_hw3.txt\", 'w')\n",
    "f.write(str(answers) + '\\n')\n",
    "f.close()"
   ]
  },
  {
   "cell_type": "code",
   "execution_count": null,
   "id": "9676dc3e",
   "metadata": {},
   "outputs": [],
   "source": []
  }
 ],
 "metadata": {
  "kernelspec": {
   "display_name": "Python 3 (ipykernel)",
   "language": "python",
   "name": "python3"
  },
  "language_info": {
   "codemirror_mode": {
    "name": "ipython",
    "version": 3
   },
   "file_extension": ".py",
   "mimetype": "text/x-python",
   "name": "python",
   "nbconvert_exporter": "python",
   "pygments_lexer": "ipython3",
   "version": "3.11.6"
  }
 },
 "nbformat": 4,
 "nbformat_minor": 5
}
