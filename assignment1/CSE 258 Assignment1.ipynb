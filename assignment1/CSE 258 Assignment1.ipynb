{
 "cells": [
  {
   "cell_type": "code",
   "execution_count": 1,
   "id": "aad015d7",
   "metadata": {},
   "outputs": [],
   "source": [
    "import gzip\n",
    "import numpy as np\n",
    "import pandas as pd\n",
    "import scipy.sparse as sp"
   ]
  },
  {
   "cell_type": "code",
   "execution_count": 2,
   "id": "c6598929",
   "metadata": {},
   "outputs": [],
   "source": [
    "def readData(path):\n",
    "    f = gzip.open(path, 'rt')\n",
    "    f.readline()\n",
    "    data = []\n",
    "    for l in f:\n",
    "        d = eval(l)\n",
    "        userId = d['userID']\n",
    "        gameId = d['gameID']\n",
    "        hours = d['hours_transformed']\n",
    "        data.append({\n",
    "            'userId':userId,\n",
    "            'gameId':gameId,\n",
    "            'hours':hours,\n",
    "        })\n",
    "    return pd.DataFrame(data)"
   ]
  },
  {
   "cell_type": "code",
   "execution_count": 3,
   "id": "d9431ffe",
   "metadata": {},
   "outputs": [],
   "source": [
    "data = readData(\"train.json.gz\")"
   ]
  },
  {
   "cell_type": "code",
   "execution_count": 4,
   "id": "c96b02b4",
   "metadata": {},
   "outputs": [],
   "source": [
    "data = data.dropna()\n",
    "data['originalUserId'] = data['userId']\n",
    "data['originalGameId'] = data['gameId']\n",
    "data['userId'] = data['userId'].astype(\"category\").cat.codes\n",
    "data['gameId'] = data['gameId'].astype(\"category\").cat.codes\n",
    "itemLookup = data[['userId', 'gameId','originalUserId','originalGameId']].drop_duplicates()\n",
    "itemLookup['userId'] = itemLookup.userId.astype(str)\n",
    "itemLookup['gameId'] = itemLookup.gameId.astype(str)"
   ]
  },
  {
   "cell_type": "code",
   "execution_count": 5,
   "id": "be3e987e",
   "metadata": {},
   "outputs": [],
   "source": [
    "users = list(np.sort(data.userId.unique()))\n",
    "games = list(np.sort(data.gameId.unique()))\n",
    "hours = list(data.hours)"
   ]
  },
  {
   "cell_type": "code",
   "execution_count": 6,
   "id": "55c59f17",
   "metadata": {},
   "outputs": [],
   "source": [
    "rows = data.userId.astype(float)\n",
    "cols = data.gameId.astype(float)"
   ]
  },
  {
   "cell_type": "code",
   "execution_count": 7,
   "id": "1c283a73",
   "metadata": {},
   "outputs": [],
   "source": [
    "dataSparse = sp.csr_matrix((hours, (rows, cols)), shape=(len(users), len(games)))\n",
    "\n",
    "from implicit.nearest_neighbours import bm25_weight\n",
    "\n",
    "dataSparse = bm25_weight(dataSparse, K1 = 1, B = 0.8)\n",
    "dataSparse = dataSparse.tocsr()"
   ]
  },
  {
   "cell_type": "code",
   "execution_count": 8,
   "id": "90d608a0",
   "metadata": {},
   "outputs": [
    {
     "data": {
      "application/vnd.jupyter.widget-view+json": {
       "model_id": "28e483a470594d999c38d51218624931",
       "version_major": 2,
       "version_minor": 0
      },
      "text/plain": [
       "  0%|          | 0/30 [00:00<?, ?it/s]"
      ]
     },
     "metadata": {},
     "output_type": "display_data"
    }
   ],
   "source": [
    "from implicit.lmf import LogisticMatrixFactorization\n",
    "\n",
    "model = LogisticMatrixFactorization(\n",
    "    factors = 50,\n",
    "    learning_rate = 1.0,\n",
    "    regularization = 10.0,\n",
    "    neg_prop = 100,\n",
    ")\n",
    "model.fit(dataSparse)"
   ]
  },
  {
   "cell_type": "code",
   "execution_count": 9,
   "id": "ae4d46ce",
   "metadata": {},
   "outputs": [
    {
     "name": "stdout",
     "output_type": "stream",
     "text": [
      "2 Users Not Found\n",
      "Recommend Done\n"
     ]
    }
   ],
   "source": [
    "predictions = open('predictions_Played.csv', 'w')\n",
    "users = []\n",
    "games = []\n",
    "for l in open(\"pairs_Played.csv\"):\n",
    "    if l.startswith(\"userID\"):\n",
    "        predictions.write(l)\n",
    "        continue\n",
    "    user,game = l.strip().split(',')\n",
    "    users.append(user)\n",
    "    games.append(game)\n",
    "\n",
    "transformedUserIdLookup = {str(row['originalUserId']): int(row['userId']) for _, row in itemLookup.iterrows()}\n",
    "usersTrans = []\n",
    "notFoundUserCount = 0\n",
    "for user in users:\n",
    "    if user not in transformedUserIdLookup:\n",
    "        usersTrans.append(-1)\n",
    "        notFoundUserCount = notFoundUserCount + 1\n",
    "    else:\n",
    "        usersTrans.append(transformedUserIdLookup[user]) \n",
    "print(str(notFoundUserCount) + ' Users Not Found')\n",
    "allRecommendations, _ = model.recommend(usersTrans, dataSparse[usersTrans], N = 600, filter_already_liked_items = True)\n",
    "\n",
    "print('Recommend Done')\n",
    "\n",
    "originalGameIdLookup = {str(row['gameId']): row['originalGameId'] for _, row in itemLookup.iterrows()}\n",
    "recSets = [set(originalGameIdLookup[str(r)] for r in rec) for rec in allRecommendations]\n",
    "\n",
    "i = 0\n",
    "for u,g,rec in zip(usersTrans,games,recSets):\n",
    "    pred = 0\n",
    "    if (u != -1) and g in rec:\n",
    "        pred = 1\n",
    "    else:\n",
    "        pred = 0\n",
    "    _ = predictions.write(users[i] + ',' + g + ',' + str(pred) + '\\n')\n",
    "    i = i + 1\n",
    "\n",
    "predictions.close()"
   ]
  },
  {
   "cell_type": "code",
   "execution_count": 10,
   "id": "e2a70eb0",
   "metadata": {},
   "outputs": [],
   "source": [
    "from surprise import SVD, SVDpp, SlopeOne, NMF, NormalPredictor, KNNBaseline, KNNBasic, KNNWithMeans, KNNWithZScore, BaselineOnly, CoClustering, Reader, Dataset\n",
    "from surprise.model_selection import train_test_split, cross_validate\n",
    "from surprise import accuracy"
   ]
  },
  {
   "cell_type": "code",
   "execution_count": 11,
   "id": "07664fba",
   "metadata": {},
   "outputs": [],
   "source": [
    "data = readData(\"train.json.gz\")"
   ]
  },
  {
   "cell_type": "code",
   "execution_count": 12,
   "id": "af1139ea",
   "metadata": {},
   "outputs": [],
   "source": [
    "reader = Reader(rating_scale=(0, 10))\n",
    "data = Dataset.load_from_df(data, reader)"
   ]
  },
  {
   "cell_type": "code",
   "execution_count": 13,
   "id": "4499f30b",
   "metadata": {},
   "outputs": [
    {
     "name": "stdout",
     "output_type": "stream",
     "text": [
      "Estimating biases using als...\n",
      "Computing the msd similarity matrix...\n",
      "Done computing similarity matrix.\n",
      "Estimating biases using als...\n",
      "Computing the msd similarity matrix...\n",
      "Done computing similarity matrix.\n",
      "Estimating biases using als...\n",
      "Computing the msd similarity matrix...\n",
      "Done computing similarity matrix.\n",
      "Estimating biases using als...\n",
      "Computing the msd similarity matrix...\n",
      "Done computing similarity matrix.\n",
      "Estimating biases using als...\n",
      "Computing the msd similarity matrix...\n",
      "Done computing similarity matrix.\n",
      "Computing the msd similarity matrix...\n",
      "Done computing similarity matrix.\n",
      "Computing the msd similarity matrix...\n",
      "Done computing similarity matrix.\n",
      "Computing the msd similarity matrix...\n",
      "Done computing similarity matrix.\n",
      "Computing the msd similarity matrix...\n",
      "Done computing similarity matrix.\n",
      "Computing the msd similarity matrix...\n",
      "Done computing similarity matrix.\n",
      "Computing the msd similarity matrix...\n",
      "Done computing similarity matrix.\n",
      "Computing the msd similarity matrix...\n",
      "Done computing similarity matrix.\n",
      "Computing the msd similarity matrix...\n",
      "Done computing similarity matrix.\n",
      "Computing the msd similarity matrix...\n",
      "Done computing similarity matrix.\n",
      "Computing the msd similarity matrix...\n",
      "Done computing similarity matrix.\n",
      "Computing the msd similarity matrix...\n",
      "Done computing similarity matrix.\n",
      "Computing the msd similarity matrix...\n",
      "Done computing similarity matrix.\n",
      "Computing the msd similarity matrix...\n",
      "Done computing similarity matrix.\n",
      "Computing the msd similarity matrix...\n",
      "Done computing similarity matrix.\n",
      "Computing the msd similarity matrix...\n",
      "Done computing similarity matrix.\n",
      "Estimating biases using als...\n",
      "Estimating biases using als...\n",
      "Estimating biases using als...\n",
      "Estimating biases using als...\n",
      "Estimating biases using als...\n"
     ]
    },
    {
     "data": {
      "text/html": [
       "<div>\n",
       "<style scoped>\n",
       "    .dataframe tbody tr th:only-of-type {\n",
       "        vertical-align: middle;\n",
       "    }\n",
       "\n",
       "    .dataframe tbody tr th {\n",
       "        vertical-align: top;\n",
       "    }\n",
       "\n",
       "    .dataframe thead th {\n",
       "        text-align: right;\n",
       "    }\n",
       "</style>\n",
       "<table border=\"1\" class=\"dataframe\">\n",
       "  <thead>\n",
       "    <tr style=\"text-align: right;\">\n",
       "      <th></th>\n",
       "      <th>test_mse</th>\n",
       "      <th>fit_time</th>\n",
       "      <th>test_time</th>\n",
       "    </tr>\n",
       "    <tr>\n",
       "      <th>Algorithm</th>\n",
       "      <th></th>\n",
       "      <th></th>\n",
       "      <th></th>\n",
       "    </tr>\n",
       "  </thead>\n",
       "  <tbody>\n",
       "    <tr>\n",
       "      <th>BaselineOnly</th>\n",
       "      <td>3.080730</td>\n",
       "      <td>0.109447</td>\n",
       "      <td>0.249424</td>\n",
       "    </tr>\n",
       "    <tr>\n",
       "      <th>KNNBaseline</th>\n",
       "      <td>3.174553</td>\n",
       "      <td>0.976283</td>\n",
       "      <td>2.129861</td>\n",
       "    </tr>\n",
       "    <tr>\n",
       "      <th>SVD</th>\n",
       "      <td>3.277039</td>\n",
       "      <td>0.769895</td>\n",
       "      <td>0.227221</td>\n",
       "    </tr>\n",
       "    <tr>\n",
       "      <th>KNNBasic</th>\n",
       "      <td>3.343875</td>\n",
       "      <td>0.851399</td>\n",
       "      <td>1.914416</td>\n",
       "    </tr>\n",
       "    <tr>\n",
       "      <th>SlopeOne</th>\n",
       "      <td>3.395117</td>\n",
       "      <td>0.208940</td>\n",
       "      <td>0.539351</td>\n",
       "    </tr>\n",
       "    <tr>\n",
       "      <th>KNNWithMeans</th>\n",
       "      <td>3.431356</td>\n",
       "      <td>0.898679</td>\n",
       "      <td>2.047828</td>\n",
       "    </tr>\n",
       "    <tr>\n",
       "      <th>KNNWithZScore</th>\n",
       "      <td>3.459373</td>\n",
       "      <td>0.989679</td>\n",
       "      <td>2.050098</td>\n",
       "    </tr>\n",
       "    <tr>\n",
       "      <th>SVDpp</th>\n",
       "      <td>3.647810</td>\n",
       "      <td>2.326558</td>\n",
       "      <td>0.687022</td>\n",
       "    </tr>\n",
       "    <tr>\n",
       "      <th>CoClustering</th>\n",
       "      <td>3.681952</td>\n",
       "      <td>1.008229</td>\n",
       "      <td>0.187731</td>\n",
       "    </tr>\n",
       "    <tr>\n",
       "      <th>NMF</th>\n",
       "      <td>3.928221</td>\n",
       "      <td>1.139842</td>\n",
       "      <td>0.172154</td>\n",
       "    </tr>\n",
       "    <tr>\n",
       "      <th>NormalPredictor</th>\n",
       "      <td>10.084671</td>\n",
       "      <td>0.058660</td>\n",
       "      <td>0.283932</td>\n",
       "    </tr>\n",
       "  </tbody>\n",
       "</table>\n",
       "</div>"
      ],
      "text/plain": [
       "                  test_mse  fit_time  test_time\n",
       "Algorithm                                      \n",
       "BaselineOnly      3.080730  0.109447   0.249424\n",
       "KNNBaseline       3.174553  0.976283   2.129861\n",
       "SVD               3.277039  0.769895   0.227221\n",
       "KNNBasic          3.343875  0.851399   1.914416\n",
       "SlopeOne          3.395117  0.208940   0.539351\n",
       "KNNWithMeans      3.431356  0.898679   2.047828\n",
       "KNNWithZScore     3.459373  0.989679   2.050098\n",
       "SVDpp             3.647810  2.326558   0.687022\n",
       "CoClustering      3.681952  1.008229   0.187731\n",
       "NMF               3.928221  1.139842   0.172154\n",
       "NormalPredictor  10.084671  0.058660   0.283932"
      ]
     },
     "execution_count": 13,
     "metadata": {},
     "output_type": "execute_result"
    }
   ],
   "source": [
    "benchmark = []\n",
    "for algorithm in [SVD(), SVDpp(), SlopeOne(), NMF(), NormalPredictor(), KNNBaseline(), KNNBasic(), KNNWithMeans(), KNNWithZScore(), BaselineOnly(), CoClustering()]:\n",
    "    results = cross_validate(algorithm, data, measures=['MSE'], cv = 5, verbose=False)\n",
    "    tmp = pd.DataFrame.from_dict(results).mean(axis=0)\n",
    "    tmp = pd.concat([tmp, pd.Series([str(algorithm).split(' ')[0].split('.')[-1]], index=['Algorithm'])])\n",
    "    benchmark.append(tmp)\n",
    "    \n",
    "pd.DataFrame(benchmark).set_index('Algorithm').sort_values('test_mse')"
   ]
  },
  {
   "cell_type": "code",
   "execution_count": 14,
   "id": "cdfd39b5",
   "metadata": {},
   "outputs": [
    {
     "name": "stdout",
     "output_type": "stream",
     "text": [
      "Estimating biases using als...\n",
      "Estimating biases using als...\n",
      "Estimating biases using als...\n",
      "Estimating biases using als...\n",
      "Estimating biases using als...\n"
     ]
    },
    {
     "data": {
      "text/plain": [
       "{'test_mse': array([3.0899807 , 3.02378583, 3.02483092, 3.04125602, 3.08441461]),\n",
       " 'fit_time': (0.06663990020751953,\n",
       "  0.07636404037475586,\n",
       "  0.08256196975708008,\n",
       "  0.07338309288024902,\n",
       "  0.08058977127075195),\n",
       " 'test_time': (0.03319382667541504,\n",
       "  0.3156452178955078,\n",
       "  0.31651806831359863,\n",
       "  0.31752896308898926,\n",
       "  0.318742036819458)}"
      ]
     },
     "execution_count": 14,
     "metadata": {},
     "output_type": "execute_result"
    }
   ],
   "source": [
    "bslOptions = {'method': 'als',\n",
    "               'n_epochs': 5,\n",
    "               'reg_u': 12,\n",
    "               'reg_i': 5\n",
    "               }\n",
    "model = BaselineOnly(bsl_options = bslOptions)\n",
    "cross_validate(model, data, measures = ['MSE'], cv = 5, verbose = False)"
   ]
  },
  {
   "cell_type": "code",
   "execution_count": 18,
   "id": "586bbadf",
   "metadata": {},
   "outputs": [],
   "source": [
    "trainingData = data.build_full_trainset()"
   ]
  },
  {
   "cell_type": "code",
   "execution_count": 19,
   "id": "7aa868f9",
   "metadata": {},
   "outputs": [
    {
     "name": "stdout",
     "output_type": "stream",
     "text": [
      "Estimating biases using als...\n"
     ]
    },
    {
     "data": {
      "text/plain": [
       "<surprise.prediction_algorithms.baseline_only.BaselineOnly at 0x2b72f5f10>"
      ]
     },
     "execution_count": 19,
     "metadata": {},
     "output_type": "execute_result"
    }
   ],
   "source": [
    "model = BaselineOnly(bsl_options = bslOptions)\n",
    "model.fit(trainingData)"
   ]
  },
  {
   "cell_type": "code",
   "execution_count": 20,
   "id": "83204398",
   "metadata": {},
   "outputs": [],
   "source": [
    "predictions = open(\"predictions_Hours.csv\", 'w')\n",
    "for l in open(\"pairs_Hours.csv\"):\n",
    "    if l.startswith(\"userID\"):\n",
    "        predictions.write(l)\n",
    "        continue\n",
    "    u,g = l.strip().split(',')\n",
    "    predictedPlayTime = model.predict(u, g).est\n",
    "    predictions.write(u + ',' + g + ',' + str(predictedPlayTime) + '\\n')\n",
    "\n",
    "predictions.close()"
   ]
  },
  {
   "cell_type": "code",
   "execution_count": null,
   "id": "4d601c4f",
   "metadata": {},
   "outputs": [],
   "source": []
  }
 ],
 "metadata": {
  "kernelspec": {
   "display_name": "Python 3 (ipykernel)",
   "language": "python",
   "name": "python3"
  },
  "language_info": {
   "codemirror_mode": {
    "name": "ipython",
    "version": 3
   },
   "file_extension": ".py",
   "mimetype": "text/x-python",
   "name": "python",
   "nbconvert_exporter": "python",
   "pygments_lexer": "ipython3",
   "version": "3.11.5"
  }
 },
 "nbformat": 4,
 "nbformat_minor": 5
}
