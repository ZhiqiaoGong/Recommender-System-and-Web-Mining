{
 "cells": [
  {
   "cell_type": "code",
   "execution_count": 811,
   "id": "0f55c023",
   "metadata": {},
   "outputs": [],
   "source": [
    "import gzip\n",
    "from collections import defaultdict\n",
    "import math\n",
    "import scipy.optimize\n",
    "from sklearn import svm\n",
    "import numpy\n",
    "import string\n",
    "import random\n",
    "import string\n",
    "from sklearn import linear_model\n",
    "import pandas\n",
    "from sklearn.metrics import mean_squared_error"
   ]
  },
  {
   "cell_type": "code",
   "execution_count": 812,
   "id": "005c1a02-c5bf-4241-8d00-dc260d36f08f",
   "metadata": {},
   "outputs": [],
   "source": [
    "def assertFloat(x):\n",
    "    assert type(float(x)) == float\n",
    "\n",
    "def assertFloatList(items, N):\n",
    "    assert len(items) == N\n",
    "    assert [type(float(x)) for x in items] == [float]*N"
   ]
  },
  {
   "cell_type": "code",
   "execution_count": 813,
   "id": "cb2abe72",
   "metadata": {},
   "outputs": [],
   "source": [
    "def readGz(path):\n",
    "    for l in gzip.open(path, 'rt'):\n",
    "        yield eval(l)"
   ]
  },
  {
   "cell_type": "code",
   "execution_count": 814,
   "id": "e54fa48f",
   "metadata": {},
   "outputs": [],
   "source": [
    "def readJSON(path):\n",
    "    f = gzip.open(path, 'rt')\n",
    "    f.readline()\n",
    "    for l in f:\n",
    "        d = eval(l)\n",
    "        u = d['userID']\n",
    "        g = d['gameID']\n",
    "        yield u,g,d"
   ]
  },
  {
   "cell_type": "code",
   "execution_count": 815,
   "id": "c215087c",
   "metadata": {},
   "outputs": [],
   "source": [
    "answers = {}"
   ]
  },
  {
   "cell_type": "code",
   "execution_count": 816,
   "id": "27aec54d",
   "metadata": {},
   "outputs": [],
   "source": [
    "def UsersGames(data):\n",
    "    usergames = defaultdict(set)\n",
    "    gameusers = defaultdict(set)\n",
    "    for u, g, d in data:\n",
    "        usergames[u].add(g)\n",
    "        gameusers[g].add(u)\n",
    "    return usergames, gameusers"
   ]
  },
  {
   "cell_type": "code",
   "execution_count": 817,
   "id": "e72d24da",
   "metadata": {},
   "outputs": [],
   "source": [
    "allHours = []\n",
    "for l in readJSON(\"train.json.gz\"):\n",
    "    allHours.append(l)"
   ]
  },
  {
   "cell_type": "code",
   "execution_count": 818,
   "id": "462bd9bd-b657-4571-8fef-eee11d852099",
   "metadata": {},
   "outputs": [],
   "source": [
    "hoursTrain = allHours[:165000]\n",
    "hoursValid = allHours[165000:]"
   ]
  },
  {
   "cell_type": "code",
   "execution_count": 674,
   "id": "c58fd9e5-0ba6-4fef-83c1-315503d75348",
   "metadata": {},
   "outputs": [],
   "source": [
    "##################################################\n",
    "# Play prediction                                #\n",
    "##################################################"
   ]
  },
  {
   "cell_type": "code",
   "execution_count": 746,
   "id": "4e06cc33-bc60-4b45-be63-8033c17d9fe6",
   "metadata": {},
   "outputs": [],
   "source": [
    "gameCount = defaultdict(int)\n",
    "totalPlayed = 0\n",
    "\n",
    "for user,game,_ in hoursTrain:\n",
    "    gameCount[game] += 1\n",
    "    totalPlayed += 1\n",
    "\n",
    "\n",
    "# gameCount = defaultdict(int)\n",
    "# gameHours = defaultdict(float)\n",
    "\n",
    "# for user, game, d in hoursTrain:\n",
    "#     gameCount[game] += 1\n",
    "#     gameHours[game] += d['hours']\n",
    "#     totalPlayed += 1\n",
    "\n",
    "\n",
    "\n",
    "\n",
    "# additional_factor_weight =0.5 \n",
    "\n",
    "# mostPopular = [(gameCount[x] * (1 - additional_factor_weight) + \n",
    "#                 (gameHours[x] / gameCount[x]) * additional_factor_weight, x) \n",
    "#                for x in gameCount]\n",
    "mostPopular = [(gameCount[x], x) for x in gameCount]\n",
    "\n",
    "mostPopular.sort()\n",
    "mostPopular.reverse()\n",
    "\n",
    "return1 = set()\n",
    "count = 0\n",
    "for ic, i in mostPopular:\n",
    "  count += ic\n",
    "  return1.add(i)\n",
    "  if count > totalPlayed/2: break\n",
    "\n",
    "def get_prediction(u,g):\n",
    "    if g in return1:\n",
    "        return 1\n",
    "    else:\n",
    "        return 0"
   ]
  },
  {
   "cell_type": "code",
   "execution_count": 747,
   "id": "12f46fd0-3abb-4f46-8a8b-9cf37efa99ee",
   "metadata": {},
   "outputs": [],
   "source": [
    "### Question 1"
   ]
  },
  {
   "cell_type": "code",
   "execution_count": 748,
   "id": "7aa30a66-0dcd-4f1f-beb0-a6ba473c9070",
   "metadata": {},
   "outputs": [],
   "source": [
    "# Evaluate baseline strategy\n",
    "allGames = set([g for u, g, d in hoursTrain + hoursValid])\n",
    "\n",
    "usergames,gameusers = UsersGames(hoursTrain + hoursValid)\n",
    "\n",
    "augmentedValidationSet = []\n",
    "\n",
    "valid1 = []\n",
    "valid2 = []\n",
    "\n",
    "for u,i,d in hoursValid:\n",
    "    valid1.append((u, i, 1))\n",
    "    valid2.append((u, random.choice(list(allGames - usergames[u])), 0))\n",
    "augmentedValidationSet = valid1 + valid2"
   ]
  },
  {
   "cell_type": "code",
   "execution_count": 749,
   "id": "4aff63cc-3354-4189-8314-41a44a090609",
   "metadata": {},
   "outputs": [],
   "source": [
    "predictions = [1 if get_prediction(u, g)==p else 0 for u,g,p in augmentedValidationSet]\n",
    "\n",
    "accuracy = sum(predictions)/len(augmentedValidationSet)"
   ]
  },
  {
   "cell_type": "code",
   "execution_count": 750,
   "id": "566d3287-9a8c-4d00-8e47-a6d73d107c7a",
   "metadata": {},
   "outputs": [
    {
     "data": {
      "text/plain": [
       "0.6824682468246824"
      ]
     },
     "execution_count": 750,
     "metadata": {},
     "output_type": "execute_result"
    }
   ],
   "source": [
    "accuracy"
   ]
  },
  {
   "cell_type": "code",
   "execution_count": 751,
   "id": "17cb78c4-5841-46a9-af75-cc347d4f39c0",
   "metadata": {},
   "outputs": [],
   "source": [
    "answers['Q1'] = accuracy"
   ]
  },
  {
   "cell_type": "code",
   "execution_count": 752,
   "id": "158deaa6-d294-4873-b10f-85f883d833d8",
   "metadata": {},
   "outputs": [],
   "source": [
    "assertFloat(answers['Q1'])"
   ]
  },
  {
   "cell_type": "code",
   "execution_count": 753,
   "id": "f843a2a7-57e5-4947-a513-ba8fa35f8cb6",
   "metadata": {},
   "outputs": [],
   "source": [
    "### Question 2"
   ]
  },
  {
   "cell_type": "code",
   "execution_count": 754,
   "id": "47c2b474-700f-4d37-be1b-3a704ad2968b",
   "metadata": {},
   "outputs": [],
   "source": [
    "# Improved strategy\n",
    "threshold = 2.7 * totalPlayed / 5\n",
    "\n",
    "return12 = set()\n",
    "count2 = 0\n",
    "for ic, i in mostPopular:\n",
    "  count2 += ic\n",
    "  return12.add(i)\n",
    "  if count2 > threshold: break\n",
    "\n",
    "def get_prediction2(u,g):\n",
    "    if g in return12:\n",
    "        return 1\n",
    "    else:\n",
    "        return 0"
   ]
  },
  {
   "cell_type": "code",
   "execution_count": 755,
   "id": "6474d5ac-7dd0-4d62-b938-ec025bef55de",
   "metadata": {},
   "outputs": [],
   "source": [
    "# Evaluate baseline strategy\n",
    "predictions = [1 if get_prediction2(u, g)==p else 0 for u,g,p in augmentedValidationSet]\n",
    "\n",
    "accuracy = sum(predictions)/len(augmentedValidationSet)"
   ]
  },
  {
   "cell_type": "code",
   "execution_count": 756,
   "id": "9b3ae801-c8c8-4d1c-ac0f-9a83744355b4",
   "metadata": {},
   "outputs": [
    {
     "data": {
      "text/plain": [
       "0.6887688768876887"
      ]
     },
     "execution_count": 756,
     "metadata": {},
     "output_type": "execute_result"
    }
   ],
   "source": [
    "accuracy"
   ]
  },
  {
   "cell_type": "code",
   "execution_count": 757,
   "id": "06a69839-1423-4160-80dc-451eccf6b82f",
   "metadata": {},
   "outputs": [],
   "source": [
    "answers['Q2'] = [accuracy, 100*2/3]"
   ]
  },
  {
   "cell_type": "code",
   "execution_count": 758,
   "id": "44ddabf1-bf18-428d-91b2-82702133cfb1",
   "metadata": {},
   "outputs": [],
   "source": [
    "assertFloatList(answers['Q2'], 2)"
   ]
  },
  {
   "cell_type": "code",
   "execution_count": 759,
   "id": "8c5c5e95-1c35-4f00-9fac-5a1d3bec338b",
   "metadata": {},
   "outputs": [],
   "source": [
    "### Question 3/4"
   ]
  },
  {
   "cell_type": "code",
   "execution_count": 760,
   "id": "0e7cca75-8730-459c-ad27-d827d65856e2",
   "metadata": {},
   "outputs": [],
   "source": [
    "def Jaccard(s1, s2):\n",
    "    numer = len(s1.intersection(s2))\n",
    "    denom = len(s1.union(s2))\n",
    "    if denom == 0:\n",
    "        return 0\n",
    "    return numer / denom\n"
   ]
  },
  {
   "cell_type": "code",
   "execution_count": 761,
   "id": "90b0cef7-5e41-45d7-887d-7c1fb6b4629b",
   "metadata": {},
   "outputs": [],
   "source": [
    "usergames_train,gameusers_train = UsersGames(hoursTrain)"
   ]
  },
  {
   "cell_type": "code",
   "execution_count": 762,
   "id": "946029be-3136-45ff-b9d7-8a4b46e66514",
   "metadata": {},
   "outputs": [],
   "source": [
    "def predictJaccard(u,g):\n",
    "    maxJaccrd = 0\n",
    "    threshold34 = 0.03035\n",
    "    predictionsJaccard = []\n",
    "    gamesset = usergames_train.get(u)\n",
    "    if gamesset is None:\n",
    "        return 0\n",
    "    for g1 in gamesset:\n",
    "        if g==g1:\n",
    "            continue\n",
    "        j = Jaccard(gameusers_train.get(g1),gameusers_train.get(g))\n",
    "        if j>maxJaccrd:\n",
    "            maxJaccrd = j\n",
    "    if maxJaccrd > threshold34:\n",
    "        return 1\n",
    "    else:\n",
    "        return 0"
   ]
  },
  {
   "cell_type": "code",
   "execution_count": 763,
   "id": "22856bd6-95dc-4157-9e81-686ab60c8a20",
   "metadata": {},
   "outputs": [],
   "source": [
    "predictions = [predictJaccard(u, g)==p for u,g,p in augmentedValidationSet]\n",
    "\n",
    "accuracy3 = sum(predictions)/len(augmentedValidationSet)"
   ]
  },
  {
   "cell_type": "code",
   "execution_count": 764,
   "id": "931b2385-461e-443b-b65c-91257f6b9028",
   "metadata": {},
   "outputs": [
    {
     "data": {
      "text/plain": [
       "0.6753675367536753"
      ]
     },
     "execution_count": 764,
     "metadata": {},
     "output_type": "execute_result"
    }
   ],
   "source": [
    "accuracy3"
   ]
  },
  {
   "cell_type": "code",
   "execution_count": 765,
   "id": "f6c74ca5-97f5-4719-ad7e-b5c9260a584f",
   "metadata": {},
   "outputs": [],
   "source": [
    "threshold = 2 * totalPlayed / 3\n",
    "\n",
    "return13 = set()\n",
    "count3 = 0\n",
    "for ic, i in mostPopular:\n",
    "  count3 += ic\n",
    "  return13.add(i)\n",
    "  if count3 > threshold: break\n",
    "\n",
    "def get_prediction3(u,g):\n",
    "    if g in return13:\n",
    "        return 1\n",
    "    else:\n",
    "        return 0"
   ]
  },
  {
   "cell_type": "code",
   "execution_count": 766,
   "id": "b566bb81-f566-4d1a-9b35-03e31c295049",
   "metadata": {},
   "outputs": [
    {
     "data": {
      "text/plain": [
       "0.6836183618361836"
      ]
     },
     "execution_count": 766,
     "metadata": {},
     "output_type": "execute_result"
    }
   ],
   "source": [
    "predictions = [1 if get_prediction3(u, g) or predictJaccard(u, g) else 0 for u,g,p in augmentedValidationSet]\n",
    "accuracy4 = sum([p == l for p, l in zip([p for u,d,p in augmentedValidationSet], predictions)]) / len(augmentedValidationSet)\n",
    "accuracy4"
   ]
  },
  {
   "cell_type": "code",
   "execution_count": 656,
   "id": "6180d5a7-fcaa-4208-9e2e-0babf0ab854d",
   "metadata": {},
   "outputs": [],
   "source": [
    "answers['Q3'] = accuracy3\n",
    "answers['Q4'] = accuracy4"
   ]
  },
  {
   "cell_type": "code",
   "execution_count": 657,
   "id": "6ac29b20-93d8-467e-9343-7363ae7c8071",
   "metadata": {},
   "outputs": [],
   "source": [
    "assertFloat(answers['Q3'])\n",
    "assertFloat(answers['Q4'])"
   ]
  },
  {
   "cell_type": "code",
   "execution_count": 664,
   "id": "c328cc18-9e99-44b9-a714-39af6a8ad168",
   "metadata": {},
   "outputs": [],
   "source": [
    "return14 = set()\n",
    "count4 = 0\n",
    "for ic, i in mostPopular:\n",
    "  count4 += ic\n",
    "  return14.add(i)\n",
    "  if count4 > threshold: break\n",
    "\n",
    "def get_prediction4(u,g):\n",
    "    if g in return14:\n",
    "        return 1\n",
    "    else:\n",
    "        return 0"
   ]
  },
  {
   "cell_type": "code",
   "execution_count": 665,
   "id": "75f81286-487d-494a-8ee8-a42c1aca6eb7",
   "metadata": {},
   "outputs": [],
   "source": [
    "predictions = open(\"predictions_Played.csv\", 'w')\n",
    "for l in open(\"pairs_Played.csv\"):\n",
    "    if l.startswith(\"userID\"):\n",
    "        predictions.write(l)\n",
    "        continue\n",
    "    u,g = l.strip().split(',')\n",
    "    \n",
    "    baselinepre = get_prediction4(u, g)\n",
    "    jpre = predictJaccard(u, g)\n",
    "    if baselinepre or jpre:\n",
    "        pred = 1\n",
    "    else:\n",
    "        pred = 0\n",
    "\n",
    "    _ = predictions.write(u + ',' + g + ',' + str(pred) + '\\n')\n",
    "\n",
    "predictions.close()"
   ]
  },
  {
   "cell_type": "code",
   "execution_count": 598,
   "id": "dbfd2cbf-b515-4f70-b613-e1248c5d6020",
   "metadata": {},
   "outputs": [],
   "source": [
    "answers['Q5'] = \"I confirm that I have uploaded an assignment submission to gradescope\""
   ]
  },
  {
   "cell_type": "code",
   "execution_count": 162,
   "id": "c82a7a00",
   "metadata": {},
   "outputs": [],
   "source": [
    "##################################################\n",
    "# Hours played prediction                        #\n",
    "##################################################"
   ]
  },
  {
   "cell_type": "code",
   "execution_count": 936,
   "id": "772dd561-ceae-4c2e-9347-7ba3eb2dd650",
   "metadata": {},
   "outputs": [],
   "source": [
    "trainHours = [r[2]['hours_transformed'] for r in hoursTrain]\n",
    "globalAverage = sum(trainHours) * 1.0 / len(trainHours)"
   ]
  },
  {
   "cell_type": "code",
   "execution_count": 937,
   "id": "4b95a9e5-b36f-4883-befb-6dedfd833dcb",
   "metadata": {},
   "outputs": [],
   "source": [
    "### Question 6"
   ]
  },
  {
   "cell_type": "code",
   "execution_count": 938,
   "id": "b0e967d8-969e-4513-9b68-8c9cdce0cc1f",
   "metadata": {},
   "outputs": [],
   "source": [
    "hoursPerUser = {}\n",
    "hoursPerItem = {}\n",
    "for u, g, d in hoursTrain:\n",
    "    t = d.get('hours_transformed')\n",
    "    if u not in hoursPerUser:\n",
    "        hoursPerUser[u] = set()\n",
    "    hoursPerUser[u].add(t)\n",
    "    if g not in hoursPerItem:\n",
    "        hoursPerItem[g] = set()\n",
    "    hoursPerItem[g].add(t)"
   ]
  },
  {
   "cell_type": "code",
   "execution_count": 939,
   "id": "d4b39158-3b06-4057-bfb7-5ef1d547e3b3",
   "metadata": {},
   "outputs": [],
   "source": [
    "betaU = {}\n",
    "betaI = {}\n",
    "for u in hoursPerUser:\n",
    "    betaU[u] = 0\n",
    "\n",
    "for g in hoursPerItem:\n",
    "    betaI[g] = 0"
   ]
  },
  {
   "cell_type": "code",
   "execution_count": 940,
   "id": "ae174441-3c7e-4b41-8869-7a67b6c61607",
   "metadata": {},
   "outputs": [
    {
     "data": {
      "text/plain": [
       "3.716088074007024"
      ]
     },
     "execution_count": 940,
     "metadata": {},
     "output_type": "execute_result"
    }
   ],
   "source": [
    "alpha = globalAverage # Could initialize anywhere, this is a guess\n",
    "alpha"
   ]
  },
  {
   "cell_type": "code",
   "execution_count": 941,
   "id": "dfdee126-0e2a-44cb-8d9e-8105376d11e2",
   "metadata": {},
   "outputs": [],
   "source": [
    "lambda_ = 1\n",
    "iter = 100\n",
    "tolerance = 1e-5 \n",
    "pmse = 0\n",
    "converged = False"
   ]
  },
  {
   "cell_type": "code",
   "execution_count": 942,
   "id": "2f6fcc8f-d1a3-4798-9004-6648c279d49d",
   "metadata": {},
   "outputs": [],
   "source": [
    "usergameHours = {}\n",
    "for u, g, d in hoursTrain:\n",
    "    usergameHours[(u,g)] = d['hours_transformed']"
   ]
  },
  {
   "cell_type": "code",
   "execution_count": 1002,
   "id": "6e4e7c89-dad0-4754-8c9c-841110e2fa65",
   "metadata": {},
   "outputs": [],
   "source": [
    "def iterate(lamb):\n",
    "    alpha = globalAverage\n",
    "    betau_iterate = {}\n",
    "    betai_iterate = {}\n",
    "    for u in hoursPerUser:\n",
    "        betau_iterate[u] = 0\n",
    "    \n",
    "    for g in hoursPerItem:\n",
    "        betai_iterate[g] = 0\n",
    "    iter = 100\n",
    "    tolerance = 1e-8\n",
    "    pmse = float(\"inf\")\n",
    "    converged = False\n",
    "    tolerance_count=3\n",
    "    \n",
    "    for iteration in range(iter):\n",
    "        alpha = sum([ usergameHours[d] - betau_iterate[d[0]] - betai_iterate[d[1]] for d in usergameHours])/len(usergameHours)\n",
    "        \n",
    "        for u in usergames_train:\n",
    "            betau_iterate[u] = sum([ usergameHours[(u,g)] - alpha - betai_iterate[g] for g in usergames_train[u]])/(lamb + len(usergames_train[u]))\n",
    "    \n",
    "        for g in gameusers_train:\n",
    "            betai_iterate[g] = sum([ usergameHours[(u,g)] - alpha - betau_iterate[u] for u in gameusers_train[g]])/(lamb + len(gameusers_train[g]))\n",
    "    \n",
    "        predictions = [alpha + betau_iterate[u] + betai_iterate[g] for u,g,d in hoursValid]\n",
    "        y = [d['hours_transformed'] for u,g,d in hoursValid]\n",
    "    \n",
    "        mse = mean_squared_error(predictions, y)\n",
    "        \n",
    "        if mse > pmse:\n",
    "            break\n",
    "        else:\n",
    "            pmse = mse\n",
    "\n",
    "    return alpha, betau_iterate, betai_iterate, mse"
   ]
  },
  {
   "cell_type": "code",
   "execution_count": 975,
   "id": "6534a08d-013e-4353-a12c-b1f2bbed5812",
   "metadata": {},
   "outputs": [],
   "source": [
    "answers['Q6'] = mse1"
   ]
  },
  {
   "cell_type": "code",
   "execution_count": 946,
   "id": "bc0e3695-682b-4d65-9576-c59795d04930",
   "metadata": {},
   "outputs": [],
   "source": [
    "assertFloat(answers['Q6'])"
   ]
  },
  {
   "cell_type": "code",
   "execution_count": 876,
   "id": "d9d419e4-e8c4-4766-b189-d77fbe608417",
   "metadata": {},
   "outputs": [],
   "source": [
    "### Question 7"
   ]
  },
  {
   "cell_type": "code",
   "execution_count": 790,
   "id": "4a48cc70-1c2c-40df-9843-fea1f287a10e",
   "metadata": {},
   "outputs": [
    {
     "name": "stdout",
     "output_type": "stream",
     "text": [
      "Maximum betaU = u60898505 (5.404040043113816)\n",
      "Maximum betaI = g17604638 (5.079399440514896)\n",
      "Minimum betaU = u13037838 (-2.974394854201803)\n",
      "Minimum betaI = g84397720 (-3.123343276752127)\n"
     ]
    }
   ],
   "source": [
    "betaUs = [(betaU[u], u) for u in betaU]\n",
    "betaIs = [(betaI[i], i) for i in betaI]\n",
    "betaUs.sort()\n",
    "betaIs.sort()\n",
    "\n",
    "print(\"Maximum betaU = \" + str(betaUs[-1][1]) + ' (' + str(betaUs[-1][0]) + ')')\n",
    "print(\"Maximum betaI = \" + str(betaIs[-1][1]) + ' (' + str(betaIs[-1][0]) + ')')\n",
    "print(\"Minimum betaU = \" + str(betaUs[0][1]) + ' (' + str(betaUs[0][0]) + ')')\n",
    "print(\"Minimum betaI = \" + str(betaIs[0][1]) + ' (' + str(betaIs[0][0]) + ')')"
   ]
  },
  {
   "cell_type": "code",
   "execution_count": 791,
   "id": "65b17529-ade3-4cdf-a5c1-b17b06e68237",
   "metadata": {},
   "outputs": [],
   "source": [
    "answers['Q7'] = [betaUs[-1][0], betaUs[0][0], betaIs[-1][0], betaIs[0][0]]"
   ]
  },
  {
   "cell_type": "code",
   "execution_count": 792,
   "id": "4eeaf180-3bd8-4acb-aef5-86b044521e56",
   "metadata": {},
   "outputs": [
    {
     "data": {
      "text/plain": [
       "[5.404040043113816, -2.974394854201803, 5.079399440514896, -3.123343276752127]"
      ]
     },
     "execution_count": 792,
     "metadata": {},
     "output_type": "execute_result"
    }
   ],
   "source": [
    "answers['Q7']"
   ]
  },
  {
   "cell_type": "code",
   "execution_count": 793,
   "id": "7c9faa5c-2bc1-4d51-ae29-df2d82c9372d",
   "metadata": {},
   "outputs": [],
   "source": [
    "assertFloatList(answers['Q7'], 4)"
   ]
  },
  {
   "cell_type": "code",
   "execution_count": 794,
   "id": "c604fd19-2fb8-44bf-82b5-33797f534707",
   "metadata": {},
   "outputs": [],
   "source": [
    "### Question 8"
   ]
  },
  {
   "cell_type": "code",
   "execution_count": 1003,
   "id": "30b8cbba-d0ec-46a6-b079-1c9a0e188971",
   "metadata": {},
   "outputs": [
    {
     "name": "stdout",
     "output_type": "stream",
     "text": [
      "2.9906434378428144\n",
      "2.990641345398677\n",
      "2.990639404088878\n",
      "2.9906376135300303\n",
      "2.990635973339882\n",
      "2.990634483137326\n",
      "2.9906331425423853\n",
      "2.9906319511762174\n",
      "2.9906309086611036\n",
      "2.9906300146204496\n",
      "2.990629268678779\n",
      "2.9906286704617333\n",
      "2.9906282195960614\n",
      "2.9906279157096223\n",
      "2.990627758431377\n",
      "2.9906277473913887\n",
      "2.9906278822208137\n",
      "2.990628162551902\n",
      "2.9906285880179917\n",
      "2.990629158253506\n"
     ]
    },
    {
     "data": {
      "text/plain": [
       "4.95"
      ]
     },
     "execution_count": 1003,
     "metadata": {},
     "output_type": "execute_result"
    }
   ],
   "source": [
    "# Better lambda...\n",
    "bestmse=float(\"inf\")\n",
    "bestlamb = 0\n",
    "for l in range(480,500):\n",
    "    _,_,_,t = iterate(l/100)\n",
    "    print(t)\n",
    "    if t < bestmse:\n",
    "        bestmse = t\n",
    "        bestlamb = l/100\n",
    "bestlamb"
   ]
  },
  {
   "cell_type": "code",
   "execution_count": 1004,
   "id": "7fcbb694-216f-4eaf-811f-47d819e14443",
   "metadata": {},
   "outputs": [
    {
     "data": {
      "text/plain": [
       "2.9906277473913887"
      ]
     },
     "execution_count": 1004,
     "metadata": {},
     "output_type": "execute_result"
    }
   ],
   "source": [
    "bestmse"
   ]
  },
  {
   "cell_type": "code",
   "execution_count": 1005,
   "id": "34e94edc-1347-4960-b12c-01e52cbc744e",
   "metadata": {},
   "outputs": [
    {
     "data": {
      "text/plain": [
       "2.9906277473913887"
      ]
     },
     "execution_count": 1005,
     "metadata": {},
     "output_type": "execute_result"
    }
   ],
   "source": [
    "alpha, betaU, betaI, mse5 = iterate(bestlamb)\n",
    "mse5"
   ]
  },
  {
   "cell_type": "code",
   "execution_count": 841,
   "id": "b95c8e49-d120-4367-a20f-a39381776979",
   "metadata": {},
   "outputs": [],
   "source": [
    "answers['Q8'] = (l, bestmse)"
   ]
  },
  {
   "cell_type": "code",
   "execution_count": 842,
   "id": "fe2dcb96-86a0-473e-980b-340435715ea8",
   "metadata": {},
   "outputs": [],
   "source": [
    "assertFloatList(answers['Q8'], 2)"
   ]
  },
  {
   "cell_type": "code",
   "execution_count": 994,
   "id": "90a7cd55-1f58-42a5-8c35-4debf80a3e3e",
   "metadata": {},
   "outputs": [],
   "source": [
    "predictions = open(\"predictions_Hours.csv\", 'w')\n",
    "for l in open(\"pairs_Hours.csv\"):\n",
    "    if l.startswith(\"userID\"):\n",
    "        predictions.write(l)\n",
    "        continue\n",
    "    u,g = l.strip().split(',')\n",
    "    \n",
    "    bu = betaU[u]\n",
    "    bi = betaI[g]\n",
    "    \n",
    "    _ = predictions.write(u + ',' + g + ',' + str(alpha + bu + bi) + '\\n')\n",
    "\n",
    "predictions.close()"
   ]
  },
  {
   "cell_type": "code",
   "execution_count": 935,
   "id": "c5fe92e3-3ab1-4858-858c-eeb732d964f6",
   "metadata": {},
   "outputs": [],
   "source": [
    "f = open(\"answers_hw3.txt\", 'w')\n",
    "f.write(str(answers) + '\\n')\n",
    "f.close()"
   ]
  },
  {
   "cell_type": "code",
   "execution_count": null,
   "id": "9676dc3e",
   "metadata": {},
   "outputs": [],
   "source": []
  }
 ],
 "metadata": {
  "kernelspec": {
   "display_name": "Python 3 (ipykernel)",
   "language": "python",
   "name": "python3"
  },
  "language_info": {
   "codemirror_mode": {
    "name": "ipython",
    "version": 3
   },
   "file_extension": ".py",
   "mimetype": "text/x-python",
   "name": "python",
   "nbconvert_exporter": "python",
   "pygments_lexer": "ipython3",
   "version": "3.11.6"
  }
 },
 "nbformat": 4,
 "nbformat_minor": 5
}
