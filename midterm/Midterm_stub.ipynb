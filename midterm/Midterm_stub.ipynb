{
 "cells": [
  {
   "cell_type": "code",
   "execution_count": 1,
   "id": "8fadc0b4",
   "metadata": {},
   "outputs": [],
   "source": [
    "import json\n",
    "import gzip\n",
    "import math\n",
    "from collections import defaultdict\n",
    "import numpy\n",
    "from sklearn import linear_model\n",
    "import random\n",
    "import statistics\n",
    "import sklearn"
   ]
  },
  {
   "cell_type": "code",
   "execution_count": 2,
   "id": "bcdcf1eb",
   "metadata": {},
   "outputs": [],
   "source": [
    "def assertFloat(x):\n",
    "    assert type(float(x)) == float\n",
    "\n",
    "def assertFloatList(items, N):\n",
    "    assert len(items) == N\n",
    "    assert [type(float(x)) for x in items] == [float]*N"
   ]
  },
  {
   "cell_type": "code",
   "execution_count": 3,
   "id": "42a8d119",
   "metadata": {},
   "outputs": [],
   "source": [
    "answers = {}"
   ]
  },
  {
   "cell_type": "code",
   "execution_count": 4,
   "id": "83a6d4b5",
   "metadata": {},
   "outputs": [],
   "source": [
    "z = gzip.open(\"train.json.gz\")"
   ]
  },
  {
   "cell_type": "code",
   "execution_count": 5,
   "id": "0d2ef14c",
   "metadata": {},
   "outputs": [],
   "source": [
    "dataset = []\n",
    "for l in z:\n",
    "    d = eval(l)\n",
    "    dataset.append(d)"
   ]
  },
  {
   "cell_type": "code",
   "execution_count": 6,
   "id": "46a06fd5",
   "metadata": {},
   "outputs": [],
   "source": [
    "z.close()"
   ]
  },
  {
   "cell_type": "code",
   "execution_count": 7,
   "id": "93e80cfe",
   "metadata": {},
   "outputs": [],
   "source": [
    "### Question 1"
   ]
  },
  {
   "cell_type": "code",
   "execution_count": 8,
   "id": "7690d352-83de-4041-99f2-f441d4616a43",
   "metadata": {},
   "outputs": [
    {
     "data": {
      "text/plain": [
       "{'userID': 'u70666506',\n",
       " 'early_access': False,\n",
       " 'hours': 63.5,\n",
       " 'hours_transformed': 6.011227255423254,\n",
       " 'found_funny': 1,\n",
       " 'text': 'If you want to sit in queue for 10-20min and have 140 ping then this game is perfect for you :)',\n",
       " 'gameID': 'g49368897',\n",
       " 'user_id': '76561198030408772',\n",
       " 'date': '2017-05-20'}"
      ]
     },
     "execution_count": 8,
     "metadata": {},
     "output_type": "execute_result"
    }
   ],
   "source": [
    "dataset[1]"
   ]
  },
  {
   "cell_type": "code",
   "execution_count": 9,
   "id": "c37e48b0",
   "metadata": {},
   "outputs": [],
   "source": [
    "def MSE(y, ypred):\n",
    "    return sum([(p - l)**2 for (p,l) in zip(y, ypred)])/len(y)"
   ]
  },
  {
   "cell_type": "code",
   "execution_count": 10,
   "id": "85a5714b",
   "metadata": {},
   "outputs": [],
   "source": [
    "def MAE(y, ypred):\n",
    "    return sum([abs(p - l) for (p,l) in zip(y, ypred)])/len(y)"
   ]
  },
  {
   "cell_type": "code",
   "execution_count": 11,
   "id": "9313a06c",
   "metadata": {},
   "outputs": [
    {
     "data": {
      "text/plain": [
       "[{'hours': 1.5,\n",
       "  'gameID': 'g88735741',\n",
       "  'hours_transformed': 1.3219280948873624,\n",
       "  'early_access': False,\n",
       "  'date': '2010-12-21',\n",
       "  'text': 'OHGODOHMAN OHGODOHMAN OHGODOHMAN OHGODOHMAN OHGODOHMAN OHGODOHMAN',\n",
       "  'userID': 'u12891480'},\n",
       " {'hours': 2.4,\n",
       "  'gameID': 'g88735741',\n",
       "  'hours_transformed': 1.765534746362977,\n",
       "  'early_access': False,\n",
       "  'date': '2011-04-29',\n",
       "  'text': 'tem a brincadera q eu e meu avo brincava com os nego na senzala, ele tinha um anzol de pexe e ricocheteava nos negros escravos, era engraçado eles gritava toda noite',\n",
       "  'userID': 'u28629898'},\n",
       " {'hours': 0.0,\n",
       "  'gameID': 'g88735741',\n",
       "  'hours_transformed': 0.0,\n",
       "  'early_access': False,\n",
       "  'date': '2011-11-14',\n",
       "  'text': \"Personal rating: 1/10\\nReplayability: N/A\\nBudget: It comes with at least one valve package deal I know of.\\nLenght: N/A\\nThis is some sort of multiplayer game with no real purpose other than to pass time. It has practically zero entertainment value.\\nI can't believe I even tried this game... I'm not sure what it's supposed to be, but it's really boring.\\nI don't think this is sold separately, or at least I doubt anyone ever bought it separately. I got mine in some sort of valve-game bundle with my purchase of half-life.\\nI hate this game. It's... Just lame.\",\n",
       "  'userID': 'u44304781'},\n",
       " {'userID': 'u38428312',\n",
       "  'early_access': False,\n",
       "  'hours': 0.0,\n",
       "  'hours_transformed': 0.0,\n",
       "  'found_funny': 1,\n",
       "  'text': 'I won a golden potato but when i opened my prize package all that was inside it was a massive♥♥♥♥♥♥?? mods help?',\n",
       "  'gameID': 'g88735741',\n",
       "  'date': '2012-01-14'},\n",
       " {'hours': 1.5,\n",
       "  'text': 'AWESOME BEST GAME EVER.',\n",
       "  'gameID': 'g88735741',\n",
       "  'hours_transformed': 1.3219280948873624,\n",
       "  'early_access': False,\n",
       "  'user_id': '76561198003749636',\n",
       "  'date': '2012-06-01',\n",
       "  'userID': 'u61554023'},\n",
       " {'hours': 0.3,\n",
       "  'gameID': 'g88735741',\n",
       "  'hours_transformed': 0.37851162325372983,\n",
       "  'early_access': False,\n",
       "  'date': '2012-12-05',\n",
       "  'text': \"It's da good old Ricoshit! <3\",\n",
       "  'userID': 'u71669461'},\n",
       " {'hours': 3.5,\n",
       "  'gameID': 'g88735741',\n",
       "  'hours_transformed': 2.169925001442312,\n",
       "  'early_access': False,\n",
       "  'date': '2012-12-15',\n",
       "  'text': \"Ricochet 2 WHO'S WITH ME!?\",\n",
       "  'userID': 'u91846722'},\n",
       " {'hours': 0.2,\n",
       "  'gameID': 'g88735741',\n",
       "  'hours_transformed': 0.2630344058337938,\n",
       "  'early_access': False,\n",
       "  'date': '2013-02-16',\n",
       "  'text': 'I hate sharks.',\n",
       "  'userID': 'u58491398'},\n",
       " {'hours': 0.0,\n",
       "  'gameID': 'g88735741',\n",
       "  'hours_transformed': 0.0,\n",
       "  'early_access': False,\n",
       "  'date': '2013-05-15',\n",
       "  'text': 'gabe newell looks at the super bowl like \"yes what a wonderful game concept thank you john madden\"',\n",
       "  'userID': 'u12182788'},\n",
       " {'hours': 0.3,\n",
       "  'gameID': 'g88735741',\n",
       "  'hours_transformed': 0.37851162325372983,\n",
       "  'early_access': False,\n",
       "  'date': '2013-06-02',\n",
       "  'text': '★ ☆ ☆ ☆ ☆',\n",
       "  'userID': 'u32817639'},\n",
       " {'hours': 1.8,\n",
       "  'gameID': 'g88735741',\n",
       "  'hours_transformed': 1.4854268271702415,\n",
       "  'early_access': False,\n",
       "  'date': '2013-07-10',\n",
       "  'text': 'still waiting on the second one',\n",
       "  'userID': 'u94328372'},\n",
       " {'hours': 15.5,\n",
       "  'gameID': 'g88735741',\n",
       "  'hours_transformed': 4.044394119358453,\n",
       "  'early_access': False,\n",
       "  'date': '2013-07-12',\n",
       "  'text': \"HL mods' old times.\",\n",
       "  'userID': 'u48059598'},\n",
       " {'hours': 0.0,\n",
       "  'gameID': 'g88735741',\n",
       "  'hours_transformed': 0.0,\n",
       "  'early_access': False,\n",
       "  'date': '2013-07-22',\n",
       "  'text': 'Ahahaha, awful. *',\n",
       "  'userID': 'u21816427'},\n",
       " {'hours': 2.7,\n",
       "  'gameID': 'g88735741',\n",
       "  'hours_transformed': 1.8875252707415875,\n",
       "  'early_access': False,\n",
       "  'date': '2013-11-25',\n",
       "  'text': \"It's a cool game with interesting mechanics, but I can never seem to find a decent server. People don't really play this game anymore, unfortunately. And, unfortunately, a multiplayer game needs players for it to be fun. I'm a sucker for Tron-style things, but this game is, sadly, a desolate wasteland in its current state. I probably would have had a blast with this game when it first came out, but I guess I came in too late.\\nMaybe this review can be considered a recommendation for others to play it, so I can have the actual opportunity to give this game the chance it deserves.\\nI, personally, am game for a Ricochet 2. Get on it, Valve. We all know you're not really working on finishing Half-life 2.\",\n",
       "  'userID': 'u82219742'},\n",
       " {'hours': 0.5,\n",
       "  'gameID': 'g88735741',\n",
       "  'hours_transformed': 0.5849625007211562,\n",
       "  'early_access': False,\n",
       "  'date': '2014-01-25',\n",
       "  'text': 'A fantastic and enthralling experience, with a deep plot, enriching characters and phenomanal gameplay. A must have in any steam users collection',\n",
       "  'userID': 'u26244410'},\n",
       " {'hours': 0.4,\n",
       "  'gameID': 'g88735741',\n",
       "  'hours_transformed': 0.48542682717024166,\n",
       "  'early_access': False,\n",
       "  'date': '2014-03-04',\n",
       "  'text': 'All I can say is that, this is the most PERFECT game every made. Nuff said.',\n",
       "  'userID': 'u14599982'},\n",
       " {'hours': 0.4,\n",
       "  'gameID': 'g88735741',\n",
       "  'hours_transformed': 0.48542682717024166,\n",
       "  'early_access': False,\n",
       "  'date': '2014-04-27',\n",
       "  'text': 'Best game on the internet 11/10',\n",
       "  'userID': 'u76503236'},\n",
       " {'hours': 0.4,\n",
       "  'gameID': 'g88735741',\n",
       "  'hours_transformed': 0.48542682717024166,\n",
       "  'early_access': False,\n",
       "  'date': '2014-07-06',\n",
       "  'text': 'This game is like \"Frisbee of Death Online 2000\", it is kind of fun to play and silly, it\\'s engine holds up and it plays well. The game is also, like most multiplayer, much more fun with friends. There is no story to this game; you just throw disks at people to kill them while jumping on trampolines in some sort of Tron like virtual setting.\\nUnfortunately I don\\'t feel this game is actually worth anyone\\'s time or money due to lack of quality.\\n7/15 \"Frisbee of Death Online 2000\"',\n",
       "  'userID': 'u73944730'},\n",
       " {'hours': 2.2,\n",
       "  'gameID': 'g88735741',\n",
       "  'hours_transformed': 1.6780719051126378,\n",
       "  'early_access': False,\n",
       "  'date': '2014-07-10',\n",
       "  'text': 'No one plays this anymore, and what even is this?!  XD',\n",
       "  'userID': 'u89383061'},\n",
       " {'userID': 'u62309560',\n",
       "  'early_access': False,\n",
       "  'hours': 0.3,\n",
       "  'hours_transformed': 0.37851162325372983,\n",
       "  'found_funny': 18,\n",
       "  'text': 'You throw a frisbee. 10/10',\n",
       "  'gameID': 'g88735741',\n",
       "  'date': '2014-10-28'},\n",
       " {'userID': 'u00198127',\n",
       "  'early_access': False,\n",
       "  'hours': 0.8,\n",
       "  'hours_transformed': 0.84799690655495,\n",
       "  'found_funny': 13,\n",
       "  'text': 'This is Ultimate Frisbee Deathmatch in Tron.',\n",
       "  'gameID': 'g88735741',\n",
       "  'date': '2014-11-02'},\n",
       " {'hours': 0.2,\n",
       "  'gameID': 'g88735741',\n",
       "  'hours_transformed': 0.2630344058337938,\n",
       "  'early_access': False,\n",
       "  'date': '2014-11-28',\n",
       "  'text': \"Despite people seeming sarcastic about this game, it's actually really fun to play, and disregard my hours on record, I've played it a lot more than that, but before Steam kept track of time played.\\nThe problem as many people have mentioned however is that it's fairly dead, and you'd want to play with a few friends to make the most out of it, maybe do a 4 player free for all or 2v2, but of course with friendly fire, because what fun would it be if you couldn't slice your teammate in half by accident?\",\n",
       "  'userID': 'u41303810'},\n",
       " {'hours': 1.7,\n",
       "  'text': \"What an underrated game. It's completely dead but you could have an extreme amount of fun playing this with friends.\",\n",
       "  'gameID': 'g88735741',\n",
       "  'hours_transformed': 1.4329594072761063,\n",
       "  'early_access': False,\n",
       "  'user_id': '76561198111161269',\n",
       "  'date': '2014-12-05',\n",
       "  'userID': 'u19670502'},\n",
       " {'userID': 'u01388254',\n",
       "  'early_access': False,\n",
       "  'hours': 1.9,\n",
       "  'hours_transformed': 1.5360529002402097,\n",
       "  'found_funny': 3,\n",
       "  'text': 'masterful storytelling.',\n",
       "  'gameID': 'g88735741',\n",
       "  'date': '2014-12-23'},\n",
       " {'hours': 1.7,\n",
       "  'gameID': 'g88735741',\n",
       "  'hours_transformed': 1.4329594072761063,\n",
       "  'early_access': False,\n",
       "  'date': '2015-01-17',\n",
       "  'text': '11/10 still waiting for Ricochet 2.',\n",
       "  'userID': 'u43872207'},\n",
       " {'hours': 1.1,\n",
       "  'gameID': 'g88735741',\n",
       "  'hours_transformed': 1.070389327891398,\n",
       "  'early_access': False,\n",
       "  'date': '2015-03-13',\n",
       "  'text': '+1',\n",
       "  'userID': 'u55351001'},\n",
       " {'hours': 0.1,\n",
       "  'gameID': 'g88735741',\n",
       "  'hours_transformed': 0.13750352374993502,\n",
       "  'early_access': False,\n",
       "  'date': '2015-03-23',\n",
       "  'text': 'good game',\n",
       "  'userID': 'u90437656'},\n",
       " {'userID': 'u60337733',\n",
       "  'early_access': False,\n",
       "  'hours': 0.2,\n",
       "  'hours_transformed': 0.2630344058337938,\n",
       "  'found_funny': 116,\n",
       "  'text': '@E3 2015\\nGaben comes out\\nHeavy breathing intensifies\\nHe says a new game is coming out\\nHe says it will be a great new game\\nHe announces...\\nRICOCHET 2',\n",
       "  'gameID': 'g88735741',\n",
       "  'date': '2015-03-25'},\n",
       " {'userID': 'u75644132',\n",
       "  'early_access': False,\n",
       "  'hours': 0.2,\n",
       "  'hours_transformed': 0.2630344058337938,\n",
       "  'found_funny': 5,\n",
       "  'text': 'I installed the game\\nI entered a server with 3 people\\nthey both had over 50 wins\\nI lost every single round\\ni want my frisbee back',\n",
       "  'gameID': 'g88735741',\n",
       "  'date': '2015-04-06'},\n",
       " {'userID': 'u15010009',\n",
       "  'early_access': False,\n",
       "  'hours': 1.3,\n",
       "  'hours_transformed': 1.2016338611696504,\n",
       "  'found_funny': 2,\n",
       "  'text': 'Ricochet, a fun game with really, really dead servers.',\n",
       "  'gameID': 'g88735741',\n",
       "  'date': '2015-05-09'},\n",
       " {'hours': 0.7,\n",
       "  'gameID': 'g88735741',\n",
       "  'hours_transformed': 0.765534746362977,\n",
       "  'early_access': False,\n",
       "  'date': '2015-06-13',\n",
       "  'text': '10/10',\n",
       "  'userID': 'u11074610'},\n",
       " {'hours': 0.1,\n",
       "  'gameID': 'g88735741',\n",
       "  'hours_transformed': 0.13750352374993502,\n",
       "  'early_access': False,\n",
       "  'date': '2015-06-13',\n",
       "  'text': 'Throwing Discs Simulator 2000\\n21/10 -ign',\n",
       "  'userID': 'u69257437'},\n",
       " {'hours': 0.4,\n",
       "  'gameID': 'g88735741',\n",
       "  'hours_transformed': 0.48542682717024166,\n",
       "  'early_access': False,\n",
       "  'date': '2015-06-21',\n",
       "  'text': \"If you got this game in the Counter Strike Bundle then good but don't buy it if you don't get the bundle.\",\n",
       "  'userID': 'u12428190'},\n",
       " {'userID': 'u28885642',\n",
       "  'early_access': False,\n",
       "  'hours': 7.9,\n",
       "  'hours_transformed': 3.1538053360790355,\n",
       "  'found_funny': 18,\n",
       "  'text': 'buy this if you enjoy playing with bots',\n",
       "  'gameID': 'g88735741',\n",
       "  'date': '2015-06-25'},\n",
       " {'hours': 0.1,\n",
       "  'gameID': 'g88735741',\n",
       "  'hours_transformed': 0.13750352374993502,\n",
       "  'early_access': False,\n",
       "  'date': '2015-06-25',\n",
       "  'text': 'you do the same thing every game you play with discs and fall thats all.',\n",
       "  'userID': 'u67579650'},\n",
       " {'hours': 0.2,\n",
       "  'gameID': 'g88735741',\n",
       "  'hours_transformed': 0.2630344058337938,\n",
       "  'early_access': False,\n",
       "  'date': '2015-07-05',\n",
       "  'text': '11/10',\n",
       "  'userID': 'u64930933'},\n",
       " {'hours': 0.3,\n",
       "  'gameID': 'g88735741',\n",
       "  'hours_transformed': 0.37851162325372983,\n",
       "  'early_access': False,\n",
       "  'date': '2015-07-29',\n",
       "  'text': 'Super!',\n",
       "  'userID': 'u08568174'},\n",
       " {'hours': 10.9,\n",
       "  'gameID': 'g88735741',\n",
       "  'hours_transformed': 3.572889668420581,\n",
       "  'early_access': False,\n",
       "  'date': '2015-08-03',\n",
       "  'text': \"It's an extremely good game. Shame nobody really plays it anymore. Atleast earlier I found a server with 4 people in, ahaha ;)\",\n",
       "  'userID': 'u78081211'},\n",
       " {'userID': 'u01702644',\n",
       "  'early_access': False,\n",
       "  'hours': 1.8,\n",
       "  'hours_transformed': 1.4854268271702415,\n",
       "  'found_funny': 3,\n",
       "  'text': '10/10 Goblin Legs',\n",
       "  'gameID': 'g88735741',\n",
       "  'date': '2015-08-10'},\n",
       " {'hours': 0.4,\n",
       "  'text': 'no good',\n",
       "  'gameID': 'g88735741',\n",
       "  'hours_transformed': 0.48542682717024166,\n",
       "  'early_access': False,\n",
       "  'user_id': '76561197983546869',\n",
       "  'date': '2015-08-15',\n",
       "  'userID': 'u98413978'},\n",
       " {'userID': 'u33053577',\n",
       "  'early_access': False,\n",
       "  'hours': 0.2,\n",
       "  'hours_transformed': 0.2630344058337938,\n",
       "  'found_funny': 1,\n",
       "  'text': 'The people who made TRON basically ripped off everything seen in this game.',\n",
       "  'gameID': 'g88735741',\n",
       "  'date': '2015-12-12'},\n",
       " {'userID': 'u39095698',\n",
       "  'early_access': False,\n",
       "  'hours': 7.4,\n",
       "  'hours_transformed': 3.070389327891398,\n",
       "  'found_funny': 1,\n",
       "  'text': 'Ricochet is a very pleasant surprise - it is one of the funnest games I have ever played. From reviews I would\\'ve thought it\\'s just one of those \"10 minutes at a time\" and at first that was true. For the first match I played. However, very soon after that, my friends bought Ricochet as well after seeing me play so we got into a server with about 15 other people and had the fun of our lives. It is highly addictive as nicotine. The graphics are nicely done for the time and never once did I think the game is ugly. There isn\\'t much variety in the gameplay, but it is fun and you will come back to it daily. Good thing is that if you have friends this game is an ABSOLUTE BLAST and you will love it for however long you play it. One time I played the game for 100 minutes straight, until I realised I was playing too much.\\nGet this game... NOW!\\nAnd the game isn\\'t dead, as the people say. It has a great community with really funny people, and sometimes the servers can have more than 15 players, and that is ♥♥♥♥ing chaos when you don\\'t even know what is happening, but usually there\\'s about 10 people playing overall, so bring your friends over and have fun.',\n",
       "  'gameID': 'g88735741',\n",
       "  'date': '2015-12-31'},\n",
       " {'hours': 2.1,\n",
       "  'text': 'This game is like Tron, but made by Valve.  I highly recommend this game to those who love games made by Valve or to programs out there who are literal Tron fans.',\n",
       "  'gameID': 'g88735741',\n",
       "  'hours_transformed': 1.632268215499513,\n",
       "  'early_access': False,\n",
       "  'user_id': '76561198104050564',\n",
       "  'date': '2016-02-22',\n",
       "  'userID': 'u58468346'},\n",
       " {'hours': 0.2,\n",
       "  'gameID': 'g88735741',\n",
       "  'hours_transformed': 0.2630344058337938,\n",
       "  'early_access': False,\n",
       "  'date': '2016-04-30',\n",
       "  'text': 'Probably one of the worst games ever made. Basically zero depth whatsoever.',\n",
       "  'userID': 'u32427956'},\n",
       " {'userID': 'u26826528',\n",
       "  'early_access': False,\n",
       "  'hours': 0.6,\n",
       "  'hours_transformed': 0.6780719051126377,\n",
       "  'found_funny': 42,\n",
       "  'text': 'Half-Life 3?\\nNah mate\\nRicochet 2.\\nMAKE IT HAPPEN VALVE',\n",
       "  'gameID': 'g88735741',\n",
       "  'date': '2016-06-07'},\n",
       " {'hours': 2.7,\n",
       "  'text': 'you fling stuff...........gg',\n",
       "  'gameID': 'g88735741',\n",
       "  'hours_transformed': 1.8875252707415875,\n",
       "  'early_access': False,\n",
       "  'user_id': '76561198043764066',\n",
       "  'date': '2016-06-19',\n",
       "  'userID': 'u14144669'},\n",
       " {'userID': 'u21510059',\n",
       "  'early_access': False,\n",
       "  'hours': 3.1,\n",
       "  'hours_transformed': 2.035623909730721,\n",
       "  'found_funny': 27,\n",
       "  'text': 'A work of art.',\n",
       "  'gameID': 'g88735741',\n",
       "  'date': '2016-06-23'},\n",
       " {'hours': 0.1,\n",
       "  'gameID': 'g88735741',\n",
       "  'hours_transformed': 0.13750352374993502,\n",
       "  'early_access': False,\n",
       "  'date': '2016-08-12',\n",
       "  'text': 'The classic mod.',\n",
       "  'userID': 'u04495704'},\n",
       " {'userID': 'u97356595',\n",
       "  'early_access': False,\n",
       "  'hours': 0.5,\n",
       "  'hours_transformed': 0.5849625007211562,\n",
       "  'found_funny': 13,\n",
       "  'text': 'That one game we all have but never play.',\n",
       "  'gameID': 'g88735741',\n",
       "  'date': '2016-09-17'},\n",
       " {'hours': 0.1,\n",
       "  'gameID': 'g88735741',\n",
       "  'hours_transformed': 0.13750352374993502,\n",
       "  'early_access': False,\n",
       "  'date': '2016-11-11',\n",
       "  'text': \"Yeah this game doesn't have lots of players, but with a friend this game can be lots of fun.\",\n",
       "  'userID': 'u12301728'},\n",
       " {'userID': 'u27151367',\n",
       "  'early_access': False,\n",
       "  'hours': 19.9,\n",
       "  'hours_transformed': 4.38543103719352,\n",
       "  'found_funny': 2,\n",
       "  'text': \"One of valve's best games 11/10\",\n",
       "  'gameID': 'g88735741',\n",
       "  'date': '2016-11-26'},\n",
       " {'hours': 387.2,\n",
       "  'text': 'nice one',\n",
       "  'gameID': 'g88735741',\n",
       "  'hours_transformed': 8.600656307826302,\n",
       "  'early_access': False,\n",
       "  'user_id': '76561197961213605',\n",
       "  'date': '2016-11-28',\n",
       "  'userID': 'u62054025'},\n",
       " {'userID': 'u03489993',\n",
       "  'early_access': False,\n",
       "  'hours': 1.4,\n",
       "  'hours_transformed': 1.263034405833794,\n",
       "  'found_funny': 13,\n",
       "  'text': \"Ricochet is the best game ever developed! I'd pay a billion dollars just to play Ricochet for 5 minutes! If you do buy this game, be aware that the servers are always too full for you to join, so you may be sitting there for a couple hours (maybe even days) just to get into a game (an extravagant one mind you). I even have a Ricochet jump pad and light frisbee tattooed on my face! I sacrificed getting a job for my whole life just because I love this game! So please do the same and don't buy or ruin your face with some smut like any of the other games they've put out and/or published...\",\n",
       "  'gameID': 'g88735741',\n",
       "  'date': '2016-12-09'},\n",
       " {'hours': 0.2,\n",
       "  'gameID': 'g88735741',\n",
       "  'hours_transformed': 0.2630344058337938,\n",
       "  'early_access': False,\n",
       "  'date': '2017-01-14',\n",
       "  'text': 'cant find any servers...',\n",
       "  'userID': 'u01904510'},\n",
       " {'userID': 'u47240366',\n",
       "  'early_access': False,\n",
       "  'hours': 0.3,\n",
       "  'hours_transformed': 0.37851162325372983,\n",
       "  'found_funny': 3,\n",
       "  'text': 'tje only good game ever crreated by the valave coproration except for also tf2',\n",
       "  'gameID': 'g88735741',\n",
       "  'date': '2017-01-19'},\n",
       " {'hours': 1.7,\n",
       "  'text': 'If you thought no game of Valve has sin, you are right.',\n",
       "  'gameID': 'g88735741',\n",
       "  'hours_transformed': 1.4329594072761063,\n",
       "  'early_access': False,\n",
       "  'user_id': '76561198372322529',\n",
       "  'date': '2017-03-11',\n",
       "  'userID': 'u74896566'},\n",
       " {'hours': 0.2,\n",
       "  'gameID': 'g88735741',\n",
       "  'hours_transformed': 0.2630344058337938,\n",
       "  'early_access': False,\n",
       "  'date': '2017-03-25',\n",
       "  'text': 'much fun with more ppl :)',\n",
       "  'userID': 'u54101096'},\n",
       " {'hours': 112.8,\n",
       "  'gameID': 'g88735741',\n",
       "  'hours_transformed': 6.83035674741922,\n",
       "  'early_access': False,\n",
       "  'date': '2017-03-29',\n",
       "  'text': '\\u2062 \\u2062 \\u2062 \\u2062 \\u2062',\n",
       "  'userID': 'u80003693'},\n",
       " {'hours': 0.1,\n",
       "  'text': 'Dank!',\n",
       "  'gameID': 'g88735741',\n",
       "  'hours_transformed': 0.13750352374993502,\n",
       "  'early_access': False,\n",
       "  'user_id': '76561198171872845',\n",
       "  'date': '2017-03-31',\n",
       "  'userID': 'u28885951'},\n",
       " {'hours': 0.1,\n",
       "  'gameID': 'g88735741',\n",
       "  'hours_transformed': 0.13750352374993502,\n",
       "  'early_access': False,\n",
       "  'date': '2017-04-03',\n",
       "  'text': 'First day of 11th Grade. Heck yeah!  Miss my friends! :( :) ;) 😂',\n",
       "  'userID': 'u95113472'},\n",
       " {'hours': 11.8,\n",
       "  'gameID': 'g88735741',\n",
       "  'hours_transformed': 3.678071905112638,\n",
       "  'early_access': False,\n",
       "  'date': '2017-04-15',\n",
       "  'text': '10/10',\n",
       "  'userID': 'u38871576'},\n",
       " {'hours': 2.9,\n",
       "  'text': 'This game is a classic. The only problem is finding other players since the servers are usually empty.',\n",
       "  'gameID': 'g88735741',\n",
       "  'hours_transformed': 1.9634741239748859,\n",
       "  'early_access': False,\n",
       "  'user_id': '76561197984775828',\n",
       "  'date': '2017-05-07',\n",
       "  'userID': 'u09994097'},\n",
       " {'userID': 'u55309834',\n",
       "  'compensation': 'Product received for free',\n",
       "  'early_access': False,\n",
       "  'hours': 0.3,\n",
       "  'hours_transformed': 0.37851162325372983,\n",
       "  'found_funny': 15,\n",
       "  'text': 'Apart from the impudence that this game is sold for $5, it is more likely that humanity finds other people in outer space before you find players in Ricochet.\\nMetacritic:\\ntbd / 100 Metascore\\n7.5 / 10 User Score',\n",
       "  'gameID': 'g88735741',\n",
       "  'date': '2017-05-30'},\n",
       " {'userID': 'u13746071',\n",
       "  'early_access': False,\n",
       "  'hours': 0.4,\n",
       "  'hours_transformed': 0.48542682717024166,\n",
       "  'found_funny': 1,\n",
       "  'text': 'Great game',\n",
       "  'gameID': 'g88735741',\n",
       "  'date': '2017-05-30'},\n",
       " {'hours': 0.1,\n",
       "  'gameID': 'g88735741',\n",
       "  'hours_transformed': 0.13750352374993502,\n",
       "  'early_access': False,\n",
       "  'date': '2017-06-24',\n",
       "  'text': 'CS frisbee game',\n",
       "  'userID': 'u98955099'},\n",
       " {'userID': 'u50086910',\n",
       "  'early_access': False,\n",
       "  'hours': 1.1,\n",
       "  'hours_transformed': 1.070389327891398,\n",
       "  'found_funny': 1,\n",
       "  'text': 'name Jeff',\n",
       "  'gameID': 'g88735741',\n",
       "  'user_id': '76561198111520671',\n",
       "  'date': '2017-07-02'},\n",
       " {'userID': 'u45716478',\n",
       "  'early_access': False,\n",
       "  'hours': 2.2,\n",
       "  'hours_transformed': 1.6780719051126378,\n",
       "  'found_funny': 1,\n",
       "  'text': '10/10',\n",
       "  'gameID': 'g88735741',\n",
       "  'user_id': '76561198292700707',\n",
       "  'date': '2017-07-08'},\n",
       " {'hours': 0.1,\n",
       "  'text': 'You need to have used this product for at least 5 minutes before posting a review for it (3 minutes on record).\\nOK, I can wait 2 more minutes...',\n",
       "  'gameID': 'g88735741',\n",
       "  'hours_transformed': 0.13750352374993502,\n",
       "  'early_access': False,\n",
       "  'user_id': '76561197991756070',\n",
       "  'date': '2017-07-10',\n",
       "  'userID': 'u10030491'},\n",
       " {'hours': 0.1,\n",
       "  'gameID': 'g88735741',\n",
       "  'hours_transformed': 0.13750352374993502,\n",
       "  'early_access': False,\n",
       "  'date': '2017-08-06',\n",
       "  'text': 'This game is the living embodiment of perfection.',\n",
       "  'userID': 'u56770007'},\n",
       " {'hours': 6.2,\n",
       "  'gameID': 'g88735741',\n",
       "  'hours_transformed': 2.84799690655495,\n",
       "  'early_access': False,\n",
       "  'date': '2017-08-23',\n",
       "  'text': 'The game is pretty simple at its core; it\\'s a elimination/free-for-all game where you have to use your surroundings, levels and weapon - the power disc - to claim yourself the big name of the game. Moving fast and swiftly between platforms in a blitz of your enemies is vital for succession in this game. It takes some time to learn, and even longer to master. But by studying your opponents, you\\'ll pick up their tricks soon enough and give them a taste of their own medicine.\\nOne thing that I love about this game is the amount of servers that are available, over a decade after the game\\'s release. You\\'ll never have to wait for a server without open slots, allowing you to easily invite your friends to play with you. Trust me, this game is much more fun with your friends. The more players who join, the better and more intense the game becomes.\\nNow, Ricochet is truly one of this games that you can describe as \"easy to learn, difficult to master\". Its gameplay seems simple at first, as it begins with \"throw disc and hit object\" but as you progress you find more ways to play the game using its initial mechanics. First you\\'re introduced with obstacles that your discs bounce off of, allowing you to start having your discs ricochet. The obstacles then change in complexity and usefulness, as near the later parts of the game, you even start to avoid them as they can be very deadly. There are different power-ups for your discs that change the way you use them, which gives a greater feeling of accomplishment when you figure out how to use one of the power-ups to its fullest affect. Ricochet’s gameplay respects player intelligence by giving you many different ways to play. The depth of the mechanics have been compared to dwarf fortress, and although I wouldn\\'t go that far I can certainly see players sinking thousands of hours into this game trying to really figure everything out for themselves.\\nAll in All\\nis a really nice Old School SciFi Game!\\n9/10 From Me',\n",
       "  'userID': 'u97898921'},\n",
       " {'hours': 0.6,\n",
       "  'gameID': 'g88735741',\n",
       "  'hours_transformed': 0.6780719051126377,\n",
       "  'early_access': False,\n",
       "  'date': '2017-08-24',\n",
       "  'text': 'The game is dead but very fun to play..',\n",
       "  'userID': 'u56316623'},\n",
       " {'hours': 1.1,\n",
       "  'gameID': 'g88735741',\n",
       "  'hours_transformed': 1.070389327891398,\n",
       "  'early_access': False,\n",
       "  'date': '2017-09-20',\n",
       "  'text': 'Phew',\n",
       "  'userID': 'u58254457'},\n",
       " {'userID': 'u29480559',\n",
       "  'early_access': False,\n",
       "  'hours': 0.1,\n",
       "  'hours_transformed': 0.13750352374993502,\n",
       "  'found_funny': 2,\n",
       "  'text': 'this was ricoshit',\n",
       "  'gameID': 'g88735741',\n",
       "  'date': '2017-11-12'},\n",
       " {'userID': 'u92675462',\n",
       "  'early_access': False,\n",
       "  'hours': 5.6,\n",
       "  'hours_transformed': 2.7224660244710908,\n",
       "  'found_funny': 1,\n",
       "  'text': 'Tried to play this game in a Petco the other day and got escorted out by security. They thought I only put one ferret down my pants though, so I got out of there with four of those ♥♥♥♥ers for free! Man ferrets are ♥♥♥♥ing crazy and after what I experienced I can only assume that these creatures see human taint as their biggest natural predator. They ripped me up real good and turned me into a human sock puppet.\\nHey did you know ferrets arew the only species in the animal kingdom that feel regret? In the case of this game, I\\'m pretty sure all of those little ♥♥♥♥s regret being born in ♥♥♥♥ing Scotland, the only country where this♥♥♥♥♥♥won\\'t get you a court date. Then again in America we have a sport we like to call \"is this cop gonna shoot me?\" but much like basketball it\\'s not for white people, so hey I guess every country has its quirks!\\nAnyway thanks Petco for this new fur coat I just made, gonna wear it to my next crisis actor meet n greet at bohemian grove. There\\'s no ferrets in those wood so I\\'ll just stuff a a wolf down my pants and see how long it takes to eat its way through my body. LOL hail satan',\n",
       "  'gameID': 'g88735741',\n",
       "  'date': '2017-11-17'},\n",
       " {'hours': 0.2,\n",
       "  'gameID': 'g88735741',\n",
       "  'hours_transformed': 0.2630344058337938,\n",
       "  'early_access': False,\n",
       "  'date': '2017-11-22',\n",
       "  'text': 'You join a server to find yourself stranded on a tiny platform, all alone. With nothing but a frisbee, you stare into the abyss and wait. You wait for someone to join, hoping for anyone to appear, but no one ever comes. Gradually the silence becomes deafening and all hope fades till finally....AAAHHHHhhhh\\n10/10 Depression simulator.',\n",
       "  'userID': 'u75900654'},\n",
       " {'hours': 0.7,\n",
       "  'gameID': 'g88735741',\n",
       "  'hours_transformed': 0.765534746362977,\n",
       "  'early_access': False,\n",
       "  'date': '2017-12-02',\n",
       "  'text': '\\U000e0021',\n",
       "  'userID': 'u17535057'},\n",
       " {'userID': 'u46534106',\n",
       "  'early_access': False,\n",
       "  'hours': 163.1,\n",
       "  'hours_transformed': 7.35843142862635,\n",
       "  'found_funny': 1,\n",
       "  'text': 'Ricochet\\nRicochet is really fun game to play with a friend or friends. You are offered basically 1 map, but there are some different maps in the server menu. The basic map works best since there is not so many players in this game. If you manage to find a server with maybe two players in it and join with your friend you can get some really good games and fun times. I seriously mean that. Sometimes you can start a really big game even 10 people might join sometimes and that is probably more than enough to be honest. On the bigger maps more players mean more fun.\\nThis game might become a bit competitive after playing a while. It is good thing in this game. You can get some powerups which give you different \"plates\" to throw and \"plates\" do different things. For example one throws more than 1 \"plate\" at the time.\\nThis will not get boring fast. Usually there is not that much people playing so it can get boring because of that... Overall this is really fun game and you should try this. I suggest getting it on sale even though it is only 5 euros. That is because there is so little players nowdays so you do not regret buying this.\\nGrade for ricochet if it has some players: 10/10',\n",
       "  'gameID': 'g88735741',\n",
       "  'date': '2017-12-06'},\n",
       " {'userID': 'u56959833',\n",
       "  'early_access': False,\n",
       "  'hours': 1.4,\n",
       "  'hours_transformed': 1.263034405833794,\n",
       "  'found_funny': 1,\n",
       "  'text': '\\U000e0021',\n",
       "  'gameID': 'g88735741',\n",
       "  'date': '2017-12-21'},\n",
       " {'userID': 'u63521077',\n",
       "  'early_access': False,\n",
       "  'hours': 0.1,\n",
       "  'hours_transformed': 0.13750352374993502,\n",
       "  'found_funny': 2,\n",
       "  'text': 'awful. and old',\n",
       "  'gameID': 'g88735741',\n",
       "  'user_id': '76561197981042909',\n",
       "  'date': '2017-12-24'},\n",
       " {'userID': 'u04109043',\n",
       "  'early_access': False,\n",
       "  'hours': 0.6,\n",
       "  'hours_transformed': 0.6780719051126377,\n",
       "  'found_funny': 12,\n",
       "  'text': \"OMG FK THES PIEC OF SHT GAM IT IS SO GAY LIME OMGH FK YOU VLVE FR MILKING THIS SHT GSME WONT RUN ON MY PC!!!!!!!!!!!!!!!!!!!!!!!!!!!!!!!!!!!!!!!!!!!!!!!!!!!!;lkjfdshgvb;hoiadsfvhsedoif;csgdrif'oesbgwd hfjkdshfhjkdsujhfikdskjlfhjkldshjkfldsajhkfhjkedsafjkhdsahjkifdhsjkfhjkdsahjkflhjkdsfcvhbj\",\n",
       "  'gameID': 'g88735741',\n",
       "  'user_id': '76561198117093951',\n",
       "  'date': '2017-12-25'}]"
      ]
     },
     "execution_count": 11,
     "metadata": {},
     "output_type": "execute_result"
    }
   ],
   "source": [
    "reviewsPerUser = defaultdict(list)\n",
    "reviewsPerItem = defaultdict(list)\n",
    "\n",
    "for d in dataset:\n",
    "    u,i = d['userID'],d['gameID']\n",
    "    reviewsPerUser[u].append(d)\n",
    "    reviewsPerItem[i].append(d)\n",
    "    \n",
    "for u in reviewsPerUser:\n",
    "    reviewsPerUser[u].sort(key=lambda x: x['date'])\n",
    "    \n",
    "for i in reviewsPerItem:\n",
    "    reviewsPerItem[i].sort(key=lambda x: x['date'])\n",
    "reviewsPerItem['g88735741']"
   ]
  },
  {
   "cell_type": "code",
   "execution_count": 12,
   "id": "d90c72f8",
   "metadata": {},
   "outputs": [],
   "source": [
    "# def feat1(d):\n",
    "    "
   ]
  },
  {
   "cell_type": "code",
   "execution_count": 13,
   "id": "a4e6ec8d",
   "metadata": {},
   "outputs": [],
   "source": [
    "X = [[1, d['hours']] for d in dataset]\n",
    "y = [len(d['text']) for d in dataset]"
   ]
  },
  {
   "cell_type": "code",
   "execution_count": 14,
   "id": "b74b4f96",
   "metadata": {},
   "outputs": [],
   "source": [
    "mod = linear_model.LinearRegression(fit_intercept=False)\n",
    "mod.fit(X,y)\n",
    "predictions = mod.predict(X)"
   ]
  },
  {
   "cell_type": "code",
   "execution_count": 15,
   "id": "01a4668f",
   "metadata": {},
   "outputs": [],
   "source": [
    "_,p = mod.coef_"
   ]
  },
  {
   "cell_type": "code",
   "execution_count": 16,
   "id": "f32ed5c0",
   "metadata": {},
   "outputs": [],
   "source": [
    "answers['Q1'] = [p, MSE(y, predictions)]"
   ]
  },
  {
   "cell_type": "code",
   "execution_count": 17,
   "id": "7c0b7568",
   "metadata": {},
   "outputs": [],
   "source": [
    "assertFloatList(answers['Q1'], 2)"
   ]
  },
  {
   "cell_type": "code",
   "execution_count": 18,
   "id": "6e26bb75",
   "metadata": {},
   "outputs": [],
   "source": [
    "### Question 2"
   ]
  },
  {
   "cell_type": "code",
   "execution_count": 19,
   "id": "99a2aba4",
   "metadata": {},
   "outputs": [],
   "source": [
    "mid = sum([d['hours'] for d in dataset])/len(X)"
   ]
  },
  {
   "cell_type": "code",
   "execution_count": 20,
   "id": "7246aab0",
   "metadata": {},
   "outputs": [],
   "source": [
    "def feat2(d):\n",
    "    x = [1, 0, 0, 0, 0]\n",
    "    x[1] = d['hours']\n",
    "    x[2] = d['hours_transformed']\n",
    "    x[3] = math.sqrt(d['hours'])\n",
    "    x[4] = d['hours'] > mid\n",
    "    return x"
   ]
  },
  {
   "cell_type": "code",
   "execution_count": 21,
   "id": "d8786922",
   "metadata": {},
   "outputs": [],
   "source": [
    "X = [feat2(d) for d in dataset]"
   ]
  },
  {
   "cell_type": "code",
   "execution_count": 22,
   "id": "1197d1b8",
   "metadata": {},
   "outputs": [],
   "source": [
    "mod = linear_model.LinearRegression(fit_intercept=False)\n",
    "mod.fit(X,y)\n",
    "predictions = mod.predict(X)"
   ]
  },
  {
   "cell_type": "code",
   "execution_count": 23,
   "id": "1a5d7a44",
   "metadata": {},
   "outputs": [],
   "source": [
    "answers['Q2'] = MSE(y,predictions)"
   ]
  },
  {
   "cell_type": "code",
   "execution_count": 24,
   "id": "fad4744e",
   "metadata": {},
   "outputs": [],
   "source": [
    "assertFloat(answers['Q2'])"
   ]
  },
  {
   "cell_type": "code",
   "execution_count": 25,
   "id": "a690f9b9",
   "metadata": {},
   "outputs": [],
   "source": [
    "### Question 3"
   ]
  },
  {
   "cell_type": "code",
   "execution_count": 26,
   "id": "8e524edb",
   "metadata": {},
   "outputs": [],
   "source": [
    "def feat3(d):\n",
    "    x = [1, 0, 0, 0, 0, 0]\n",
    "    d = d['hours']\n",
    "    x[1] = d > 1\n",
    "    x[2] = d > 5\n",
    "    x[3] = d > 10\n",
    "    x[4] = d > 100\n",
    "    x[5] = d > 1000\n",
    "    return x"
   ]
  },
  {
   "cell_type": "code",
   "execution_count": 27,
   "id": "da7b030d",
   "metadata": {},
   "outputs": [],
   "source": [
    "X = [feat3(d) for d in dataset]"
   ]
  },
  {
   "cell_type": "code",
   "execution_count": 28,
   "id": "44943983",
   "metadata": {},
   "outputs": [],
   "source": [
    "mod = linear_model.LinearRegression(fit_intercept=False)\n",
    "mod.fit(X,y)\n",
    "predictions = mod.predict(X)"
   ]
  },
  {
   "cell_type": "code",
   "execution_count": 29,
   "id": "20b470b3",
   "metadata": {},
   "outputs": [],
   "source": [
    "answers['Q3'] = MSE(y, predictions)"
   ]
  },
  {
   "cell_type": "code",
   "execution_count": 30,
   "id": "3846bd87",
   "metadata": {},
   "outputs": [],
   "source": [
    "assertFloat(answers['Q3'])"
   ]
  },
  {
   "cell_type": "code",
   "execution_count": 31,
   "id": "69de975e",
   "metadata": {},
   "outputs": [],
   "source": [
    "### Question 4"
   ]
  },
  {
   "cell_type": "code",
   "execution_count": 32,
   "id": "67b6c515",
   "metadata": {},
   "outputs": [],
   "source": [
    "def feat4(d):\n",
    "    x = [1, 0]\n",
    "    x[1] = len(d['text'])\n",
    "    return x"
   ]
  },
  {
   "cell_type": "code",
   "execution_count": 33,
   "id": "801b7a5c",
   "metadata": {},
   "outputs": [],
   "source": [
    "X = [feat4(d) for d in dataset]\n",
    "y = [d['hours'] for d in dataset]"
   ]
  },
  {
   "cell_type": "code",
   "execution_count": 34,
   "id": "d57f7fc8",
   "metadata": {},
   "outputs": [],
   "source": [
    "mod = linear_model.LinearRegression(fit_intercept=False)\n",
    "mod.fit(X,y)\n",
    "predictions = mod.predict(X)"
   ]
  },
  {
   "cell_type": "code",
   "execution_count": 35,
   "id": "c92c3a8d",
   "metadata": {},
   "outputs": [],
   "source": [
    "mse = MSE(y, predictions)\n",
    "mae = MAE(y, predictions)"
   ]
  },
  {
   "cell_type": "code",
   "execution_count": 36,
   "id": "ab2a5ddc",
   "metadata": {},
   "outputs": [
    {
     "data": {
      "text/plain": [
       "[75735.70018273004,\n",
       " 90.35613031985152,\n",
       " 'Mae is better. Because there are many extremely large or small values in this dataset, mse is more sensitive to these values and will lead to larger results. Whereas mae is not so sensitive and can gain a more reasonable result.']"
      ]
     },
     "execution_count": 36,
     "metadata": {},
     "output_type": "execute_result"
    }
   ],
   "source": [
    "answers['Q4'] = [mse, mae, \"Mae is better. Because there are many extremely large or small values in this dataset, mse is more sensitive to these values and will lead to larger results. Whereas mae is not so sensitive and can gain a more reasonable result.\"]\n",
    "answers['Q4']"
   ]
  },
  {
   "cell_type": "code",
   "execution_count": 37,
   "id": "44b4eba2",
   "metadata": {},
   "outputs": [],
   "source": [
    "assertFloatList(answers['Q4'][:2], 2)"
   ]
  },
  {
   "cell_type": "code",
   "execution_count": 38,
   "id": "3d0ee44c",
   "metadata": {},
   "outputs": [],
   "source": [
    "### Question 5"
   ]
  },
  {
   "cell_type": "code",
   "execution_count": 39,
   "id": "c841e81f",
   "metadata": {},
   "outputs": [],
   "source": [
    "y_trans = [d['hours_transformed'] for d in dataset]"
   ]
  },
  {
   "cell_type": "code",
   "execution_count": 40,
   "id": "a8e690b6",
   "metadata": {},
   "outputs": [],
   "source": [
    "mod = linear_model.LinearRegression(fit_intercept=False)\n",
    "mod.fit(X,y_trans)\n",
    "predictions_trans = mod.predict(X)"
   ]
  },
  {
   "cell_type": "code",
   "execution_count": 41,
   "id": "6fcc3141",
   "metadata": {},
   "outputs": [],
   "source": [
    "mse_trans = MSE(y_trans, predictions_trans)"
   ]
  },
  {
   "cell_type": "code",
   "execution_count": 42,
   "id": "62185cfa",
   "metadata": {},
   "outputs": [],
   "source": [
    "predictions_untrans = [math.pow(2, p)-1 for p in predictions_trans]"
   ]
  },
  {
   "cell_type": "code",
   "execution_count": 43,
   "id": "3b0db71f",
   "metadata": {},
   "outputs": [],
   "source": [
    "mse_untrans = MSE(y, predictions_untrans)"
   ]
  },
  {
   "cell_type": "code",
   "execution_count": 44,
   "id": "9ec7c9c7",
   "metadata": {},
   "outputs": [
    {
     "data": {
      "text/plain": [
       "[5.255254235328278, 78668.56502956818]"
      ]
     },
     "execution_count": 44,
     "metadata": {},
     "output_type": "execute_result"
    }
   ],
   "source": [
    "answers['Q5'] = [mse_trans, mse_untrans]\n",
    "answers['Q5']"
   ]
  },
  {
   "cell_type": "code",
   "execution_count": 45,
   "id": "55ee62bb",
   "metadata": {},
   "outputs": [],
   "source": [
    "assertFloatList(answers['Q5'], 2)"
   ]
  },
  {
   "cell_type": "code",
   "execution_count": 46,
   "id": "0e41b3db",
   "metadata": {},
   "outputs": [],
   "source": [
    "### Question 6"
   ]
  },
  {
   "cell_type": "code",
   "execution_count": 47,
   "id": "b538f945",
   "metadata": {},
   "outputs": [],
   "source": [
    "def feat6(d):\n",
    "    x = []\n",
    "    for i in range(100):\n",
    "        x.append(0)\n",
    "    h = d['hours']\n",
    "    h = math.floor(h)\n",
    "    x[0] = 1\n",
    "    if h < 99:\n",
    "        x[h] = 1\n",
    "    else:\n",
    "        x[99] = 1\n",
    "    return x"
   ]
  },
  {
   "cell_type": "code",
   "execution_count": 48,
   "id": "b530b615",
   "metadata": {},
   "outputs": [],
   "source": [
    "X = [feat6(d) for d in dataset]\n",
    "y = [len(d['text']) for d in dataset]"
   ]
  },
  {
   "cell_type": "code",
   "execution_count": 49,
   "id": "f3a35fff",
   "metadata": {},
   "outputs": [],
   "source": [
    "Xtrain, Xvalid, Xtest = X[:len(X)//2], X[len(X)//2:(3*len(X))//4], X[(3*len(X))//4:]\n",
    "ytrain, yvalid, ytest = y[:len(X)//2], y[len(X)//2:(3*len(X))//4], y[(3*len(X))//4:]"
   ]
  },
  {
   "cell_type": "code",
   "execution_count": 50,
   "id": "c7f5d114",
   "metadata": {},
   "outputs": [],
   "source": [
    "models = {}\n",
    "mse = {}\n",
    "bestC = None\n",
    "\n",
    "for c in [1, 10, 100, 1000, 10000]:\n",
    "    mod = linear_model.Ridge(alpha = c)\n",
    "    mod.fit(Xtrain,ytrain)\n",
    "    predictions = mod.predict(Xvalid)\n",
    "    msev = MSE(yvalid, predictions)\n",
    "    models[c] = mod\n",
    "    mse[c] = msev\n",
    "\n",
    "bestmse = mse.get(1)\n",
    "for c in [1, 10, 100, 1000, 10000]:\n",
    "    if mse.get(c) < bestmse:\n",
    "        bestmse = mse.get(c)\n",
    "        bestC = c"
   ]
  },
  {
   "cell_type": "code",
   "execution_count": 51,
   "id": "f3eadfd2",
   "metadata": {},
   "outputs": [],
   "source": [
    "mod = models.get(bestC)"
   ]
  },
  {
   "cell_type": "code",
   "execution_count": 52,
   "id": "3743d2e8",
   "metadata": {},
   "outputs": [],
   "source": [
    "predictions_test = mod.predict(Xtest)"
   ]
  },
  {
   "cell_type": "code",
   "execution_count": 53,
   "id": "c3fb98df",
   "metadata": {},
   "outputs": [],
   "source": [
    "mse_valid = bestmse"
   ]
  },
  {
   "cell_type": "code",
   "execution_count": 54,
   "id": "db93b379",
   "metadata": {},
   "outputs": [],
   "source": [
    "mse_test = MSE(ytest, predictions)"
   ]
  },
  {
   "cell_type": "code",
   "execution_count": 55,
   "id": "f49bfb80",
   "metadata": {},
   "outputs": [
    {
     "data": {
      "text/plain": [
       "[10, 581925.6309447052, 566166.5709599545]"
      ]
     },
     "execution_count": 55,
     "metadata": {},
     "output_type": "execute_result"
    }
   ],
   "source": [
    "answers['Q6'] = [bestC, mse_valid, mse_test]\n",
    "answers['Q6']"
   ]
  },
  {
   "cell_type": "code",
   "execution_count": 56,
   "id": "8baaf741",
   "metadata": {},
   "outputs": [],
   "source": [
    "assertFloatList(answers['Q6'], 3)"
   ]
  },
  {
   "cell_type": "code",
   "execution_count": 57,
   "id": "f0aa5b79",
   "metadata": {},
   "outputs": [],
   "source": [
    "### Question 7"
   ]
  },
  {
   "cell_type": "code",
   "execution_count": 58,
   "id": "504f6f12",
   "metadata": {},
   "outputs": [],
   "source": [
    "times = [d['hours_transformed'] for d in dataset]\n",
    "median = statistics.median(times)"
   ]
  },
  {
   "cell_type": "code",
   "execution_count": 59,
   "id": "127534da",
   "metadata": {},
   "outputs": [],
   "source": [
    "notPlayed = [t<1 for t in times]\n",
    "nNotPlayed = sum(notPlayed)"
   ]
  },
  {
   "cell_type": "code",
   "execution_count": 60,
   "id": "7d2bed2d",
   "metadata": {},
   "outputs": [
    {
     "data": {
      "text/plain": [
       "[3.4724877714627436, 19913]"
      ]
     },
     "execution_count": 60,
     "metadata": {},
     "output_type": "execute_result"
    }
   ],
   "source": [
    "answers['Q7'] = [median, nNotPlayed]\n",
    "answers['Q7']"
   ]
  },
  {
   "cell_type": "code",
   "execution_count": 61,
   "id": "b1bdbec6",
   "metadata": {},
   "outputs": [],
   "source": [
    "assertFloatList(answers['Q7'], 2)"
   ]
  },
  {
   "cell_type": "code",
   "execution_count": 62,
   "id": "67e8ecc1",
   "metadata": {},
   "outputs": [],
   "source": [
    "### Question 8"
   ]
  },
  {
   "cell_type": "code",
   "execution_count": 63,
   "id": "30b18d0c",
   "metadata": {},
   "outputs": [],
   "source": [
    "def feat8(d):\n",
    "    return [1, len(d['text'])]"
   ]
  },
  {
   "cell_type": "code",
   "execution_count": 64,
   "id": "04607068",
   "metadata": {},
   "outputs": [],
   "source": [
    "X = [feat8(d) for d in dataset]\n",
    "y = [d['hours_transformed'] > median for d in dataset]"
   ]
  },
  {
   "cell_type": "code",
   "execution_count": 65,
   "id": "8bad8f5c",
   "metadata": {},
   "outputs": [],
   "source": [
    "mod = linear_model.LogisticRegression(class_weight='balanced')\n",
    "mod.fit(X,y)\n",
    "predictions = mod.predict(X) # Binary vector of predictions"
   ]
  },
  {
   "cell_type": "code",
   "execution_count": 66,
   "id": "44a577ea",
   "metadata": {},
   "outputs": [],
   "source": [
    "def rates(pred, y):\n",
    "    TP = sum([(p and l) for (p,l) in zip(pred, y)])\n",
    "    TN = sum([(not p and not l) for (p,l) in zip(pred, y)])\n",
    "    FP = sum([(p and not l) for (p,l) in zip(pred, y)])\n",
    "    FN = sum([(not p and l) for (p,l) in zip(pred, y)])\n",
    "    return TP, TN, FP, FN"
   ]
  },
  {
   "cell_type": "code",
   "execution_count": 67,
   "id": "6b96e14a",
   "metadata": {},
   "outputs": [],
   "source": [
    "TP, TN, FP, FN = rates(predictions, y)"
   ]
  },
  {
   "cell_type": "code",
   "execution_count": 68,
   "id": "1945455a",
   "metadata": {},
   "outputs": [],
   "source": [
    "TPR = TP / (TP + FN)\n",
    "TNR = TN / (TN + FP)\n",
    "BER = 1 - 1/2 * (TPR + TNR)"
   ]
  },
  {
   "cell_type": "code",
   "execution_count": 69,
   "id": "2f3004dc",
   "metadata": {},
   "outputs": [
    {
     "data": {
      "text/plain": [
       "[24656, 67811, 20007, 62526, 0.4725063905614679]"
      ]
     },
     "execution_count": 69,
     "metadata": {},
     "output_type": "execute_result"
    }
   ],
   "source": [
    "answers['Q8'] = [TP, TN, FP, FN, BER]\n",
    "answers['Q8']"
   ]
  },
  {
   "cell_type": "code",
   "execution_count": 70,
   "id": "f3623ff7",
   "metadata": {},
   "outputs": [],
   "source": [
    "assertFloatList(answers['Q8'], 5)"
   ]
  },
  {
   "cell_type": "code",
   "execution_count": 71,
   "id": "0f0ba96b",
   "metadata": {},
   "outputs": [],
   "source": [
    "### Question 9"
   ]
  },
  {
   "cell_type": "code",
   "execution_count": 72,
   "id": "bd646677-7753-422c-a446-758636553509",
   "metadata": {},
   "outputs": [],
   "source": [
    "scores = mod.decision_function(X)\n",
    "scoreslabels = list(zip(scores, y))\n",
    "scoreslabels.sort(reverse=True)\n",
    "sortedlabels = [x[1] for x in scoreslabels]"
   ]
  },
  {
   "cell_type": "code",
   "execution_count": 73,
   "id": "e16a39df",
   "metadata": {},
   "outputs": [],
   "source": [
    "# precision = \n",
    "# recall = "
   ]
  },
  {
   "cell_type": "code",
   "execution_count": 74,
   "id": "177fa669",
   "metadata": {},
   "outputs": [
    {
     "data": {
      "text/plain": [
       "[0.5454545454545454,\n",
       " 0.5454545454545454,\n",
       " 0.6633663366336634,\n",
       " 0.6853146853146853]"
      ]
     },
     "execution_count": 74,
     "metadata": {},
     "output_type": "execute_result"
    }
   ],
   "source": [
    "precs = []\n",
    "recs = []\n",
    "\n",
    "for i in [5, 10, 100, 1000]:\n",
    "    si = scoreslabels[i][0]\n",
    "    while scoreslabels[i][0] == si:\n",
    "        i+=1\n",
    "    precs.append(sum(sortedlabels[:i])/i)\n",
    "precs"
   ]
  },
  {
   "cell_type": "code",
   "execution_count": 75,
   "id": "8a856ebb",
   "metadata": {},
   "outputs": [],
   "source": [
    "answers['Q9'] = precs"
   ]
  },
  {
   "cell_type": "code",
   "execution_count": 76,
   "id": "6d85ba8a",
   "metadata": {},
   "outputs": [],
   "source": [
    "assertFloatList(answers['Q9'], 4)"
   ]
  },
  {
   "cell_type": "code",
   "execution_count": 77,
   "id": "26a3af12",
   "metadata": {},
   "outputs": [],
   "source": [
    "### Question 10"
   ]
  },
  {
   "cell_type": "code",
   "execution_count": 78,
   "id": "435b494f",
   "metadata": {},
   "outputs": [],
   "source": [
    "y_trans = [d['hours_transformed'] for d in dataset]"
   ]
  },
  {
   "cell_type": "code",
   "execution_count": 79,
   "id": "4e5c9662",
   "metadata": {},
   "outputs": [],
   "source": [
    "mod = linear_model.LinearRegression(fit_intercept=False)\n",
    "mod.fit(X,y_trans)\n",
    "predictions_trans = mod.predict(X)"
   ]
  },
  {
   "cell_type": "code",
   "execution_count": 80,
   "id": "7f3d58fb",
   "metadata": {},
   "outputs": [
    {
     "data": {
      "text/plain": [
       "0.4712817120511803"
      ]
     },
     "execution_count": 80,
     "metadata": {},
     "output_type": "execute_result"
    }
   ],
   "source": [
    "myth = 3.694\n",
    "predictions_thresh = [p > myth for p in predictions_trans]\n",
    "y_thresh = [y > myth for y in y_trans]\n",
    "\n",
    "TP, TN, FP, FN = rates(predictions_thresh, y)\n",
    "TPR = TP / (TP + FN)\n",
    "TNR = TN / (TN + FP)\n",
    "BER = 1 - 1/2 * (TPR + TNR)\n",
    "BER"
   ]
  },
  {
   "cell_type": "code",
   "execution_count": 81,
   "id": "7846fa89",
   "metadata": {},
   "outputs": [
    {
     "data": {
      "text/plain": [
       "[3.694, 0.4712817120511803]"
      ]
     },
     "execution_count": 81,
     "metadata": {},
     "output_type": "execute_result"
    }
   ],
   "source": [
    "answers['Q10'] = [myth, BER]\n",
    "answers['Q10']"
   ]
  },
  {
   "cell_type": "code",
   "execution_count": 82,
   "id": "9c718e55",
   "metadata": {},
   "outputs": [],
   "source": [
    "assertFloatList(answers['Q10'], 2)"
   ]
  },
  {
   "cell_type": "code",
   "execution_count": 83,
   "id": "0795d286",
   "metadata": {},
   "outputs": [],
   "source": [
    "### Question 11"
   ]
  },
  {
   "cell_type": "code",
   "execution_count": 84,
   "id": "3b66ab1e",
   "metadata": {},
   "outputs": [],
   "source": [
    "dataTrain = dataset[:int(len(dataset)*0.9)]\n",
    "dataTest = dataset[int(len(dataset)*0.9):]"
   ]
  },
  {
   "cell_type": "code",
   "execution_count": 85,
   "id": "c6cfc143-99b7-43d3-8f8c-56ceb2867b4d",
   "metadata": {},
   "outputs": [],
   "source": [
    "reviewsPerUser = defaultdict(list)\n",
    "reviewsPerItem = defaultdict(list)\n",
    "\n",
    "for d in dataTrain:\n",
    "    u,i = d['userID'],d['gameID']\n",
    "    reviewsPerUser[u].append(d)\n",
    "    reviewsPerItem[i].append(d)\n",
    "    \n",
    "for u in reviewsPerUser:\n",
    "    reviewsPerUser[u].sort(key=lambda x: x['date'])\n",
    "    \n",
    "for i in reviewsPerItem:\n",
    "    reviewsPerItem[i].sort(key=lambda x: x['date'])"
   ]
  },
  {
   "cell_type": "code",
   "execution_count": 86,
   "id": "4073cfcd-cec7-42fb-8287-7b25c0f443f9",
   "metadata": {},
   "outputs": [],
   "source": [
    "userMedian = defaultdict(set)\n",
    "itemMedian = defaultdict(set)\n",
    "\n",
    "for ru in reviewsPerUser:\n",
    "    tu = [u['hours'] for u in reviewsPerUser[ru]]\n",
    "    userMedian[ru] = statistics.median(tu)\n",
    "\n",
    "for ri in reviewsPerItem:\n",
    "    ti = [i['hours'] for i in reviewsPerItem[ri]]\n",
    "    itemMedian[ri] = statistics.median(ti)"
   ]
  },
  {
   "cell_type": "code",
   "execution_count": 87,
   "id": "416c32c6",
   "metadata": {},
   "outputs": [
    {
     "data": {
      "text/plain": [
       "[0.5, 3.9]"
      ]
     },
     "execution_count": 87,
     "metadata": {},
     "output_type": "execute_result"
    }
   ],
   "source": [
    "answers['Q11'] = [itemMedian['g35322304'], userMedian['u55351001']]\n",
    "answers['Q11']"
   ]
  },
  {
   "cell_type": "code",
   "execution_count": 88,
   "id": "841df3e0",
   "metadata": {},
   "outputs": [],
   "source": [
    "assertFloatList(answers['Q11'], 2)"
   ]
  },
  {
   "cell_type": "code",
   "execution_count": 89,
   "id": "19378bc4",
   "metadata": {},
   "outputs": [],
   "source": [
    "### Question 12"
   ]
  },
  {
   "cell_type": "code",
   "execution_count": 90,
   "id": "4d89a73a-2440-4c67-b99a-d31c32c1639a",
   "metadata": {},
   "outputs": [
    {
     "data": {
      "text/plain": [
       "10.1"
      ]
     },
     "execution_count": 90,
     "metadata": {},
     "output_type": "execute_result"
    }
   ],
   "source": [
    "hoursMed = statistics.median([d['hours'] for d in dataTrain])\n",
    "hoursMed"
   ]
  },
  {
   "cell_type": "code",
   "execution_count": 91,
   "id": "db5612a9",
   "metadata": {},
   "outputs": [],
   "source": [
    "def f12(u,i):\n",
    "    if itemMedian[i] is not None:\n",
    "        if itemMedian[i] > hoursMed:\n",
    "                return 1\n",
    "        else:\n",
    "            return 0\n",
    "    elif userMedian[u] is not None:\n",
    "        if userMedian[u] > hoursMed:\n",
    "            return 1\n",
    "        else:\n",
    "            return 0\n",
    "    else:\n",
    "        return 0"
   ]
  },
  {
   "cell_type": "code",
   "execution_count": 92,
   "id": "91c6f925",
   "metadata": {},
   "outputs": [],
   "source": [
    "preds = [f12(d['userID'], d['gameID']) for d in dataTest]"
   ]
  },
  {
   "cell_type": "code",
   "execution_count": 93,
   "id": "4b2a0191",
   "metadata": {},
   "outputs": [],
   "source": [
    "y = [1 if d['hours'] > hoursMed else 0 for d in dataTest]"
   ]
  },
  {
   "cell_type": "code",
   "execution_count": 94,
   "id": "d98b7500",
   "metadata": {},
   "outputs": [
    {
     "data": {
      "text/plain": [
       "0.7410857142857142"
      ]
     },
     "execution_count": 94,
     "metadata": {},
     "output_type": "execute_result"
    }
   ],
   "source": [
    "accuracy = [preds[i]==y[i] for i in range(len(preds))]\n",
    "accuracy = sum(accuracy)/len(accuracy)\n",
    "accuracy"
   ]
  },
  {
   "cell_type": "code",
   "execution_count": 95,
   "id": "fc9a4ae3",
   "metadata": {},
   "outputs": [],
   "source": [
    "answers['Q12'] = accuracy"
   ]
  },
  {
   "cell_type": "code",
   "execution_count": 96,
   "id": "4f139511",
   "metadata": {},
   "outputs": [],
   "source": [
    "assertFloat(answers['Q12'])"
   ]
  },
  {
   "cell_type": "code",
   "execution_count": 97,
   "id": "4b356b97",
   "metadata": {},
   "outputs": [],
   "source": [
    "### Question 13"
   ]
  },
  {
   "cell_type": "code",
   "execution_count": 98,
   "id": "483a29b8",
   "metadata": {},
   "outputs": [],
   "source": [
    "usersPerItem = defaultdict(set) # Maps an item to the users who rated it\n",
    "itemsPerUser = defaultdict(set) # Maps a user to the items that they rated\n",
    "itemNames = {}\n",
    "\n",
    "for d in dataset:\n",
    "    user,item = d['userID'], d['gameID']\n",
    "    usersPerItem[item].add(user)\n",
    "    itemsPerUser[user].add(item)"
   ]
  },
  {
   "cell_type": "code",
   "execution_count": 99,
   "id": "225d6855",
   "metadata": {},
   "outputs": [],
   "source": [
    "def Jaccard(s1, s2):\n",
    "    numer = len(s1.intersection(s2))\n",
    "    denom = len(s1.union(s2))\n",
    "    if denom == 0:\n",
    "        return 0\n",
    "    return numer / denom"
   ]
  },
  {
   "cell_type": "code",
   "execution_count": 100,
   "id": "2b0799c0",
   "metadata": {},
   "outputs": [],
   "source": [
    "def mostSimilar(i, func, N):\n",
    "    similarities = []\n",
    "    users = usersPerItem[i]\n",
    "    for i2 in usersPerItem:\n",
    "        if i2 == i: continue\n",
    "        sim = func(users, usersPerItem[i2])\n",
    "        similarities.append((sim,i2))\n",
    "    similarities.sort(reverse=True)\n",
    "    return similarities[:N]"
   ]
  },
  {
   "cell_type": "code",
   "execution_count": 101,
   "id": "5a644542",
   "metadata": {},
   "outputs": [],
   "source": [
    "ms = mostSimilar(dataset[0]['gameID'], Jaccard, 10)"
   ]
  },
  {
   "cell_type": "code",
   "execution_count": 102,
   "id": "d2202e12",
   "metadata": {},
   "outputs": [
    {
     "data": {
      "text/plain": [
       "[0.07988165680473373, 0.04390243902439024]"
      ]
     },
     "execution_count": 102,
     "metadata": {},
     "output_type": "execute_result"
    }
   ],
   "source": [
    "answers['Q13'] = [ms[0][0], ms[-1][0]]\n",
    "answers['Q13']"
   ]
  },
  {
   "cell_type": "code",
   "execution_count": 103,
   "id": "df55cc6d",
   "metadata": {},
   "outputs": [],
   "source": [
    "assertFloatList(answers['Q13'], 2)"
   ]
  },
  {
   "cell_type": "code",
   "execution_count": 104,
   "id": "a266cafb",
   "metadata": {},
   "outputs": [],
   "source": [
    "### Question 14"
   ]
  },
  {
   "cell_type": "code",
   "execution_count": 105,
   "id": "b15f52a4",
   "metadata": {},
   "outputs": [],
   "source": [
    "def mostSimilar14(i, func, N):\n",
    "    similarities = []\n",
    "    for i2 in usersPerItem:\n",
    "        if i2 == i: continue\n",
    "        sim = func(i, i2)\n",
    "        similarities.append((sim,i2))\n",
    "    similarities.sort(reverse=True)\n",
    "    return similarities[:N]"
   ]
  },
  {
   "cell_type": "code",
   "execution_count": 106,
   "id": "5325d790",
   "metadata": {},
   "outputs": [],
   "source": [
    "ratingDict = {}\n",
    "\n",
    "for d in dataset:\n",
    "    u,i = d['userID'], d['gameID']\n",
    "    lab = 1 if d['hours'] > hoursMed else -1\n",
    "    ratingDict[(u,i)] = lab"
   ]
  },
  {
   "cell_type": "code",
   "execution_count": 107,
   "id": "bdc9cf7e",
   "metadata": {},
   "outputs": [],
   "source": [
    "def Cosine(i1, i2):\n",
    "    inter = usersPerItem[i1].intersection(usersPerItem[i2])\n",
    "    numer = 0\n",
    "    denom1 = 0\n",
    "    denom2 = 0\n",
    "    for u in inter:\n",
    "        numer += ratingDict[(u,i1)]*ratingDict[(u,i2)]\n",
    "    for u in usersPerItem[i1]:\n",
    "        denom1 += ratingDict[(u,i1)]**2\n",
    "    for u in usersPerItem[i2]:\n",
    "        denom2 += ratingDict[(u,i2)]**2\n",
    "    denom = math.sqrt(denom1) * math.sqrt(denom2)\n",
    "    if denom == 0: return 0\n",
    "    return numer / denom"
   ]
  },
  {
   "cell_type": "code",
   "execution_count": 108,
   "id": "55c82dbc",
   "metadata": {},
   "outputs": [],
   "source": [
    "ms = mostSimilar14(dataset[0]['gameID'], Cosine, 10)"
   ]
  },
  {
   "cell_type": "code",
   "execution_count": 109,
   "id": "5fed0ed3",
   "metadata": {},
   "outputs": [
    {
     "data": {
      "text/plain": [
       "[0.10251693271055495, 0.061667331307041336]"
      ]
     },
     "execution_count": 109,
     "metadata": {},
     "output_type": "execute_result"
    }
   ],
   "source": [
    "answers['Q14'] = [ms[0][0], ms[-1][0]]\n",
    "answers['Q14']"
   ]
  },
  {
   "cell_type": "code",
   "execution_count": 110,
   "id": "8308daf9",
   "metadata": {},
   "outputs": [],
   "source": [
    "assertFloatList(answers['Q14'], 2)"
   ]
  },
  {
   "cell_type": "code",
   "execution_count": 111,
   "id": "61c3358a",
   "metadata": {},
   "outputs": [],
   "source": [
    "### Question 15"
   ]
  },
  {
   "cell_type": "code",
   "execution_count": 112,
   "id": "63a5a945",
   "metadata": {},
   "outputs": [],
   "source": [
    "ratingDict = {}\n",
    "\n",
    "for d in dataset:\n",
    "    u,i = d['userID'], d['gameID']\n",
    "    lab = d['hours_transformed']\n",
    "    ratingDict[(u,i)] = lab"
   ]
  },
  {
   "cell_type": "code",
   "execution_count": 113,
   "id": "95406dc3",
   "metadata": {},
   "outputs": [],
   "source": [
    "ms = mostSimilar14(dataset[0]['gameID'], Cosine, 10)"
   ]
  },
  {
   "cell_type": "code",
   "execution_count": 114,
   "id": "ae95f22d",
   "metadata": {},
   "outputs": [
    {
     "data": {
      "text/plain": [
       "[0.3301567230633555, 0.1229015423270659]"
      ]
     },
     "execution_count": 114,
     "metadata": {},
     "output_type": "execute_result"
    }
   ],
   "source": [
    "answers['Q15'] = [ms[0][0], ms[-1][0]]\n",
    "answers['Q15']"
   ]
  },
  {
   "cell_type": "code",
   "execution_count": 115,
   "id": "eac38017",
   "metadata": {},
   "outputs": [],
   "source": [
    "assertFloatList(answers['Q15'], 2)"
   ]
  },
  {
   "cell_type": "code",
   "execution_count": 116,
   "id": "436d2691",
   "metadata": {},
   "outputs": [],
   "source": [
    "f = open(\"answers_midterm.txt\", 'w')\n",
    "f.write(str(answers) + '\\n')\n",
    "f.close()"
   ]
  },
  {
   "cell_type": "code",
   "execution_count": null,
   "id": "b53acc41",
   "metadata": {},
   "outputs": [],
   "source": []
  }
 ],
 "metadata": {
  "kernelspec": {
   "display_name": "Python 3 (ipykernel)",
   "language": "python",
   "name": "python3"
  },
  "language_info": {
   "codemirror_mode": {
    "name": "ipython",
    "version": 3
   },
   "file_extension": ".py",
   "mimetype": "text/x-python",
   "name": "python",
   "nbconvert_exporter": "python",
   "pygments_lexer": "ipython3",
   "version": "3.11.6"
  }
 },
 "nbformat": 4,
 "nbformat_minor": 5
}
